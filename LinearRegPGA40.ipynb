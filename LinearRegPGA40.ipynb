{
 "cells": [
  {
   "cell_type": "code",
   "execution_count": 128,
   "metadata": {
    "executionInfo": {
     "elapsed": 777,
     "status": "ok",
     "timestamp": 1707116055196,
     "user": {
      "displayName": "Purushottam Sharma",
      "userId": "07059085683737545073"
     },
     "user_tz": -330
    },
    "id": "ZF0UAfDtW1XG"
   },
   "outputs": [],
   "source": [
    "import os\n",
    "import numpy as np\n",
    "import pandas as pd\n",
    "import matplotlib.pyplot as plt\n",
    "import seaborn as sns\n",
    "from sklearn import metrics\n",
    "from sklearn.preprocessing import MinMaxScaler, StandardScaler\n",
    "from sklearn.model_selection import train_test_split\n",
    "from sklearn.linear_model import LinearRegression"
   ]
  },
  {
   "cell_type": "code",
   "execution_count": 129,
   "metadata": {
    "colab": {
     "base_uri": "https://localhost:8080/"
    },
    "executionInfo": {
     "elapsed": 3625,
     "status": "ok",
     "timestamp": 1707116059638,
     "user": {
      "displayName": "Purushottam Sharma",
      "userId": "07059085683737545073"
     },
     "user_tz": -330
    },
    "id": "4N__GTdX128g",
    "outputId": "6cd8b18c-48de-4094-e0d3-6a824ef72dc7"
   },
   "outputs": [
    {
     "name": "stdout",
     "output_type": "stream",
     "text": [
      "Drive already mounted at /content/drive; to attempt to forcibly remount, call drive.mount(\"/content/drive\", force_remount=True).\n"
     ]
    }
   ],
   "source": [
    "from google.colab import drive\n",
    "drive.mount('/content/drive')"
   ]
  },
  {
   "cell_type": "code",
   "execution_count": 130,
   "metadata": {
    "executionInfo": {
     "elapsed": 988,
     "status": "ok",
     "timestamp": 1707116064705,
     "user": {
      "displayName": "Purushottam Sharma",
      "userId": "07059085683737545073"
     },
     "user_tz": -330
    },
    "id": "0j56tj86Xj-c"
   },
   "outputs": [],
   "source": [
    "vehdata=pd.read_csv(\"/content/drive/MyDrive/Imarticus/PGA40/Python/EDA/Car_sales.csv\")"
   ]
  },
  {
   "cell_type": "code",
   "execution_count": 131,
   "metadata": {
    "executionInfo": {
     "elapsed": 3,
     "status": "ok",
     "timestamp": 1707116065678,
     "user": {
      "displayName": "Purushottam Sharma",
      "userId": "07059085683737545073"
     },
     "user_tz": -330
    },
    "id": "dIR0ORABXtA2"
   },
   "outputs": [],
   "source": [
    "# Business Problem :- Sales prediction and the factor affecting the sale\n",
    "# Data Collection - We have it already"
   ]
  },
  {
   "cell_type": "code",
   "execution_count": 132,
   "metadata": {
    "colab": {
     "base_uri": "https://localhost:8080/"
    },
    "executionInfo": {
     "elapsed": 41,
     "status": "ok",
     "timestamp": 1707116066748,
     "user": {
      "displayName": "Purushottam Sharma",
      "userId": "07059085683737545073"
     },
     "user_tz": -330
    },
    "id": "nZTul7xxYfF1",
    "outputId": "54ad0aa5-5395-4311-a70b-a6decb20e3eb"
   },
   "outputs": [
    {
     "data": {
      "text/plain": [
       "(157, 16)"
      ]
     },
     "execution_count": 132,
     "metadata": {},
     "output_type": "execute_result"
    }
   ],
   "source": [
    "vehdata.shape"
   ]
  },
  {
   "cell_type": "code",
   "execution_count": 133,
   "metadata": {
    "colab": {
     "base_uri": "https://localhost:8080/"
    },
    "executionInfo": {
     "elapsed": 29,
     "status": "ok",
     "timestamp": 1707116066749,
     "user": {
      "displayName": "Purushottam Sharma",
      "userId": "07059085683737545073"
     },
     "user_tz": -330
    },
    "id": "6IoAfedJYiYy",
    "outputId": "bffbb44b-3633-41be-ce7d-622b855af0fa"
   },
   "outputs": [
    {
     "name": "stdout",
     "output_type": "stream",
     "text": [
      "<class 'pandas.core.frame.DataFrame'>\n",
      "RangeIndex: 157 entries, 0 to 156\n",
      "Data columns (total 16 columns):\n",
      " #   Column                  Non-Null Count  Dtype  \n",
      "---  ------                  --------------  -----  \n",
      " 0   Manufacturer            157 non-null    object \n",
      " 1   Model                   157 non-null    object \n",
      " 2   Sales_in_thousands      157 non-null    float64\n",
      " 3   four_year_resale_value  121 non-null    float64\n",
      " 4   Vehicle_type            157 non-null    object \n",
      " 5   Price_in_thousands      155 non-null    float64\n",
      " 6   Engine_size             156 non-null    float64\n",
      " 7   Horsepower              156 non-null    float64\n",
      " 8   Wheelbase               156 non-null    float64\n",
      " 9   Width                   156 non-null    float64\n",
      " 10  Length                  156 non-null    float64\n",
      " 11  Curb_weight             155 non-null    float64\n",
      " 12  Fuel_capacity           156 non-null    float64\n",
      " 13  Fuel_efficiency         154 non-null    float64\n",
      " 14  Latest_Launch           157 non-null    object \n",
      " 15  Power_perf_factor       155 non-null    float64\n",
      "dtypes: float64(12), object(4)\n",
      "memory usage: 19.8+ KB\n"
     ]
    }
   ],
   "source": [
    "vehdata.info()"
   ]
  },
  {
   "cell_type": "code",
   "execution_count": 134,
   "metadata": {
    "executionInfo": {
     "elapsed": 9,
     "status": "ok",
     "timestamp": 1707116066749,
     "user": {
      "displayName": "Purushottam Sharma",
      "userId": "07059085683737545073"
     },
     "user_tz": -330
    },
    "id": "OmvXZsJ0YqNA"
   },
   "outputs": [],
   "source": [
    "# EDA - categorical Variable - Object"
   ]
  },
  {
   "cell_type": "code",
   "execution_count": 135,
   "metadata": {
    "colab": {
     "base_uri": "https://localhost:8080/"
    },
    "executionInfo": {
     "elapsed": 8,
     "status": "ok",
     "timestamp": 1707116066749,
     "user": {
      "displayName": "Purushottam Sharma",
      "userId": "07059085683737545073"
     },
     "user_tz": -330
    },
    "id": "I2ndI640Y-DV",
    "outputId": "960d5c20-1e40-492e-d674-e82c10ad8d24"
   },
   "outputs": [
    {
     "data": {
      "text/plain": [
       "30"
      ]
     },
     "execution_count": 135,
     "metadata": {},
     "output_type": "execute_result"
    }
   ],
   "source": [
    "vehdata[\"Manufacturer\"].nunique()"
   ]
  },
  {
   "cell_type": "code",
   "execution_count": 136,
   "metadata": {
    "colab": {
     "base_uri": "https://localhost:8080/"
    },
    "executionInfo": {
     "elapsed": 24,
     "status": "ok",
     "timestamp": 1707116070188,
     "user": {
      "displayName": "Purushottam Sharma",
      "userId": "07059085683737545073"
     },
     "user_tz": -330
    },
    "id": "6kML3DP0ZFWw",
    "outputId": "18b5c78c-71b6-41a9-de2a-9ebb851aa7e1"
   },
   "outputs": [
    {
     "data": {
      "text/plain": [
       "array(['Acura', 'Audi', 'BMW', 'Buick', 'Cadillac', 'Chevrolet',\n",
       "       'Chrysler', 'Dodge', 'Ford', 'Honda', 'Hyundai', 'Infiniti',\n",
       "       'Jaguar', 'Jeep', 'Lexus', 'Lincoln', 'Mitsubishi', 'Mercury',\n",
       "       'Mercedes-B', 'Nissan', 'Oldsmobile', 'Plymouth', 'Pontiac',\n",
       "       'Porsche', 'Saab', 'Saturn', 'Subaru', 'Toyota', 'Volkswagen',\n",
       "       'Volvo'], dtype=object)"
      ]
     },
     "execution_count": 136,
     "metadata": {},
     "output_type": "execute_result"
    }
   ],
   "source": [
    "vehdata[\"Manufacturer\"].unique()"
   ]
  },
  {
   "cell_type": "code",
   "execution_count": 137,
   "metadata": {
    "colab": {
     "base_uri": "https://localhost:8080/"
    },
    "executionInfo": {
     "elapsed": 21,
     "status": "ok",
     "timestamp": 1707116070189,
     "user": {
      "displayName": "Purushottam Sharma",
      "userId": "07059085683737545073"
     },
     "user_tz": -330
    },
    "id": "8621QLfkZJSv",
    "outputId": "f3d21474-0a39-4c9b-9978-6d6d888f169b"
   },
   "outputs": [
    {
     "data": {
      "text/plain": [
       "Dodge         11\n",
       "Ford          11\n",
       "Toyota         9\n",
       "Chevrolet      9\n",
       "Mercedes-B     9\n",
       "Mitsubishi     7\n",
       "Nissan         7\n",
       "Chrysler       7\n",
       "Volvo          6\n",
       "Oldsmobile     6\n",
       "Lexus          6\n",
       "Mercury        6\n",
       "Pontiac        6\n",
       "Volkswagen     6\n",
       "Saturn         5\n",
       "Cadillac       5\n",
       "Honda          5\n",
       "Plymouth       4\n",
       "Acura          4\n",
       "Buick          4\n",
       "Audi           3\n",
       "Jeep           3\n",
       "Porsche        3\n",
       "Hyundai        3\n",
       "BMW            3\n",
       "Lincoln        3\n",
       "Saab           2\n",
       "Subaru         2\n",
       "Jaguar         1\n",
       "Infiniti       1\n",
       "Name: Manufacturer, dtype: int64"
      ]
     },
     "execution_count": 137,
     "metadata": {},
     "output_type": "execute_result"
    }
   ],
   "source": [
    "vehdata[\"Manufacturer\"].value_counts()"
   ]
  },
  {
   "cell_type": "code",
   "execution_count": 138,
   "metadata": {
    "colab": {
     "base_uri": "https://localhost:8080/",
     "height": 377
    },
    "executionInfo": {
     "elapsed": 1230,
     "status": "ok",
     "timestamp": 1707116071410,
     "user": {
      "displayName": "Purushottam Sharma",
      "userId": "07059085683737545073"
     },
     "user_tz": -330
    },
    "id": "gxJ9M5ObZQCc",
    "outputId": "230770a9-2208-4b50-9744-52e33cc1cdc4"
   },
   "outputs": [
    {
     "data": {
      "text/plain": [
       "<Axes: >"
      ]
     },
     "execution_count": 138,
     "metadata": {},
     "output_type": "execute_result"
    },
    {
     "data": {
      "image/png": "[encoded data removed]",
      "text/plain": [
       "<Figure size 800x300 with 1 Axes>"
      ]
     },
     "metadata": {},
     "output_type": "display_data"
    }
   ],
   "source": [
    "plt.figure(figsize=(8,3))\n",
    "vehdata[\"Manufacturer\"].value_counts().plot(kind=\"bar\")"
   ]
  },
  {
   "cell_type": "code",
   "execution_count": 139,
   "metadata": {
    "executionInfo": {
     "elapsed": 35,
     "status": "ok",
     "timestamp": 1707116071410,
     "user": {
      "displayName": "Purushottam Sharma",
      "userId": "07059085683737545073"
     },
     "user_tz": -330
    },
    "id": "1oy--sZTZdTN"
   },
   "outputs": [],
   "source": [
    "# Model/ Vehicle type  - do the same for these variable"
   ]
  },
  {
   "cell_type": "code",
   "execution_count": 140,
   "metadata": {
    "colab": {
     "base_uri": "https://localhost:8080/",
     "height": 425
    },
    "executionInfo": {
     "elapsed": 35,
     "status": "ok",
     "timestamp": 1707116071411,
     "user": {
      "displayName": "Purushottam Sharma",
      "userId": "07059085683737545073"
     },
     "user_tz": -330
    },
    "id": "L-4SErUdbA9l",
    "outputId": "2df9ccdf-33ee-497e-ff1e-ed87d938b271"
   },
   "outputs": [
    {
     "data": {
      "text/html": [
       "\n",
       "  <div id=\"df-9a88c465-0f47-43fa-b48a-633f9f9ac4ef\" class=\"colab-df-container\">\n",
       "    <div>\n",
       "<style scoped>\n",
       "    .dataframe tbody tr th:only-of-type {\n",
       "        vertical-align: middle;\n",
       "    }\n",
       "\n",
       "    .dataframe tbody tr th {\n",
       "        vertical-align: top;\n",
       "    }\n",
       "\n",
       "    .dataframe thead th {\n",
       "        text-align: right;\n",
       "    }\n",
       "</style>\n",
       "<table border=\"1\" class=\"dataframe\">\n",
       "  <thead>\n",
       "    <tr style=\"text-align: right;\">\n",
       "      <th></th>\n",
       "      <th>count</th>\n",
       "      <th>mean</th>\n",
       "      <th>std</th>\n",
       "      <th>min</th>\n",
       "      <th>25%</th>\n",
       "      <th>50%</th>\n",
       "      <th>75%</th>\n",
       "      <th>max</th>\n",
       "    </tr>\n",
       "  </thead>\n",
       "  <tbody>\n",
       "    <tr>\n",
       "      <th>Sales_in_thousands</th>\n",
       "      <td>157.0</td>\n",
       "      <td>52.998076</td>\n",
       "      <td>68.029422</td>\n",
       "      <td>0.110000</td>\n",
       "      <td>14.114000</td>\n",
       "      <td>29.450000</td>\n",
       "      <td>67.956000</td>\n",
       "      <td>540.561000</td>\n",
       "    </tr>\n",
       "    <tr>\n",
       "      <th>four_year_resale_value</th>\n",
       "      <td>121.0</td>\n",
       "      <td>18.072975</td>\n",
       "      <td>11.453384</td>\n",
       "      <td>5.160000</td>\n",
       "      <td>11.260000</td>\n",
       "      <td>14.180000</td>\n",
       "      <td>19.875000</td>\n",
       "      <td>67.550000</td>\n",
       "    </tr>\n",
       "    <tr>\n",
       "      <th>Price_in_thousands</th>\n",
       "      <td>155.0</td>\n",
       "      <td>27.390755</td>\n",
       "      <td>14.351653</td>\n",
       "      <td>9.235000</td>\n",
       "      <td>18.017500</td>\n",
       "      <td>22.799000</td>\n",
       "      <td>31.947500</td>\n",
       "      <td>85.500000</td>\n",
       "    </tr>\n",
       "    <tr>\n",
       "      <th>Engine_size</th>\n",
       "      <td>156.0</td>\n",
       "      <td>3.060897</td>\n",
       "      <td>1.044653</td>\n",
       "      <td>1.000000</td>\n",
       "      <td>2.300000</td>\n",
       "      <td>3.000000</td>\n",
       "      <td>3.575000</td>\n",
       "      <td>8.000000</td>\n",
       "    </tr>\n",
       "    <tr>\n",
       "      <th>Horsepower</th>\n",
       "      <td>156.0</td>\n",
       "      <td>185.948718</td>\n",
       "      <td>56.700321</td>\n",
       "      <td>55.000000</td>\n",
       "      <td>149.500000</td>\n",
       "      <td>177.500000</td>\n",
       "      <td>215.000000</td>\n",
       "      <td>450.000000</td>\n",
       "    </tr>\n",
       "    <tr>\n",
       "      <th>Wheelbase</th>\n",
       "      <td>156.0</td>\n",
       "      <td>107.487179</td>\n",
       "      <td>7.641303</td>\n",
       "      <td>92.600000</td>\n",
       "      <td>103.000000</td>\n",
       "      <td>107.000000</td>\n",
       "      <td>112.200000</td>\n",
       "      <td>138.700000</td>\n",
       "    </tr>\n",
       "    <tr>\n",
       "      <th>Width</th>\n",
       "      <td>156.0</td>\n",
       "      <td>71.150000</td>\n",
       "      <td>3.451872</td>\n",
       "      <td>62.600000</td>\n",
       "      <td>68.400000</td>\n",
       "      <td>70.550000</td>\n",
       "      <td>73.425000</td>\n",
       "      <td>79.900000</td>\n",
       "    </tr>\n",
       "    <tr>\n",
       "      <th>Length</th>\n",
       "      <td>156.0</td>\n",
       "      <td>187.343590</td>\n",
       "      <td>13.431754</td>\n",
       "      <td>149.400000</td>\n",
       "      <td>177.575000</td>\n",
       "      <td>187.900000</td>\n",
       "      <td>196.125000</td>\n",
       "      <td>224.500000</td>\n",
       "    </tr>\n",
       "    <tr>\n",
       "      <th>Curb_weight</th>\n",
       "      <td>155.0</td>\n",
       "      <td>3.378026</td>\n",
       "      <td>0.630502</td>\n",
       "      <td>1.895000</td>\n",
       "      <td>2.971000</td>\n",
       "      <td>3.342000</td>\n",
       "      <td>3.799500</td>\n",
       "      <td>5.572000</td>\n",
       "    </tr>\n",
       "    <tr>\n",
       "      <th>Fuel_capacity</th>\n",
       "      <td>156.0</td>\n",
       "      <td>17.951923</td>\n",
       "      <td>3.887921</td>\n",
       "      <td>10.300000</td>\n",
       "      <td>15.800000</td>\n",
       "      <td>17.200000</td>\n",
       "      <td>19.575000</td>\n",
       "      <td>32.000000</td>\n",
       "    </tr>\n",
       "    <tr>\n",
       "      <th>Fuel_efficiency</th>\n",
       "      <td>154.0</td>\n",
       "      <td>23.844156</td>\n",
       "      <td>4.282706</td>\n",
       "      <td>15.000000</td>\n",
       "      <td>21.000000</td>\n",
       "      <td>24.000000</td>\n",
       "      <td>26.000000</td>\n",
       "      <td>45.000000</td>\n",
       "    </tr>\n",
       "    <tr>\n",
       "      <th>Power_perf_factor</th>\n",
       "      <td>155.0</td>\n",
       "      <td>77.043591</td>\n",
       "      <td>25.142664</td>\n",
       "      <td>23.276272</td>\n",
       "      <td>60.407707</td>\n",
       "      <td>72.030917</td>\n",
       "      <td>89.414878</td>\n",
       "      <td>188.144323</td>\n",
       "    </tr>\n",
       "  </tbody>\n",
       "</table>\n",
       "</div>\n",
       "    <div class=\"colab-df-buttons\">\n",
       "\n",
       "  <div class=\"colab-df-container\">\n",
       "    <button class=\"colab-df-convert\" onclick=\"convertToInteractive('df-9a88c465-0f47-43fa-b48a-633f9f9ac4ef')\"\n",
       "            title=\"Convert this dataframe to an interactive table.\"\n",
       "            style=\"display:none;\">\n",
       "\n",
       "  <svg xmlns=\"http://www.w3.org/2000/svg\" height=\"24px\" viewBox=\"0 -960 960 960\">\n",
       "    <path d=\"M120-120v-720h720v720H120Zm60-500h600v-160H180v160Zm220 220h160v-160H400v160Zm0 220h160v-160H400v160ZM180-400h160v-160H180v160Zm440 0h160v-160H620v160ZM180-180h160v-160H180v160Zm440 0h160v-160H620v160Z\"/>\n",
       "  </svg>\n",
       "    </button>\n",
       "\n",
       "  <style>\n",
       "    .colab-df-container {\n",
       "      display:flex;\n",
       "      gap: 12px;\n",
       "    }\n",
       "\n",
       "    .colab-df-convert {\n",
       "      background-color: #E8F0FE;\n",
       "      border: none;\n",
       "      border-radius: 50%;\n",
       "      cursor: pointer;\n",
       "      display: none;\n",
       "      fill: #1967D2;\n",
       "      height: 32px;\n",
       "      padding: 0 0 0 0;\n",
       "      width: 32px;\n",
       "    }\n",
       "\n",
       "    .colab-df-convert:hover {\n",
       "      background-color: #E2EBFA;\n",
       "      box-shadow: 0px 1px 2px rgba(60, 64, 67, 0.3), 0px 1px 3px 1px rgba(60, 64, 67, 0.15);\n",
       "      fill: #174EA6;\n",
       "    }\n",
       "\n",
       "    .colab-df-buttons div {\n",
       "      margin-bottom: 4px;\n",
       "    }\n",
       "\n",
       "    [theme=dark] .colab-df-convert {\n",
       "      background-color: #3B4455;\n",
       "      fill: #D2E3FC;\n",
       "    }\n",
       "\n",
       "    [theme=dark] .colab-df-convert:hover {\n",
       "      background-color: #434B5C;\n",
       "      box-shadow: 0px 1px 3px 1px rgba(0, 0, 0, 0.15);\n",
       "      filter: drop-shadow(0px 1px 2px rgba(0, 0, 0, 0.3));\n",
       "      fill: #FFFFFF;\n",
       "    }\n",
       "  </style>\n",
       "\n",
       "    <script>\n",
       "      const buttonEl =\n",
       "        document.querySelector('#df-9a88c465-0f47-43fa-b48a-633f9f9ac4ef button.colab-df-convert');\n",
       "      buttonEl.style.display =\n",
       "        google.colab.kernel.accessAllowed ? 'block' : 'none';\n",
       "\n",
       "      async function convertToInteractive(key) {\n",
       "        const element = document.querySelector('#df-9a88c465-0f47-43fa-b48a-633f9f9ac4ef');\n",
       "        const dataTable =\n",
       "          await google.colab.kernel.invokeFunction('convertToInteractive',\n",
       "                                                    [key], {});\n",
       "        if (!dataTable) return;\n",
       "\n",
       "        const docLinkHtml = 'Like what you see? Visit the ' +\n",
       "          '<a target=\"_blank\" href=https://colab.research.google.com/notebooks/data_table.ipynb>data table notebook</a>'\n",
       "          + ' to learn more about interactive tables.';\n",
       "        element.innerHTML = '';\n",
       "        dataTable['output_type'] = 'display_data';\n",
       "        await google.colab.output.renderOutput(dataTable, element);\n",
       "        const docLink = document.createElement('div');\n",
       "        docLink.innerHTML = docLinkHtml;\n",
       "        element.appendChild(docLink);\n",
       "      }\n",
       "    </script>\n",
       "  </div>\n",
       "\n",
       "\n",
       "<div id=\"df-028ca3f0-698f-4d28-bca8-ed1690704ad1\">\n",
       "  <button class=\"colab-df-quickchart\" onclick=\"quickchart('df-028ca3f0-698f-4d28-bca8-ed1690704ad1')\"\n",
       "            title=\"Suggest charts\"\n",
       "            style=\"display:none;\">\n",
       "\n",
       "<svg xmlns=\"http://www.w3.org/2000/svg\" height=\"24px\"viewBox=\"0 0 24 24\"\n",
       "     width=\"24px\">\n",
       "    <g>\n",
       "        <path d=\"M19 3H5c-1.1 0-2 .9-2 2v14c0 1.1.9 2 2 2h14c1.1 0 2-.9 2-2V5c0-1.1-.9-2-2-2zM9 17H7v-7h2v7zm4 0h-2V7h2v10zm4 0h-2v-4h2v4z\"/>\n",
       "    </g>\n",
       "</svg>\n",
       "  </button>\n",
       "\n",
       "<style>\n",
       "  .colab-df-quickchart {\n",
       "      --bg-color: #E8F0FE;\n",
       "      --fill-color: #1967D2;\n",
       "      --hover-bg-color: #E2EBFA;\n",
       "      --hover-fill-color: #174EA6;\n",
       "      --disabled-fill-color: #AAA;\n",
       "      --disabled-bg-color: #DDD;\n",
       "  }\n",
       "\n",
       "  [theme=dark] .colab-df-quickchart {\n",
       "      --bg-color: #3B4455;\n",
       "      --fill-color: #D2E3FC;\n",
       "      --hover-bg-color: #434B5C;\n",
       "      --hover-fill-color: #FFFFFF;\n",
       "      --disabled-bg-color: #3B4455;\n",
       "      --disabled-fill-color: #666;\n",
       "  }\n",
       "\n",
       "  .colab-df-quickchart {\n",
       "    background-color: var(--bg-color);\n",
       "    border: none;\n",
       "    border-radius: 50%;\n",
       "    cursor: pointer;\n",
       "    display: none;\n",
       "    fill: var(--fill-color);\n",
       "    height: 32px;\n",
       "    padding: 0;\n",
       "    width: 32px;\n",
       "  }\n",
       "\n",
       "  .colab-df-quickchart:hover {\n",
       "    background-color: var(--hover-bg-color);\n",
       "    box-shadow: 0 1px 2px rgba(60, 64, 67, 0.3), 0 1px 3px 1px rgba(60, 64, 67, 0.15);\n",
       "    fill: var(--button-hover-fill-color);\n",
       "  }\n",
       "\n",
       "  .colab-df-quickchart-complete:disabled,\n",
       "  .colab-df-quickchart-complete:disabled:hover {\n",
       "    background-color: var(--disabled-bg-color);\n",
       "    fill: var(--disabled-fill-color);\n",
       "    box-shadow: none;\n",
       "  }\n",
       "\n",
       "  .colab-df-spinner {\n",
       "    border: 2px solid var(--fill-color);\n",
       "    border-color: transparent;\n",
       "    border-bottom-color: var(--fill-color);\n",
       "    animation:\n",
       "      spin 1s steps(1) infinite;\n",
       "  }\n",
       "\n",
       "  @keyframes spin {\n",
       "    0% {\n",
       "      border-color: transparent;\n",
       "      border-bottom-color: var(--fill-color);\n",
       "      border-left-color: var(--fill-color);\n",
       "    }\n",
       "    20% {\n",
       "      border-color: transparent;\n",
       "      border-left-color: var(--fill-color);\n",
       "      border-top-color: var(--fill-color);\n",
       "    }\n",
       "    30% {\n",
       "      border-color: transparent;\n",
       "      border-left-color: var(--fill-color);\n",
       "      border-top-color: var(--fill-color);\n",
       "      border-right-color: var(--fill-color);\n",
       "    }\n",
       "    40% {\n",
       "      border-color: transparent;\n",
       "      border-right-color: var(--fill-color);\n",
       "      border-top-color: var(--fill-color);\n",
       "    }\n",
       "    60% {\n",
       "      border-color: transparent;\n",
       "      border-right-color: var(--fill-color);\n",
       "    }\n",
       "    80% {\n",
       "      border-color: transparent;\n",
       "      border-right-color: var(--fill-color);\n",
       "      border-bottom-color: var(--fill-color);\n",
       "    }\n",
       "    90% {\n",
       "      border-color: transparent;\n",
       "      border-bottom-color: var(--fill-color);\n",
       "    }\n",
       "  }\n",
       "</style>\n",
       "\n",
       "  <script>\n",
       "    async function quickchart(key) {\n",
       "      const quickchartButtonEl =\n",
       "        document.querySelector('#' + key + ' button');\n",
       "      quickchartButtonEl.disabled = true;  // To prevent multiple clicks.\n",
       "      quickchartButtonEl.classList.add('colab-df-spinner');\n",
       "      try {\n",
       "        const charts = await google.colab.kernel.invokeFunction(\n",
       "            'suggestCharts', [key], {});\n",
       "      } catch (error) {\n",
       "        console.error('Error during call to suggestCharts:', error);\n",
       "      }\n",
       "      quickchartButtonEl.classList.remove('colab-df-spinner');\n",
       "      quickchartButtonEl.classList.add('colab-df-quickchart-complete');\n",
       "    }\n",
       "    (() => {\n",
       "      let quickchartButtonEl =\n",
       "        document.querySelector('#df-028ca3f0-698f-4d28-bca8-ed1690704ad1 button');\n",
       "      quickchartButtonEl.style.display =\n",
       "        google.colab.kernel.accessAllowed ? 'block' : 'none';\n",
       "    })();\n",
       "  </script>\n",
       "</div>\n",
       "\n",
       "    </div>\n",
       "  </div>\n"
      ],
      "text/plain": [
       "                        count        mean        std         min         25%  \\\n",
       "Sales_in_thousands      157.0   52.998076  68.029422    0.110000   14.114000   \n",
       "four_year_resale_value  121.0   18.072975  11.453384    5.160000   11.260000   \n",
       "Price_in_thousands      155.0   27.390755  14.351653    9.235000   18.017500   \n",
       "Engine_size             156.0    3.060897   1.044653    1.000000    2.300000   \n",
       "Horsepower              156.0  185.948718  56.700321   55.000000  149.500000   \n",
       "Wheelbase               156.0  107.487179   7.641303   92.600000  103.000000   \n",
       "Width                   156.0   71.150000   3.451872   62.600000   68.400000   \n",
       "Length                  156.0  187.343590  13.431754  149.400000  177.575000   \n",
       "Curb_weight             155.0    3.378026   0.630502    1.895000    2.971000   \n",
       "Fuel_capacity           156.0   17.951923   3.887921   10.300000   15.800000   \n",
       "Fuel_efficiency         154.0   23.844156   4.282706   15.000000   21.000000   \n",
       "Power_perf_factor       155.0   77.043591  25.142664   23.276272   60.407707   \n",
       "\n",
       "                               50%         75%         max  \n",
       "Sales_in_thousands       29.450000   67.956000  540.561000  \n",
       "four_year_resale_value   14.180000   19.875000   67.550000  \n",
       "Price_in_thousands       22.799000   31.947500   85.500000  \n",
       "Engine_size               3.000000    3.575000    8.000000  \n",
       "Horsepower              177.500000  215.000000  450.000000  \n",
       "Wheelbase               107.000000  112.200000  138.700000  \n",
       "Width                    70.550000   73.425000   79.900000  \n",
       "Length                  187.900000  196.125000  224.500000  \n",
       "Curb_weight               3.342000    3.799500    5.572000  \n",
       "Fuel_capacity            17.200000   19.575000   32.000000  \n",
       "Fuel_efficiency          24.000000   26.000000   45.000000  \n",
       "Power_perf_factor        72.030917   89.414878  188.144323  "
      ]
     },
     "execution_count": 140,
     "metadata": {},
     "output_type": "execute_result"
    }
   ],
   "source": [
    "vehdata.describe().T"
   ]
  },
  {
   "cell_type": "code",
   "execution_count": 141,
   "metadata": {
    "colab": {
     "base_uri": "https://localhost:8080/",
     "height": 445
    },
    "executionInfo": {
     "elapsed": 33,
     "status": "ok",
     "timestamp": 1707116071412,
     "user": {
      "displayName": "Purushottam Sharma",
      "userId": "07059085683737545073"
     },
     "user_tz": -330
    },
    "id": "j4wKgR2eeKs3",
    "outputId": "141fe09e-d5ba-4f16-bc22-125014bba6a5"
   },
   "outputs": [
    {
     "data": {
      "text/html": [
       "\n",
       "  <div id=\"df-ab0609a4-64a3-4c27-91e7-e23e92546808\" class=\"colab-df-container\">\n",
       "    <div>\n",
       "<style scoped>\n",
       "    .dataframe tbody tr th:only-of-type {\n",
       "        vertical-align: middle;\n",
       "    }\n",
       "\n",
       "    .dataframe tbody tr th {\n",
       "        vertical-align: top;\n",
       "    }\n",
       "\n",
       "    .dataframe thead th {\n",
       "        text-align: right;\n",
       "    }\n",
       "</style>\n",
       "<table border=\"1\" class=\"dataframe\">\n",
       "  <thead>\n",
       "    <tr style=\"text-align: right;\">\n",
       "      <th></th>\n",
       "      <th>count</th>\n",
       "      <th>mean</th>\n",
       "      <th>std</th>\n",
       "      <th>min</th>\n",
       "      <th>1%</th>\n",
       "      <th>2%</th>\n",
       "      <th>3%</th>\n",
       "      <th>4%</th>\n",
       "      <th>5%</th>\n",
       "      <th>10%</th>\n",
       "      <th>25%</th>\n",
       "      <th>50%</th>\n",
       "      <th>75%</th>\n",
       "      <th>90%</th>\n",
       "      <th>95%</th>\n",
       "      <th>96%</th>\n",
       "      <th>97%</th>\n",
       "      <th>98%</th>\n",
       "      <th>99%</th>\n",
       "      <th>max</th>\n",
       "    </tr>\n",
       "  </thead>\n",
       "  <tbody>\n",
       "    <tr>\n",
       "      <th>Sales_in_thousands</th>\n",
       "      <td>157.0</td>\n",
       "      <td>52.998076</td>\n",
       "      <td>68.029422</td>\n",
       "      <td>0.110000</td>\n",
       "      <td>0.93728</td>\n",
       "      <td>1.132160</td>\n",
       "      <td>1.348000</td>\n",
       "      <td>1.607600</td>\n",
       "      <td>1.870800</td>\n",
       "      <td>5.453600</td>\n",
       "      <td>14.114000</td>\n",
       "      <td>29.450000</td>\n",
       "      <td>67.956000</td>\n",
       "      <td>127.641600</td>\n",
       "      <td>185.336200</td>\n",
       "      <td>215.618400</td>\n",
       "      <td>228.290120</td>\n",
       "      <td>244.025440</td>\n",
       "      <td>260.645320</td>\n",
       "      <td>540.561000</td>\n",
       "    </tr>\n",
       "    <tr>\n",
       "      <th>four_year_resale_value</th>\n",
       "      <td>121.0</td>\n",
       "      <td>18.072975</td>\n",
       "      <td>11.453384</td>\n",
       "      <td>5.160000</td>\n",
       "      <td>6.17300</td>\n",
       "      <td>7.555000</td>\n",
       "      <td>7.750000</td>\n",
       "      <td>7.810000</td>\n",
       "      <td>7.850000</td>\n",
       "      <td>9.125000</td>\n",
       "      <td>11.260000</td>\n",
       "      <td>14.180000</td>\n",
       "      <td>19.875000</td>\n",
       "      <td>32.075000</td>\n",
       "      <td>41.250000</td>\n",
       "      <td>43.235000</td>\n",
       "      <td>53.613000</td>\n",
       "      <td>58.548000</td>\n",
       "      <td>60.220000</td>\n",
       "      <td>67.550000</td>\n",
       "    </tr>\n",
       "    <tr>\n",
       "      <th>Price_in_thousands</th>\n",
       "      <td>155.0</td>\n",
       "      <td>27.390755</td>\n",
       "      <td>14.351653</td>\n",
       "      <td>9.235000</td>\n",
       "      <td>10.23144</td>\n",
       "      <td>11.549680</td>\n",
       "      <td>11.954620</td>\n",
       "      <td>12.109200</td>\n",
       "      <td>12.469000</td>\n",
       "      <td>13.970800</td>\n",
       "      <td>18.017500</td>\n",
       "      <td>22.799000</td>\n",
       "      <td>31.947500</td>\n",
       "      <td>44.017000</td>\n",
       "      <td>55.835000</td>\n",
       "      <td>61.696800</td>\n",
       "      <td>69.709500</td>\n",
       "      <td>70.916400</td>\n",
       "      <td>78.479800</td>\n",
       "      <td>85.500000</td>\n",
       "    </tr>\n",
       "    <tr>\n",
       "      <th>Engine_size</th>\n",
       "      <td>156.0</td>\n",
       "      <td>3.060897</td>\n",
       "      <td>1.044653</td>\n",
       "      <td>1.000000</td>\n",
       "      <td>1.55500</td>\n",
       "      <td>1.800000</td>\n",
       "      <td>1.800000</td>\n",
       "      <td>1.800000</td>\n",
       "      <td>1.800000</td>\n",
       "      <td>1.950000</td>\n",
       "      <td>2.300000</td>\n",
       "      <td>3.000000</td>\n",
       "      <td>3.575000</td>\n",
       "      <td>4.600000</td>\n",
       "      <td>4.775000</td>\n",
       "      <td>5.000000</td>\n",
       "      <td>5.200000</td>\n",
       "      <td>5.380000</td>\n",
       "      <td>5.700000</td>\n",
       "      <td>8.000000</td>\n",
       "    </tr>\n",
       "    <tr>\n",
       "      <th>Horsepower</th>\n",
       "      <td>156.0</td>\n",
       "      <td>185.948718</td>\n",
       "      <td>56.700321</td>\n",
       "      <td>55.000000</td>\n",
       "      <td>96.40000</td>\n",
       "      <td>100.600000</td>\n",
       "      <td>106.650000</td>\n",
       "      <td>110.600000</td>\n",
       "      <td>114.500000</td>\n",
       "      <td>120.000000</td>\n",
       "      <td>149.500000</td>\n",
       "      <td>177.500000</td>\n",
       "      <td>215.000000</td>\n",
       "      <td>254.000000</td>\n",
       "      <td>300.000000</td>\n",
       "      <td>300.000000</td>\n",
       "      <td>300.700000</td>\n",
       "      <td>302.000000</td>\n",
       "      <td>325.750000</td>\n",
       "      <td>450.000000</td>\n",
       "    </tr>\n",
       "    <tr>\n",
       "      <th>Wheelbase</th>\n",
       "      <td>156.0</td>\n",
       "      <td>107.487179</td>\n",
       "      <td>7.641303</td>\n",
       "      <td>92.600000</td>\n",
       "      <td>92.87500</td>\n",
       "      <td>93.510000</td>\n",
       "      <td>94.500000</td>\n",
       "      <td>94.960000</td>\n",
       "      <td>95.875000</td>\n",
       "      <td>98.650000</td>\n",
       "      <td>103.000000</td>\n",
       "      <td>107.000000</td>\n",
       "      <td>112.200000</td>\n",
       "      <td>115.500000</td>\n",
       "      <td>119.250000</td>\n",
       "      <td>120.000000</td>\n",
       "      <td>120.980000</td>\n",
       "      <td>126.630000</td>\n",
       "      <td>134.375000</td>\n",
       "      <td>138.700000</td>\n",
       "    </tr>\n",
       "    <tr>\n",
       "      <th>Width</th>\n",
       "      <td>156.0</td>\n",
       "      <td>71.150000</td>\n",
       "      <td>3.451872</td>\n",
       "      <td>62.600000</td>\n",
       "      <td>66.08500</td>\n",
       "      <td>66.400000</td>\n",
       "      <td>66.465000</td>\n",
       "      <td>66.500000</td>\n",
       "      <td>66.500000</td>\n",
       "      <td>66.900000</td>\n",
       "      <td>68.400000</td>\n",
       "      <td>70.550000</td>\n",
       "      <td>73.425000</td>\n",
       "      <td>76.200000</td>\n",
       "      <td>78.200000</td>\n",
       "      <td>78.200000</td>\n",
       "      <td>78.735000</td>\n",
       "      <td>78.800000</td>\n",
       "      <td>79.190000</td>\n",
       "      <td>79.900000</td>\n",
       "    </tr>\n",
       "    <tr>\n",
       "      <th>Length</th>\n",
       "      <td>156.0</td>\n",
       "      <td>187.343590</td>\n",
       "      <td>13.431754</td>\n",
       "      <td>149.400000</td>\n",
       "      <td>154.91500</td>\n",
       "      <td>158.150000</td>\n",
       "      <td>160.855000</td>\n",
       "      <td>163.300000</td>\n",
       "      <td>163.675000</td>\n",
       "      <td>173.000000</td>\n",
       "      <td>177.575000</td>\n",
       "      <td>187.900000</td>\n",
       "      <td>196.125000</td>\n",
       "      <td>203.400000</td>\n",
       "      <td>208.500000</td>\n",
       "      <td>208.980000</td>\n",
       "      <td>212.000000</td>\n",
       "      <td>214.700000</td>\n",
       "      <td>219.305000</td>\n",
       "      <td>224.500000</td>\n",
       "    </tr>\n",
       "    <tr>\n",
       "      <th>Curb_weight</th>\n",
       "      <td>155.0</td>\n",
       "      <td>3.378026</td>\n",
       "      <td>0.630502</td>\n",
       "      <td>1.895000</td>\n",
       "      <td>2.24540</td>\n",
       "      <td>2.332560</td>\n",
       "      <td>2.356360</td>\n",
       "      <td>2.401520</td>\n",
       "      <td>2.423500</td>\n",
       "      <td>2.606200</td>\n",
       "      <td>2.971000</td>\n",
       "      <td>3.342000</td>\n",
       "      <td>3.799500</td>\n",
       "      <td>4.118600</td>\n",
       "      <td>4.389100</td>\n",
       "      <td>4.457840</td>\n",
       "      <td>4.629440</td>\n",
       "      <td>5.090440</td>\n",
       "      <td>5.396680</td>\n",
       "      <td>5.572000</td>\n",
       "    </tr>\n",
       "    <tr>\n",
       "      <th>Fuel_capacity</th>\n",
       "      <td>156.0</td>\n",
       "      <td>17.951923</td>\n",
       "      <td>3.887921</td>\n",
       "      <td>10.300000</td>\n",
       "      <td>11.90000</td>\n",
       "      <td>12.010000</td>\n",
       "      <td>12.100000</td>\n",
       "      <td>12.180000</td>\n",
       "      <td>12.500000</td>\n",
       "      <td>13.200000</td>\n",
       "      <td>15.800000</td>\n",
       "      <td>17.200000</td>\n",
       "      <td>19.575000</td>\n",
       "      <td>23.200000</td>\n",
       "      <td>25.400000</td>\n",
       "      <td>25.880000</td>\n",
       "      <td>26.000000</td>\n",
       "      <td>29.600000</td>\n",
       "      <td>30.900000</td>\n",
       "      <td>32.000000</td>\n",
       "    </tr>\n",
       "    <tr>\n",
       "      <th>Fuel_efficiency</th>\n",
       "      <td>154.0</td>\n",
       "      <td>23.844156</td>\n",
       "      <td>4.282706</td>\n",
       "      <td>15.000000</td>\n",
       "      <td>15.00000</td>\n",
       "      <td>15.000000</td>\n",
       "      <td>15.590000</td>\n",
       "      <td>16.000000</td>\n",
       "      <td>16.650000</td>\n",
       "      <td>18.300000</td>\n",
       "      <td>21.000000</td>\n",
       "      <td>24.000000</td>\n",
       "      <td>26.000000</td>\n",
       "      <td>28.700000</td>\n",
       "      <td>31.000000</td>\n",
       "      <td>31.000000</td>\n",
       "      <td>32.410000</td>\n",
       "      <td>33.000000</td>\n",
       "      <td>33.000000</td>\n",
       "      <td>45.000000</td>\n",
       "    </tr>\n",
       "    <tr>\n",
       "      <th>Power_perf_factor</th>\n",
       "      <td>155.0</td>\n",
       "      <td>77.043591</td>\n",
       "      <td>25.142664</td>\n",
       "      <td>23.276272</td>\n",
       "      <td>38.46192</td>\n",
       "      <td>40.874394</td>\n",
       "      <td>43.026679</td>\n",
       "      <td>44.363465</td>\n",
       "      <td>46.203997</td>\n",
       "      <td>48.447741</td>\n",
       "      <td>60.407707</td>\n",
       "      <td>72.030917</td>\n",
       "      <td>89.414878</td>\n",
       "      <td>108.499252</td>\n",
       "      <td>125.091513</td>\n",
       "      <td>132.932239</td>\n",
       "      <td>135.134842</td>\n",
       "      <td>139.656887</td>\n",
       "      <td>141.119461</td>\n",
       "      <td>188.144323</td>\n",
       "    </tr>\n",
       "  </tbody>\n",
       "</table>\n",
       "</div>\n",
       "    <div class=\"colab-df-buttons\">\n",
       "\n",
       "  <div class=\"colab-df-container\">\n",
       "    <button class=\"colab-df-convert\" onclick=\"convertToInteractive('df-ab0609a4-64a3-4c27-91e7-e23e92546808')\"\n",
       "            title=\"Convert this dataframe to an interactive table.\"\n",
       "            style=\"display:none;\">\n",
       "\n",
       "  <svg xmlns=\"http://www.w3.org/2000/svg\" height=\"24px\" viewBox=\"0 -960 960 960\">\n",
       "    <path d=\"M120-120v-720h720v720H120Zm60-500h600v-160H180v160Zm220 220h160v-160H400v160Zm0 220h160v-160H400v160ZM180-400h160v-160H180v160Zm440 0h160v-160H620v160ZM180-180h160v-160H180v160Zm440 0h160v-160H620v160Z\"/>\n",
       "  </svg>\n",
       "    </button>\n",
       "\n",
       "  <style>\n",
       "    .colab-df-container {\n",
       "      display:flex;\n",
       "      gap: 12px;\n",
       "    }\n",
       "\n",
       "    .colab-df-convert {\n",
       "      background-color: #E8F0FE;\n",
       "      border: none;\n",
       "      border-radius: 50%;\n",
       "      cursor: pointer;\n",
       "      display: none;\n",
       "      fill: #1967D2;\n",
       "      height: 32px;\n",
       "      padding: 0 0 0 0;\n",
       "      width: 32px;\n",
       "    }\n",
       "\n",
       "    .colab-df-convert:hover {\n",
       "      background-color: #E2EBFA;\n",
       "      box-shadow: 0px 1px 2px rgba(60, 64, 67, 0.3), 0px 1px 3px 1px rgba(60, 64, 67, 0.15);\n",
       "      fill: #174EA6;\n",
       "    }\n",
       "\n",
       "    .colab-df-buttons div {\n",
       "      margin-bottom: 4px;\n",
       "    }\n",
       "\n",
       "    [theme=dark] .colab-df-convert {\n",
       "      background-color: #3B4455;\n",
       "      fill: #D2E3FC;\n",
       "    }\n",
       "\n",
       "    [theme=dark] .colab-df-convert:hover {\n",
       "      background-color: #434B5C;\n",
       "      box-shadow: 0px 1px 3px 1px rgba(0, 0, 0, 0.15);\n",
       "      filter: drop-shadow(0px 1px 2px rgba(0, 0, 0, 0.3));\n",
       "      fill: #FFFFFF;\n",
       "    }\n",
       "  </style>\n",
       "\n",
       "    <script>\n",
       "      const buttonEl =\n",
       "        document.querySelector('#df-ab0609a4-64a3-4c27-91e7-e23e92546808 button.colab-df-convert');\n",
       "      buttonEl.style.display =\n",
       "        google.colab.kernel.accessAllowed ? 'block' : 'none';\n",
       "\n",
       "      async function convertToInteractive(key) {\n",
       "        const element = document.querySelector('#df-ab0609a4-64a3-4c27-91e7-e23e92546808');\n",
       "        const dataTable =\n",
       "          await google.colab.kernel.invokeFunction('convertToInteractive',\n",
       "                                                    [key], {});\n",
       "        if (!dataTable) return;\n",
       "\n",
       "        const docLinkHtml = 'Like what you see? Visit the ' +\n",
       "          '<a target=\"_blank\" href=https://colab.research.google.com/notebooks/data_table.ipynb>data table notebook</a>'\n",
       "          + ' to learn more about interactive tables.';\n",
       "        element.innerHTML = '';\n",
       "        dataTable['output_type'] = 'display_data';\n",
       "        await google.colab.output.renderOutput(dataTable, element);\n",
       "        const docLink = document.createElement('div');\n",
       "        docLink.innerHTML = docLinkHtml;\n",
       "        element.appendChild(docLink);\n",
       "      }\n",
       "    </script>\n",
       "  </div>\n",
       "\n",
       "\n",
       "<div id=\"df-9748d8e0-41b0-401b-8dcd-279d84ef1155\">\n",
       "  <button class=\"colab-df-quickchart\" onclick=\"quickchart('df-9748d8e0-41b0-401b-8dcd-279d84ef1155')\"\n",
       "            title=\"Suggest charts\"\n",
       "            style=\"display:none;\">\n",
       "\n",
       "<svg xmlns=\"http://www.w3.org/2000/svg\" height=\"24px\"viewBox=\"0 0 24 24\"\n",
       "     width=\"24px\">\n",
       "    <g>\n",
       "        <path d=\"M19 3H5c-1.1 0-2 .9-2 2v14c0 1.1.9 2 2 2h14c1.1 0 2-.9 2-2V5c0-1.1-.9-2-2-2zM9 17H7v-7h2v7zm4 0h-2V7h2v10zm4 0h-2v-4h2v4z\"/>\n",
       "    </g>\n",
       "</svg>\n",
       "  </button>\n",
       "\n",
       "<style>\n",
       "  .colab-df-quickchart {\n",
       "      --bg-color: #E8F0FE;\n",
       "      --fill-color: #1967D2;\n",
       "      --hover-bg-color: #E2EBFA;\n",
       "      --hover-fill-color: #174EA6;\n",
       "      --disabled-fill-color: #AAA;\n",
       "      --disabled-bg-color: #DDD;\n",
       "  }\n",
       "\n",
       "  [theme=dark] .colab-df-quickchart {\n",
       "      --bg-color: #3B4455;\n",
       "      --fill-color: #D2E3FC;\n",
       "      --hover-bg-color: #434B5C;\n",
       "      --hover-fill-color: #FFFFFF;\n",
       "      --disabled-bg-color: #3B4455;\n",
       "      --disabled-fill-color: #666;\n",
       "  }\n",
       "\n",
       "  .colab-df-quickchart {\n",
       "    background-color: var(--bg-color);\n",
       "    border: none;\n",
       "    border-radius: 50%;\n",
       "    cursor: pointer;\n",
       "    display: none;\n",
       "    fill: var(--fill-color);\n",
       "    height: 32px;\n",
       "    padding: 0;\n",
       "    width: 32px;\n",
       "  }\n",
       "\n",
       "  .colab-df-quickchart:hover {\n",
       "    background-color: var(--hover-bg-color);\n",
       "    box-shadow: 0 1px 2px rgba(60, 64, 67, 0.3), 0 1px 3px 1px rgba(60, 64, 67, 0.15);\n",
       "    fill: var(--button-hover-fill-color);\n",
       "  }\n",
       "\n",
       "  .colab-df-quickchart-complete:disabled,\n",
       "  .colab-df-quickchart-complete:disabled:hover {\n",
       "    background-color: var(--disabled-bg-color);\n",
       "    fill: var(--disabled-fill-color);\n",
       "    box-shadow: none;\n",
       "  }\n",
       "\n",
       "  .colab-df-spinner {\n",
       "    border: 2px solid var(--fill-color);\n",
       "    border-color: transparent;\n",
       "    border-bottom-color: var(--fill-color);\n",
       "    animation:\n",
       "      spin 1s steps(1) infinite;\n",
       "  }\n",
       "\n",
       "  @keyframes spin {\n",
       "    0% {\n",
       "      border-color: transparent;\n",
       "      border-bottom-color: var(--fill-color);\n",
       "      border-left-color: var(--fill-color);\n",
       "    }\n",
       "    20% {\n",
       "      border-color: transparent;\n",
       "      border-left-color: var(--fill-color);\n",
       "      border-top-color: var(--fill-color);\n",
       "    }\n",
       "    30% {\n",
       "      border-color: transparent;\n",
       "      border-left-color: var(--fill-color);\n",
       "      border-top-color: var(--fill-color);\n",
       "      border-right-color: var(--fill-color);\n",
       "    }\n",
       "    40% {\n",
       "      border-color: transparent;\n",
       "      border-right-color: var(--fill-color);\n",
       "      border-top-color: var(--fill-color);\n",
       "    }\n",
       "    60% {\n",
       "      border-color: transparent;\n",
       "      border-right-color: var(--fill-color);\n",
       "    }\n",
       "    80% {\n",
       "      border-color: transparent;\n",
       "      border-right-color: var(--fill-color);\n",
       "      border-bottom-color: var(--fill-color);\n",
       "    }\n",
       "    90% {\n",
       "      border-color: transparent;\n",
       "      border-bottom-color: var(--fill-color);\n",
       "    }\n",
       "  }\n",
       "</style>\n",
       "\n",
       "  <script>\n",
       "    async function quickchart(key) {\n",
       "      const quickchartButtonEl =\n",
       "        document.querySelector('#' + key + ' button');\n",
       "      quickchartButtonEl.disabled = true;  // To prevent multiple clicks.\n",
       "      quickchartButtonEl.classList.add('colab-df-spinner');\n",
       "      try {\n",
       "        const charts = await google.colab.kernel.invokeFunction(\n",
       "            'suggestCharts', [key], {});\n",
       "      } catch (error) {\n",
       "        console.error('Error during call to suggestCharts:', error);\n",
       "      }\n",
       "      quickchartButtonEl.classList.remove('colab-df-spinner');\n",
       "      quickchartButtonEl.classList.add('colab-df-quickchart-complete');\n",
       "    }\n",
       "    (() => {\n",
       "      let quickchartButtonEl =\n",
       "        document.querySelector('#df-9748d8e0-41b0-401b-8dcd-279d84ef1155 button');\n",
       "      quickchartButtonEl.style.display =\n",
       "        google.colab.kernel.accessAllowed ? 'block' : 'none';\n",
       "    })();\n",
       "  </script>\n",
       "</div>\n",
       "\n",
       "    </div>\n",
       "  </div>\n"
      ],
      "text/plain": [
       "                        count        mean        std         min         1%  \\\n",
       "Sales_in_thousands      157.0   52.998076  68.029422    0.110000    0.93728   \n",
       "four_year_resale_value  121.0   18.072975  11.453384    5.160000    6.17300   \n",
       "Price_in_thousands      155.0   27.390755  14.351653    9.235000   10.23144   \n",
       "Engine_size             156.0    3.060897   1.044653    1.000000    1.55500   \n",
       "Horsepower              156.0  185.948718  56.700321   55.000000   96.40000   \n",
       "Wheelbase               156.0  107.487179   7.641303   92.600000   92.87500   \n",
       "Width                   156.0   71.150000   3.451872   62.600000   66.08500   \n",
       "Length                  156.0  187.343590  13.431754  149.400000  154.91500   \n",
       "Curb_weight             155.0    3.378026   0.630502    1.895000    2.24540   \n",
       "Fuel_capacity           156.0   17.951923   3.887921   10.300000   11.90000   \n",
       "Fuel_efficiency         154.0   23.844156   4.282706   15.000000   15.00000   \n",
       "Power_perf_factor       155.0   77.043591  25.142664   23.276272   38.46192   \n",
       "\n",
       "                                2%          3%          4%          5%  \\\n",
       "Sales_in_thousands        1.132160    1.348000    1.607600    1.870800   \n",
       "four_year_resale_value    7.555000    7.750000    7.810000    7.850000   \n",
       "Price_in_thousands       11.549680   11.954620   12.109200   12.469000   \n",
       "Engine_size               1.800000    1.800000    1.800000    1.800000   \n",
       "Horsepower              100.600000  106.650000  110.600000  114.500000   \n",
       "Wheelbase                93.510000   94.500000   94.960000   95.875000   \n",
       "Width                    66.400000   66.465000   66.500000   66.500000   \n",
       "Length                  158.150000  160.855000  163.300000  163.675000   \n",
       "Curb_weight               2.332560    2.356360    2.401520    2.423500   \n",
       "Fuel_capacity            12.010000   12.100000   12.180000   12.500000   \n",
       "Fuel_efficiency          15.000000   15.590000   16.000000   16.650000   \n",
       "Power_perf_factor        40.874394   43.026679   44.363465   46.203997   \n",
       "\n",
       "                               10%         25%         50%         75%  \\\n",
       "Sales_in_thousands        5.453600   14.114000   29.450000   67.956000   \n",
       "four_year_resale_value    9.125000   11.260000   14.180000   19.875000   \n",
       "Price_in_thousands       13.970800   18.017500   22.799000   31.947500   \n",
       "Engine_size               1.950000    2.300000    3.000000    3.575000   \n",
       "Horsepower              120.000000  149.500000  177.500000  215.000000   \n",
       "Wheelbase                98.650000  103.000000  107.000000  112.200000   \n",
       "Width                    66.900000   68.400000   70.550000   73.425000   \n",
       "Length                  173.000000  177.575000  187.900000  196.125000   \n",
       "Curb_weight               2.606200    2.971000    3.342000    3.799500   \n",
       "Fuel_capacity            13.200000   15.800000   17.200000   19.575000   \n",
       "Fuel_efficiency          18.300000   21.000000   24.000000   26.000000   \n",
       "Power_perf_factor        48.447741   60.407707   72.030917   89.414878   \n",
       "\n",
       "                               90%         95%         96%         97%  \\\n",
       "Sales_in_thousands      127.641600  185.336200  215.618400  228.290120   \n",
       "four_year_resale_value   32.075000   41.250000   43.235000   53.613000   \n",
       "Price_in_thousands       44.017000   55.835000   61.696800   69.709500   \n",
       "Engine_size               4.600000    4.775000    5.000000    5.200000   \n",
       "Horsepower              254.000000  300.000000  300.000000  300.700000   \n",
       "Wheelbase               115.500000  119.250000  120.000000  120.980000   \n",
       "Width                    76.200000   78.200000   78.200000   78.735000   \n",
       "Length                  203.400000  208.500000  208.980000  212.000000   \n",
       "Curb_weight               4.118600    4.389100    4.457840    4.629440   \n",
       "Fuel_capacity            23.200000   25.400000   25.880000   26.000000   \n",
       "Fuel_efficiency          28.700000   31.000000   31.000000   32.410000   \n",
       "Power_perf_factor       108.499252  125.091513  132.932239  135.134842   \n",
       "\n",
       "                               98%         99%         max  \n",
       "Sales_in_thousands      244.025440  260.645320  540.561000  \n",
       "four_year_resale_value   58.548000   60.220000   67.550000  \n",
       "Price_in_thousands       70.916400   78.479800   85.500000  \n",
       "Engine_size               5.380000    5.700000    8.000000  \n",
       "Horsepower              302.000000  325.750000  450.000000  \n",
       "Wheelbase               126.630000  134.375000  138.700000  \n",
       "Width                    78.800000   79.190000   79.900000  \n",
       "Length                  214.700000  219.305000  224.500000  \n",
       "Curb_weight               5.090440    5.396680    5.572000  \n",
       "Fuel_capacity            29.600000   30.900000   32.000000  \n",
       "Fuel_efficiency          33.000000   33.000000   45.000000  \n",
       "Power_perf_factor       139.656887  141.119461  188.144323  "
      ]
     },
     "execution_count": 141,
     "metadata": {},
     "output_type": "execute_result"
    }
   ],
   "source": [
    "vehdata.describe(percentiles=[0.01,.02,.03,.04,.05,.1,.25,.50,.75,.90,.95, .96,.97,.98,.99]).T"
   ]
  },
  {
   "cell_type": "code",
   "execution_count": 142,
   "metadata": {
    "executionInfo": {
     "elapsed": 30,
     "status": "ok",
     "timestamp": 1707116071412,
     "user": {
      "displayName": "Purushottam Sharma",
      "userId": "07059085683737545073"
     },
     "user_tz": -330
    },
    "id": "TV0-jx8GedZk"
   },
   "outputs": [],
   "source": [
    "# sns.boxplot(data=vehdata, y=vehdata[\"Sales_in_thousands\"])\n",
    "# plt.show()"
   ]
  },
  {
   "cell_type": "code",
   "execution_count": 143,
   "metadata": {
    "executionInfo": {
     "elapsed": 24,
     "status": "ok",
     "timestamp": 1707116071413,
     "user": {
      "displayName": "Purushottam Sharma",
      "userId": "07059085683737545073"
     },
     "user_tz": -330
    },
    "id": "hjE3wx3A3A5F"
   },
   "outputs": [],
   "source": [
    "# Bivariate Analysis\n",
    "# Cat-Cat\n",
    "# num-Num\n",
    "# cat-Num"
   ]
  },
  {
   "cell_type": "code",
   "execution_count": 144,
   "metadata": {
    "colab": {
     "base_uri": "https://localhost:8080/"
    },
    "executionInfo": {
     "elapsed": 50,
     "status": "ok",
     "timestamp": 1707116072814,
     "user": {
      "displayName": "Purushottam Sharma",
      "userId": "07059085683737545073"
     },
     "user_tz": -330
    },
    "id": "e90GPvZe5Ysu",
    "outputId": "5d5ba7f5-1788-4b9d-c8e7-41d6e04c021d"
   },
   "outputs": [
    {
     "data": {
      "text/plain": [
       "Index(['Manufacturer', 'Model', 'Sales_in_thousands', 'four_year_resale_value',\n",
       "       'Vehicle_type', 'Price_in_thousands', 'Engine_size', 'Horsepower',\n",
       "       'Wheelbase', 'Width', 'Length', 'Curb_weight', 'Fuel_capacity',\n",
       "       'Fuel_efficiency', 'Latest_Launch', 'Power_perf_factor'],\n",
       "      dtype='object')"
      ]
     },
     "execution_count": 144,
     "metadata": {},
     "output_type": "execute_result"
    }
   ],
   "source": [
    "vehdata.columns"
   ]
  },
  {
   "cell_type": "code",
   "execution_count": 145,
   "metadata": {
    "executionInfo": {
     "elapsed": 48,
     "status": "ok",
     "timestamp": 1707116072815,
     "user": {
      "displayName": "Purushottam Sharma",
      "userId": "07059085683737545073"
     },
     "user_tz": -330
    },
    "id": "I8MhFIj25Ldp"
   },
   "outputs": [],
   "source": [
    "vehdata.drop(columns=[\"Model\"], inplace=True)"
   ]
  },
  {
   "cell_type": "code",
   "execution_count": 146,
   "metadata": {
    "executionInfo": {
     "elapsed": 48,
     "status": "ok",
     "timestamp": 1707116072816,
     "user": {
      "displayName": "Purushottam Sharma",
      "userId": "07059085683737545073"
     },
     "user_tz": -330
    },
    "id": "tmd8lJol5f-y"
   },
   "outputs": [],
   "source": [
    "# pd.crosstab(vehdata[\"Manufacturer\"], vehdata[\"Vehicle_type\"])"
   ]
  },
  {
   "cell_type": "code",
   "execution_count": 147,
   "metadata": {
    "executionInfo": {
     "elapsed": 47,
     "status": "ok",
     "timestamp": 1707116072816,
     "user": {
      "displayName": "Purushottam Sharma",
      "userId": "07059085683737545073"
     },
     "user_tz": -330
    },
    "id": "b0lRKqGv6fzT"
   },
   "outputs": [],
   "source": [
    "# check whether Manufacture and Vehicle type are related ?"
   ]
  },
  {
   "cell_type": "code",
   "execution_count": 148,
   "metadata": {
    "colab": {
     "base_uri": "https://localhost:8080/",
     "height": 1000
    },
    "executionInfo": {
     "elapsed": 48,
     "status": "ok",
     "timestamp": 1707116072818,
     "user": {
      "displayName": "Purushottam Sharma",
      "userId": "07059085683737545073"
     },
     "user_tz": -330
    },
    "id": "1vssVoR86smY",
    "outputId": "101f94f0-0f5a-4717-8009-d13ebec10bd6"
   },
   "outputs": [
    {
     "data": {
      "text/html": [
       "\n",
       "  <div id=\"df-13b932b3-9100-4e9e-a6cf-efc2783827dc\" class=\"colab-df-container\">\n",
       "    <div>\n",
       "<style scoped>\n",
       "    .dataframe tbody tr th:only-of-type {\n",
       "        vertical-align: middle;\n",
       "    }\n",
       "\n",
       "    .dataframe tbody tr th {\n",
       "        vertical-align: top;\n",
       "    }\n",
       "\n",
       "    .dataframe thead tr th {\n",
       "        text-align: left;\n",
       "    }\n",
       "\n",
       "    .dataframe thead tr:last-of-type th {\n",
       "        text-align: right;\n",
       "    }\n",
       "</style>\n",
       "<table border=\"1\" class=\"dataframe\">\n",
       "  <thead>\n",
       "    <tr>\n",
       "      <th></th>\n",
       "      <th colspan=\"4\" halign=\"left\">Sales_in_thousands</th>\n",
       "    </tr>\n",
       "    <tr>\n",
       "      <th></th>\n",
       "      <th>min</th>\n",
       "      <th>max</th>\n",
       "      <th>mean</th>\n",
       "      <th>count</th>\n",
       "    </tr>\n",
       "    <tr>\n",
       "      <th>Manufacturer</th>\n",
       "      <th></th>\n",
       "      <th></th>\n",
       "      <th></th>\n",
       "      <th></th>\n",
       "    </tr>\n",
       "  </thead>\n",
       "  <tbody>\n",
       "    <tr>\n",
       "      <th>Acura</th>\n",
       "      <td>8.588</td>\n",
       "      <td>39.384</td>\n",
       "      <td>19.751250</td>\n",
       "      <td>4</td>\n",
       "    </tr>\n",
       "    <tr>\n",
       "      <th>Audi</th>\n",
       "      <td>1.380</td>\n",
       "      <td>20.397</td>\n",
       "      <td>13.519000</td>\n",
       "      <td>3</td>\n",
       "    </tr>\n",
       "    <tr>\n",
       "      <th>BMW</th>\n",
       "      <td>9.231</td>\n",
       "      <td>19.747</td>\n",
       "      <td>15.501667</td>\n",
       "      <td>3</td>\n",
       "    </tr>\n",
       "    <tr>\n",
       "      <th>Buick</th>\n",
       "      <td>27.851</td>\n",
       "      <td>91.561</td>\n",
       "      <td>60.504750</td>\n",
       "      <td>4</td>\n",
       "    </tr>\n",
       "    <tr>\n",
       "      <th>Cadillac</th>\n",
       "      <td>6.536</td>\n",
       "      <td>63.729</td>\n",
       "      <td>22.435600</td>\n",
       "      <td>5</td>\n",
       "    </tr>\n",
       "    <tr>\n",
       "      <th>Chevrolet</th>\n",
       "      <td>17.947</td>\n",
       "      <td>145.519</td>\n",
       "      <td>61.596111</td>\n",
       "      <td>9</td>\n",
       "    </tr>\n",
       "    <tr>\n",
       "      <th>Chrysler</th>\n",
       "      <td>7.854</td>\n",
       "      <td>53.480</td>\n",
       "      <td>28.817286</td>\n",
       "      <td>7</td>\n",
       "    </tr>\n",
       "    <tr>\n",
       "      <th>Dodge</th>\n",
       "      <td>0.916</td>\n",
       "      <td>227.061</td>\n",
       "      <td>82.740818</td>\n",
       "      <td>11</td>\n",
       "    </tr>\n",
       "    <tr>\n",
       "      <th>Ford</th>\n",
       "      <td>35.068</td>\n",
       "      <td>540.561</td>\n",
       "      <td>183.875909</td>\n",
       "      <td>11</td>\n",
       "    </tr>\n",
       "    <tr>\n",
       "      <th>Honda</th>\n",
       "      <td>12.855</td>\n",
       "      <td>230.902</td>\n",
       "      <td>118.534800</td>\n",
       "      <td>5</td>\n",
       "    </tr>\n",
       "    <tr>\n",
       "      <th>Hyundai</th>\n",
       "      <td>29.450</td>\n",
       "      <td>66.692</td>\n",
       "      <td>45.775333</td>\n",
       "      <td>3</td>\n",
       "    </tr>\n",
       "    <tr>\n",
       "      <th>Infiniti</th>\n",
       "      <td>23.713</td>\n",
       "      <td>23.713</td>\n",
       "      <td>23.713000</td>\n",
       "      <td>1</td>\n",
       "    </tr>\n",
       "    <tr>\n",
       "      <th>Jaguar</th>\n",
       "      <td>15.467</td>\n",
       "      <td>15.467</td>\n",
       "      <td>15.467000</td>\n",
       "      <td>1</td>\n",
       "    </tr>\n",
       "    <tr>\n",
       "      <th>Jeep</th>\n",
       "      <td>55.557</td>\n",
       "      <td>157.040</td>\n",
       "      <td>97.717667</td>\n",
       "      <td>3</td>\n",
       "    </tr>\n",
       "    <tr>\n",
       "      <th>Lexus</th>\n",
       "      <td>3.334</td>\n",
       "      <td>51.238</td>\n",
       "      <td>17.807167</td>\n",
       "      <td>6</td>\n",
       "    </tr>\n",
       "    <tr>\n",
       "      <th>Lincoln</th>\n",
       "      <td>13.798</td>\n",
       "      <td>48.911</td>\n",
       "      <td>28.544667</td>\n",
       "      <td>3</td>\n",
       "    </tr>\n",
       "    <tr>\n",
       "      <th>Mercedes-B</th>\n",
       "      <td>0.954</td>\n",
       "      <td>28.976</td>\n",
       "      <td>13.013889</td>\n",
       "      <td>9</td>\n",
       "    </tr>\n",
       "    <tr>\n",
       "      <th>Mercury</th>\n",
       "      <td>14.351</td>\n",
       "      <td>81.174</td>\n",
       "      <td>39.666500</td>\n",
       "      <td>6</td>\n",
       "    </tr>\n",
       "    <tr>\n",
       "      <th>Mitsubishi</th>\n",
       "      <td>0.110</td>\n",
       "      <td>55.616</td>\n",
       "      <td>25.842143</td>\n",
       "      <td>7</td>\n",
       "    </tr>\n",
       "    <tr>\n",
       "      <th>Nissan</th>\n",
       "      <td>27.308</td>\n",
       "      <td>88.094</td>\n",
       "      <td>57.090714</td>\n",
       "      <td>7</td>\n",
       "    </tr>\n",
       "    <tr>\n",
       "      <th>Oldsmobile</th>\n",
       "      <td>1.112</td>\n",
       "      <td>80.255</td>\n",
       "      <td>29.831500</td>\n",
       "      <td>6</td>\n",
       "    </tr>\n",
       "    <tr>\n",
       "      <th>Plymouth</th>\n",
       "      <td>1.872</td>\n",
       "      <td>32.734</td>\n",
       "      <td>16.000250</td>\n",
       "      <td>4</td>\n",
       "    </tr>\n",
       "    <tr>\n",
       "      <th>Pontiac</th>\n",
       "      <td>19.911</td>\n",
       "      <td>131.097</td>\n",
       "      <td>61.755667</td>\n",
       "      <td>6</td>\n",
       "    </tr>\n",
       "    <tr>\n",
       "      <th>Porsche</th>\n",
       "      <td>1.280</td>\n",
       "      <td>8.982</td>\n",
       "      <td>4.042667</td>\n",
       "      <td>3</td>\n",
       "    </tr>\n",
       "    <tr>\n",
       "      <th>Saab</th>\n",
       "      <td>9.191</td>\n",
       "      <td>12.115</td>\n",
       "      <td>10.653000</td>\n",
       "      <td>2</td>\n",
       "    </tr>\n",
       "    <tr>\n",
       "      <th>Saturn</th>\n",
       "      <td>5.223</td>\n",
       "      <td>80.620</td>\n",
       "      <td>33.770000</td>\n",
       "      <td>5</td>\n",
       "    </tr>\n",
       "    <tr>\n",
       "      <th>Subaru</th>\n",
       "      <td>33.028</td>\n",
       "      <td>47.107</td>\n",
       "      <td>40.067500</td>\n",
       "      <td>2</td>\n",
       "    </tr>\n",
       "    <tr>\n",
       "      <th>Toyota</th>\n",
       "      <td>9.835</td>\n",
       "      <td>247.994</td>\n",
       "      <td>82.245000</td>\n",
       "      <td>9</td>\n",
       "    </tr>\n",
       "    <tr>\n",
       "      <th>Volkswagen</th>\n",
       "      <td>5.596</td>\n",
       "      <td>83.721</td>\n",
       "      <td>34.868667</td>\n",
       "      <td>6</td>\n",
       "    </tr>\n",
       "    <tr>\n",
       "      <th>Volvo</th>\n",
       "      <td>3.493</td>\n",
       "      <td>18.969</td>\n",
       "      <td>12.623333</td>\n",
       "      <td>6</td>\n",
       "    </tr>\n",
       "  </tbody>\n",
       "</table>\n",
       "</div>\n",
       "    <div class=\"colab-df-buttons\">\n",
       "\n",
       "  <div class=\"colab-df-container\">\n",
       "    <button class=\"colab-df-convert\" onclick=\"convertToInteractive('df-13b932b3-9100-4e9e-a6cf-efc2783827dc')\"\n",
       "            title=\"Convert this dataframe to an interactive table.\"\n",
       "            style=\"display:none;\">\n",
       "\n",
       "  <svg xmlns=\"http://www.w3.org/2000/svg\" height=\"24px\" viewBox=\"0 -960 960 960\">\n",
       "    <path d=\"M120-120v-720h720v720H120Zm60-500h600v-160H180v160Zm220 220h160v-160H400v160Zm0 220h160v-160H400v160ZM180-400h160v-160H180v160Zm440 0h160v-160H620v160ZM180-180h160v-160H180v160Zm440 0h160v-160H620v160Z\"/>\n",
       "  </svg>\n",
       "    </button>\n",
       "\n",
       "  <style>\n",
       "    .colab-df-container {\n",
       "      display:flex;\n",
       "      gap: 12px;\n",
       "    }\n",
       "\n",
       "    .colab-df-convert {\n",
       "      background-color: #E8F0FE;\n",
       "      border: none;\n",
       "      border-radius: 50%;\n",
       "      cursor: pointer;\n",
       "      display: none;\n",
       "      fill: #1967D2;\n",
       "      height: 32px;\n",
       "      padding: 0 0 0 0;\n",
       "      width: 32px;\n",
       "    }\n",
       "\n",
       "    .colab-df-convert:hover {\n",
       "      background-color: #E2EBFA;\n",
       "      box-shadow: 0px 1px 2px rgba(60, 64, 67, 0.3), 0px 1px 3px 1px rgba(60, 64, 67, 0.15);\n",
       "      fill: #174EA6;\n",
       "    }\n",
       "\n",
       "    .colab-df-buttons div {\n",
       "      margin-bottom: 4px;\n",
       "    }\n",
       "\n",
       "    [theme=dark] .colab-df-convert {\n",
       "      background-color: #3B4455;\n",
       "      fill: #D2E3FC;\n",
       "    }\n",
       "\n",
       "    [theme=dark] .colab-df-convert:hover {\n",
       "      background-color: #434B5C;\n",
       "      box-shadow: 0px 1px 3px 1px rgba(0, 0, 0, 0.15);\n",
       "      filter: drop-shadow(0px 1px 2px rgba(0, 0, 0, 0.3));\n",
       "      fill: #FFFFFF;\n",
       "    }\n",
       "  </style>\n",
       "\n",
       "    <script>\n",
       "      const buttonEl =\n",
       "        document.querySelector('#df-13b932b3-9100-4e9e-a6cf-efc2783827dc button.colab-df-convert');\n",
       "      buttonEl.style.display =\n",
       "        google.colab.kernel.accessAllowed ? 'block' : 'none';\n",
       "\n",
       "      async function convertToInteractive(key) {\n",
       "        const element = document.querySelector('#df-13b932b3-9100-4e9e-a6cf-efc2783827dc');\n",
       "        const dataTable =\n",
       "          await google.colab.kernel.invokeFunction('convertToInteractive',\n",
       "                                                    [key], {});\n",
       "        if (!dataTable) return;\n",
       "\n",
       "        const docLinkHtml = 'Like what you see? Visit the ' +\n",
       "          '<a target=\"_blank\" href=https://colab.research.google.com/notebooks/data_table.ipynb>data table notebook</a>'\n",
       "          + ' to learn more about interactive tables.';\n",
       "        element.innerHTML = '';\n",
       "        dataTable['output_type'] = 'display_data';\n",
       "        await google.colab.output.renderOutput(dataTable, element);\n",
       "        const docLink = document.createElement('div');\n",
       "        docLink.innerHTML = docLinkHtml;\n",
       "        element.appendChild(docLink);\n",
       "      }\n",
       "    </script>\n",
       "  </div>\n",
       "\n",
       "\n",
       "<div id=\"df-94e3ced5-aebc-41f8-a3ca-06af64a007d7\">\n",
       "  <button class=\"colab-df-quickchart\" onclick=\"quickchart('df-94e3ced5-aebc-41f8-a3ca-06af64a007d7')\"\n",
       "            title=\"Suggest charts\"\n",
       "            style=\"display:none;\">\n",
       "\n",
       "<svg xmlns=\"http://www.w3.org/2000/svg\" height=\"24px\"viewBox=\"0 0 24 24\"\n",
       "     width=\"24px\">\n",
       "    <g>\n",
       "        <path d=\"M19 3H5c-1.1 0-2 .9-2 2v14c0 1.1.9 2 2 2h14c1.1 0 2-.9 2-2V5c0-1.1-.9-2-2-2zM9 17H7v-7h2v7zm4 0h-2V7h2v10zm4 0h-2v-4h2v4z\"/>\n",
       "    </g>\n",
       "</svg>\n",
       "  </button>\n",
       "\n",
       "<style>\n",
       "  .colab-df-quickchart {\n",
       "      --bg-color: #E8F0FE;\n",
       "      --fill-color: #1967D2;\n",
       "      --hover-bg-color: #E2EBFA;\n",
       "      --hover-fill-color: #174EA6;\n",
       "      --disabled-fill-color: #AAA;\n",
       "      --disabled-bg-color: #DDD;\n",
       "  }\n",
       "\n",
       "  [theme=dark] .colab-df-quickchart {\n",
       "      --bg-color: #3B4455;\n",
       "      --fill-color: #D2E3FC;\n",
       "      --hover-bg-color: #434B5C;\n",
       "      --hover-fill-color: #FFFFFF;\n",
       "      --disabled-bg-color: #3B4455;\n",
       "      --disabled-fill-color: #666;\n",
       "  }\n",
       "\n",
       "  .colab-df-quickchart {\n",
       "    background-color: var(--bg-color);\n",
       "    border: none;\n",
       "    border-radius: 50%;\n",
       "    cursor: pointer;\n",
       "    display: none;\n",
       "    fill: var(--fill-color);\n",
       "    height: 32px;\n",
       "    padding: 0;\n",
       "    width: 32px;\n",
       "  }\n",
       "\n",
       "  .colab-df-quickchart:hover {\n",
       "    background-color: var(--hover-bg-color);\n",
       "    box-shadow: 0 1px 2px rgba(60, 64, 67, 0.3), 0 1px 3px 1px rgba(60, 64, 67, 0.15);\n",
       "    fill: var(--button-hover-fill-color);\n",
       "  }\n",
       "\n",
       "  .colab-df-quickchart-complete:disabled,\n",
       "  .colab-df-quickchart-complete:disabled:hover {\n",
       "    background-color: var(--disabled-bg-color);\n",
       "    fill: var(--disabled-fill-color);\n",
       "    box-shadow: none;\n",
       "  }\n",
       "\n",
       "  .colab-df-spinner {\n",
       "    border: 2px solid var(--fill-color);\n",
       "    border-color: transparent;\n",
       "    border-bottom-color: var(--fill-color);\n",
       "    animation:\n",
       "      spin 1s steps(1) infinite;\n",
       "  }\n",
       "\n",
       "  @keyframes spin {\n",
       "    0% {\n",
       "      border-color: transparent;\n",
       "      border-bottom-color: var(--fill-color);\n",
       "      border-left-color: var(--fill-color);\n",
       "    }\n",
       "    20% {\n",
       "      border-color: transparent;\n",
       "      border-left-color: var(--fill-color);\n",
       "      border-top-color: var(--fill-color);\n",
       "    }\n",
       "    30% {\n",
       "      border-color: transparent;\n",
       "      border-left-color: var(--fill-color);\n",
       "      border-top-color: var(--fill-color);\n",
       "      border-right-color: var(--fill-color);\n",
       "    }\n",
       "    40% {\n",
       "      border-color: transparent;\n",
       "      border-right-color: var(--fill-color);\n",
       "      border-top-color: var(--fill-color);\n",
       "    }\n",
       "    60% {\n",
       "      border-color: transparent;\n",
       "      border-right-color: var(--fill-color);\n",
       "    }\n",
       "    80% {\n",
       "      border-color: transparent;\n",
       "      border-right-color: var(--fill-color);\n",
       "      border-bottom-color: var(--fill-color);\n",
       "    }\n",
       "    90% {\n",
       "      border-color: transparent;\n",
       "      border-bottom-color: var(--fill-color);\n",
       "    }\n",
       "  }\n",
       "</style>\n",
       "\n",
       "  <script>\n",
       "    async function quickchart(key) {\n",
       "      const quickchartButtonEl =\n",
       "        document.querySelector('#' + key + ' button');\n",
       "      quickchartButtonEl.disabled = true;  // To prevent multiple clicks.\n",
       "      quickchartButtonEl.classList.add('colab-df-spinner');\n",
       "      try {\n",
       "        const charts = await google.colab.kernel.invokeFunction(\n",
       "            'suggestCharts', [key], {});\n",
       "      } catch (error) {\n",
       "        console.error('Error during call to suggestCharts:', error);\n",
       "      }\n",
       "      quickchartButtonEl.classList.remove('colab-df-spinner');\n",
       "      quickchartButtonEl.classList.add('colab-df-quickchart-complete');\n",
       "    }\n",
       "    (() => {\n",
       "      let quickchartButtonEl =\n",
       "        document.querySelector('#df-94e3ced5-aebc-41f8-a3ca-06af64a007d7 button');\n",
       "      quickchartButtonEl.style.display =\n",
       "        google.colab.kernel.accessAllowed ? 'block' : 'none';\n",
       "    })();\n",
       "  </script>\n",
       "</div>\n",
       "\n",
       "    </div>\n",
       "  </div>\n"
      ],
      "text/plain": [
       "             Sales_in_thousands                           \n",
       "                            min      max        mean count\n",
       "Manufacturer                                              \n",
       "Acura                     8.588   39.384   19.751250     4\n",
       "Audi                      1.380   20.397   13.519000     3\n",
       "BMW                       9.231   19.747   15.501667     3\n",
       "Buick                    27.851   91.561   60.504750     4\n",
       "Cadillac                  6.536   63.729   22.435600     5\n",
       "Chevrolet                17.947  145.519   61.596111     9\n",
       "Chrysler                  7.854   53.480   28.817286     7\n",
       "Dodge                     0.916  227.061   82.740818    11\n",
       "Ford                     35.068  540.561  183.875909    11\n",
       "Honda                    12.855  230.902  118.534800     5\n",
       "Hyundai                  29.450   66.692   45.775333     3\n",
       "Infiniti                 23.713   23.713   23.713000     1\n",
       "Jaguar                   15.467   15.467   15.467000     1\n",
       "Jeep                     55.557  157.040   97.717667     3\n",
       "Lexus                     3.334   51.238   17.807167     6\n",
       "Lincoln                  13.798   48.911   28.544667     3\n",
       "Mercedes-B                0.954   28.976   13.013889     9\n",
       "Mercury                  14.351   81.174   39.666500     6\n",
       "Mitsubishi                0.110   55.616   25.842143     7\n",
       "Nissan                   27.308   88.094   57.090714     7\n",
       "Oldsmobile                1.112   80.255   29.831500     6\n",
       "Plymouth                  1.872   32.734   16.000250     4\n",
       "Pontiac                  19.911  131.097   61.755667     6\n",
       "Porsche                   1.280    8.982    4.042667     3\n",
       "Saab                      9.191   12.115   10.653000     2\n",
       "Saturn                    5.223   80.620   33.770000     5\n",
       "Subaru                   33.028   47.107   40.067500     2\n",
       "Toyota                    9.835  247.994   82.245000     9\n",
       "Volkswagen                5.596   83.721   34.868667     6\n",
       "Volvo                     3.493   18.969   12.623333     6"
      ]
     },
     "execution_count": 148,
     "metadata": {},
     "output_type": "execute_result"
    }
   ],
   "source": [
    "# Cat-Num\n",
    "vehdata.groupby([\"Manufacturer\"]).agg({\"Sales_in_thousands\":[\"min\", \"max\", \"mean\", \"count\"]})"
   ]
  },
  {
   "cell_type": "code",
   "execution_count": 149,
   "metadata": {
    "colab": {
     "base_uri": "https://localhost:8080/",
     "height": 174
    },
    "executionInfo": {
     "elapsed": 45,
     "status": "ok",
     "timestamp": 1707116072819,
     "user": {
      "displayName": "Purushottam Sharma",
      "userId": "07059085683737545073"
     },
     "user_tz": -330
    },
    "id": "IP5E-M947PCs",
    "outputId": "fb331ce0-c63a-4057-db31-008f5c149827"
   },
   "outputs": [
    {
     "data": {
      "text/html": [
       "\n",
       "  <div id=\"df-562b7b02-c9cb-413e-a0ef-a6ab86e7945e\" class=\"colab-df-container\">\n",
       "    <div>\n",
       "<style scoped>\n",
       "    .dataframe tbody tr th:only-of-type {\n",
       "        vertical-align: middle;\n",
       "    }\n",
       "\n",
       "    .dataframe tbody tr th {\n",
       "        vertical-align: top;\n",
       "    }\n",
       "\n",
       "    .dataframe thead tr th {\n",
       "        text-align: left;\n",
       "    }\n",
       "\n",
       "    .dataframe thead tr:last-of-type th {\n",
       "        text-align: right;\n",
       "    }\n",
       "</style>\n",
       "<table border=\"1\" class=\"dataframe\">\n",
       "  <thead>\n",
       "    <tr>\n",
       "      <th></th>\n",
       "      <th colspan=\"4\" halign=\"left\">Sales_in_thousands</th>\n",
       "    </tr>\n",
       "    <tr>\n",
       "      <th></th>\n",
       "      <th>min</th>\n",
       "      <th>max</th>\n",
       "      <th>mean</th>\n",
       "      <th>count</th>\n",
       "    </tr>\n",
       "    <tr>\n",
       "      <th>Vehicle_type</th>\n",
       "      <th></th>\n",
       "      <th></th>\n",
       "      <th></th>\n",
       "      <th></th>\n",
       "    </tr>\n",
       "  </thead>\n",
       "  <tbody>\n",
       "    <tr>\n",
       "      <th>Car</th>\n",
       "      <td>9.126</td>\n",
       "      <td>540.561</td>\n",
       "      <td>80.622293</td>\n",
       "      <td>41</td>\n",
       "    </tr>\n",
       "    <tr>\n",
       "      <th>Passenger</th>\n",
       "      <td>0.110</td>\n",
       "      <td>247.994</td>\n",
       "      <td>43.234345</td>\n",
       "      <td>116</td>\n",
       "    </tr>\n",
       "  </tbody>\n",
       "</table>\n",
       "</div>\n",
       "    <div class=\"colab-df-buttons\">\n",
       "\n",
       "  <div class=\"colab-df-container\">\n",
       "    <button class=\"colab-df-convert\" onclick=\"convertToInteractive('df-562b7b02-c9cb-413e-a0ef-a6ab86e7945e')\"\n",
       "            title=\"Convert this dataframe to an interactive table.\"\n",
       "            style=\"display:none;\">\n",
       "\n",
       "  <svg xmlns=\"http://www.w3.org/2000/svg\" height=\"24px\" viewBox=\"0 -960 960 960\">\n",
       "    <path d=\"M120-120v-720h720v720H120Zm60-500h600v-160H180v160Zm220 220h160v-160H400v160Zm0 220h160v-160H400v160ZM180-400h160v-160H180v160Zm440 0h160v-160H620v160ZM180-180h160v-160H180v160Zm440 0h160v-160H620v160Z\"/>\n",
       "  </svg>\n",
       "    </button>\n",
       "\n",
       "  <style>\n",
       "    .colab-df-container {\n",
       "      display:flex;\n",
       "      gap: 12px;\n",
       "    }\n",
       "\n",
       "    .colab-df-convert {\n",
       "      background-color: #E8F0FE;\n",
       "      border: none;\n",
       "      border-radius: 50%;\n",
       "      cursor: pointer;\n",
       "      display: none;\n",
       "      fill: #1967D2;\n",
       "      height: 32px;\n",
       "      padding: 0 0 0 0;\n",
       "      width: 32px;\n",
       "    }\n",
       "\n",
       "    .colab-df-convert:hover {\n",
       "      background-color: #E2EBFA;\n",
       "      box-shadow: 0px 1px 2px rgba(60, 64, 67, 0.3), 0px 1px 3px 1px rgba(60, 64, 67, 0.15);\n",
       "      fill: #174EA6;\n",
       "    }\n",
       "\n",
       "    .colab-df-buttons div {\n",
       "      margin-bottom: 4px;\n",
       "    }\n",
       "\n",
       "    [theme=dark] .colab-df-convert {\n",
       "      background-color: #3B4455;\n",
       "      fill: #D2E3FC;\n",
       "    }\n",
       "\n",
       "    [theme=dark] .colab-df-convert:hover {\n",
       "      background-color: #434B5C;\n",
       "      box-shadow: 0px 1px 3px 1px rgba(0, 0, 0, 0.15);\n",
       "      filter: drop-shadow(0px 1px 2px rgba(0, 0, 0, 0.3));\n",
       "      fill: #FFFFFF;\n",
       "    }\n",
       "  </style>\n",
       "\n",
       "    <script>\n",
       "      const buttonEl =\n",
       "        document.querySelector('#df-562b7b02-c9cb-413e-a0ef-a6ab86e7945e button.colab-df-convert');\n",
       "      buttonEl.style.display =\n",
       "        google.colab.kernel.accessAllowed ? 'block' : 'none';\n",
       "\n",
       "      async function convertToInteractive(key) {\n",
       "        const element = document.querySelector('#df-562b7b02-c9cb-413e-a0ef-a6ab86e7945e');\n",
       "        const dataTable =\n",
       "          await google.colab.kernel.invokeFunction('convertToInteractive',\n",
       "                                                    [key], {});\n",
       "        if (!dataTable) return;\n",
       "\n",
       "        const docLinkHtml = 'Like what you see? Visit the ' +\n",
       "          '<a target=\"_blank\" href=https://colab.research.google.com/notebooks/data_table.ipynb>data table notebook</a>'\n",
       "          + ' to learn more about interactive tables.';\n",
       "        element.innerHTML = '';\n",
       "        dataTable['output_type'] = 'display_data';\n",
       "        await google.colab.output.renderOutput(dataTable, element);\n",
       "        const docLink = document.createElement('div');\n",
       "        docLink.innerHTML = docLinkHtml;\n",
       "        element.appendChild(docLink);\n",
       "      }\n",
       "    </script>\n",
       "  </div>\n",
       "\n",
       "\n",
       "<div id=\"df-30799732-f2f9-4b30-a007-ab8d9c639541\">\n",
       "  <button class=\"colab-df-quickchart\" onclick=\"quickchart('df-30799732-f2f9-4b30-a007-ab8d9c639541')\"\n",
       "            title=\"Suggest charts\"\n",
       "            style=\"display:none;\">\n",
       "\n",
       "<svg xmlns=\"http://www.w3.org/2000/svg\" height=\"24px\"viewBox=\"0 0 24 24\"\n",
       "     width=\"24px\">\n",
       "    <g>\n",
       "        <path d=\"M19 3H5c-1.1 0-2 .9-2 2v14c0 1.1.9 2 2 2h14c1.1 0 2-.9 2-2V5c0-1.1-.9-2-2-2zM9 17H7v-7h2v7zm4 0h-2V7h2v10zm4 0h-2v-4h2v4z\"/>\n",
       "    </g>\n",
       "</svg>\n",
       "  </button>\n",
       "\n",
       "<style>\n",
       "  .colab-df-quickchart {\n",
       "      --bg-color: #E8F0FE;\n",
       "      --fill-color: #1967D2;\n",
       "      --hover-bg-color: #E2EBFA;\n",
       "      --hover-fill-color: #174EA6;\n",
       "      --disabled-fill-color: #AAA;\n",
       "      --disabled-bg-color: #DDD;\n",
       "  }\n",
       "\n",
       "  [theme=dark] .colab-df-quickchart {\n",
       "      --bg-color: #3B4455;\n",
       "      --fill-color: #D2E3FC;\n",
       "      --hover-bg-color: #434B5C;\n",
       "      --hover-fill-color: #FFFFFF;\n",
       "      --disabled-bg-color: #3B4455;\n",
       "      --disabled-fill-color: #666;\n",
       "  }\n",
       "\n",
       "  .colab-df-quickchart {\n",
       "    background-color: var(--bg-color);\n",
       "    border: none;\n",
       "    border-radius: 50%;\n",
       "    cursor: pointer;\n",
       "    display: none;\n",
       "    fill: var(--fill-color);\n",
       "    height: 32px;\n",
       "    padding: 0;\n",
       "    width: 32px;\n",
       "  }\n",
       "\n",
       "  .colab-df-quickchart:hover {\n",
       "    background-color: var(--hover-bg-color);\n",
       "    box-shadow: 0 1px 2px rgba(60, 64, 67, 0.3), 0 1px 3px 1px rgba(60, 64, 67, 0.15);\n",
       "    fill: var(--button-hover-fill-color);\n",
       "  }\n",
       "\n",
       "  .colab-df-quickchart-complete:disabled,\n",
       "  .colab-df-quickchart-complete:disabled:hover {\n",
       "    background-color: var(--disabled-bg-color);\n",
       "    fill: var(--disabled-fill-color);\n",
       "    box-shadow: none;\n",
       "  }\n",
       "\n",
       "  .colab-df-spinner {\n",
       "    border: 2px solid var(--fill-color);\n",
       "    border-color: transparent;\n",
       "    border-bottom-color: var(--fill-color);\n",
       "    animation:\n",
       "      spin 1s steps(1) infinite;\n",
       "  }\n",
       "\n",
       "  @keyframes spin {\n",
       "    0% {\n",
       "      border-color: transparent;\n",
       "      border-bottom-color: var(--fill-color);\n",
       "      border-left-color: var(--fill-color);\n",
       "    }\n",
       "    20% {\n",
       "      border-color: transparent;\n",
       "      border-left-color: var(--fill-color);\n",
       "      border-top-color: var(--fill-color);\n",
       "    }\n",
       "    30% {\n",
       "      border-color: transparent;\n",
       "      border-left-color: var(--fill-color);\n",
       "      border-top-color: var(--fill-color);\n",
       "      border-right-color: var(--fill-color);\n",
       "    }\n",
       "    40% {\n",
       "      border-color: transparent;\n",
       "      border-right-color: var(--fill-color);\n",
       "      border-top-color: var(--fill-color);\n",
       "    }\n",
       "    60% {\n",
       "      border-color: transparent;\n",
       "      border-right-color: var(--fill-color);\n",
       "    }\n",
       "    80% {\n",
       "      border-color: transparent;\n",
       "      border-right-color: var(--fill-color);\n",
       "      border-bottom-color: var(--fill-color);\n",
       "    }\n",
       "    90% {\n",
       "      border-color: transparent;\n",
       "      border-bottom-color: var(--fill-color);\n",
       "    }\n",
       "  }\n",
       "</style>\n",
       "\n",
       "  <script>\n",
       "    async function quickchart(key) {\n",
       "      const quickchartButtonEl =\n",
       "        document.querySelector('#' + key + ' button');\n",
       "      quickchartButtonEl.disabled = true;  // To prevent multiple clicks.\n",
       "      quickchartButtonEl.classList.add('colab-df-spinner');\n",
       "      try {\n",
       "        const charts = await google.colab.kernel.invokeFunction(\n",
       "            'suggestCharts', [key], {});\n",
       "      } catch (error) {\n",
       "        console.error('Error during call to suggestCharts:', error);\n",
       "      }\n",
       "      quickchartButtonEl.classList.remove('colab-df-spinner');\n",
       "      quickchartButtonEl.classList.add('colab-df-quickchart-complete');\n",
       "    }\n",
       "    (() => {\n",
       "      let quickchartButtonEl =\n",
       "        document.querySelector('#df-30799732-f2f9-4b30-a007-ab8d9c639541 button');\n",
       "      quickchartButtonEl.style.display =\n",
       "        google.colab.kernel.accessAllowed ? 'block' : 'none';\n",
       "    })();\n",
       "  </script>\n",
       "</div>\n",
       "\n",
       "    </div>\n",
       "  </div>\n"
      ],
      "text/plain": [
       "             Sales_in_thousands                          \n",
       "                            min      max       mean count\n",
       "Vehicle_type                                             \n",
       "Car                       9.126  540.561  80.622293    41\n",
       "Passenger                 0.110  247.994  43.234345   116"
      ]
     },
     "execution_count": 149,
     "metadata": {},
     "output_type": "execute_result"
    }
   ],
   "source": [
    "vehdata.groupby([\"Vehicle_type\"]).agg({\"Sales_in_thousands\":[\"min\", \"max\", \"mean\", \"count\"]})"
   ]
  },
  {
   "cell_type": "code",
   "execution_count": 150,
   "metadata": {
    "colab": {
     "base_uri": "https://localhost:8080/",
     "height": 174
    },
    "executionInfo": {
     "elapsed": 45,
     "status": "ok",
     "timestamp": 1707116072821,
     "user": {
      "displayName": "Purushottam Sharma",
      "userId": "07059085683737545073"
     },
     "user_tz": -330
    },
    "id": "_Rb7Ng9z7zmb",
    "outputId": "ea5decd7-b0c4-4dad-fa37-6f8e7739773c"
   },
   "outputs": [
    {
     "data": {
      "text/html": [
       "\n",
       "  <div id=\"df-36a6a350-d9a9-4cee-8b00-c151d781d178\" class=\"colab-df-container\">\n",
       "    <div>\n",
       "<style scoped>\n",
       "    .dataframe tbody tr th:only-of-type {\n",
       "        vertical-align: middle;\n",
       "    }\n",
       "\n",
       "    .dataframe tbody tr th {\n",
       "        vertical-align: top;\n",
       "    }\n",
       "\n",
       "    .dataframe thead tr th {\n",
       "        text-align: left;\n",
       "    }\n",
       "\n",
       "    .dataframe thead tr:last-of-type th {\n",
       "        text-align: right;\n",
       "    }\n",
       "</style>\n",
       "<table border=\"1\" class=\"dataframe\">\n",
       "  <thead>\n",
       "    <tr>\n",
       "      <th></th>\n",
       "      <th colspan=\"4\" halign=\"left\">Price_in_thousands</th>\n",
       "    </tr>\n",
       "    <tr>\n",
       "      <th></th>\n",
       "      <th>min</th>\n",
       "      <th>max</th>\n",
       "      <th>mean</th>\n",
       "      <th>count</th>\n",
       "    </tr>\n",
       "    <tr>\n",
       "      <th>Vehicle_type</th>\n",
       "      <th></th>\n",
       "      <th></th>\n",
       "      <th></th>\n",
       "      <th></th>\n",
       "    </tr>\n",
       "  </thead>\n",
       "  <tbody>\n",
       "    <tr>\n",
       "      <th>Car</th>\n",
       "      <td>11.528</td>\n",
       "      <td>60.105</td>\n",
       "      <td>26.319975</td>\n",
       "      <td>40</td>\n",
       "    </tr>\n",
       "    <tr>\n",
       "      <th>Passenger</th>\n",
       "      <td>9.235</td>\n",
       "      <td>85.500</td>\n",
       "      <td>27.763200</td>\n",
       "      <td>115</td>\n",
       "    </tr>\n",
       "  </tbody>\n",
       "</table>\n",
       "</div>\n",
       "    <div class=\"colab-df-buttons\">\n",
       "\n",
       "  <div class=\"colab-df-container\">\n",
       "    <button class=\"colab-df-convert\" onclick=\"convertToInteractive('df-36a6a350-d9a9-4cee-8b00-c151d781d178')\"\n",
       "            title=\"Convert this dataframe to an interactive table.\"\n",
       "            style=\"display:none;\">\n",
       "\n",
       "  <svg xmlns=\"http://www.w3.org/2000/svg\" height=\"24px\" viewBox=\"0 -960 960 960\">\n",
       "    <path d=\"M120-120v-720h720v720H120Zm60-500h600v-160H180v160Zm220 220h160v-160H400v160Zm0 220h160v-160H400v160ZM180-400h160v-160H180v160Zm440 0h160v-160H620v160ZM180-180h160v-160H180v160Zm440 0h160v-160H620v160Z\"/>\n",
       "  </svg>\n",
       "    </button>\n",
       "\n",
       "  <style>\n",
       "    .colab-df-container {\n",
       "      display:flex;\n",
       "      gap: 12px;\n",
       "    }\n",
       "\n",
       "    .colab-df-convert {\n",
       "      background-color: #E8F0FE;\n",
       "      border: none;\n",
       "      border-radius: 50%;\n",
       "      cursor: pointer;\n",
       "      display: none;\n",
       "      fill: #1967D2;\n",
       "      height: 32px;\n",
       "      padding: 0 0 0 0;\n",
       "      width: 32px;\n",
       "    }\n",
       "\n",
       "    .colab-df-convert:hover {\n",
       "      background-color: #E2EBFA;\n",
       "      box-shadow: 0px 1px 2px rgba(60, 64, 67, 0.3), 0px 1px 3px 1px rgba(60, 64, 67, 0.15);\n",
       "      fill: #174EA6;\n",
       "    }\n",
       "\n",
       "    .colab-df-buttons div {\n",
       "      margin-bottom: 4px;\n",
       "    }\n",
       "\n",
       "    [theme=dark] .colab-df-convert {\n",
       "      background-color: #3B4455;\n",
       "      fill: #D2E3FC;\n",
       "    }\n",
       "\n",
       "    [theme=dark] .colab-df-convert:hover {\n",
       "      background-color: #434B5C;\n",
       "      box-shadow: 0px 1px 3px 1px rgba(0, 0, 0, 0.15);\n",
       "      filter: drop-shadow(0px 1px 2px rgba(0, 0, 0, 0.3));\n",
       "      fill: #FFFFFF;\n",
       "    }\n",
       "  </style>\n",
       "\n",
       "    <script>\n",
       "      const buttonEl =\n",
       "        document.querySelector('#df-36a6a350-d9a9-4cee-8b00-c151d781d178 button.colab-df-convert');\n",
       "      buttonEl.style.display =\n",
       "        google.colab.kernel.accessAllowed ? 'block' : 'none';\n",
       "\n",
       "      async function convertToInteractive(key) {\n",
       "        const element = document.querySelector('#df-36a6a350-d9a9-4cee-8b00-c151d781d178');\n",
       "        const dataTable =\n",
       "          await google.colab.kernel.invokeFunction('convertToInteractive',\n",
       "                                                    [key], {});\n",
       "        if (!dataTable) return;\n",
       "\n",
       "        const docLinkHtml = 'Like what you see? Visit the ' +\n",
       "          '<a target=\"_blank\" href=https://colab.research.google.com/notebooks/data_table.ipynb>data table notebook</a>'\n",
       "          + ' to learn more about interactive tables.';\n",
       "        element.innerHTML = '';\n",
       "        dataTable['output_type'] = 'display_data';\n",
       "        await google.colab.output.renderOutput(dataTable, element);\n",
       "        const docLink = document.createElement('div');\n",
       "        docLink.innerHTML = docLinkHtml;\n",
       "        element.appendChild(docLink);\n",
       "      }\n",
       "    </script>\n",
       "  </div>\n",
       "\n",
       "\n",
       "<div id=\"df-5fbca53c-df59-4e6b-bcde-b0ac5b73d720\">\n",
       "  <button class=\"colab-df-quickchart\" onclick=\"quickchart('df-5fbca53c-df59-4e6b-bcde-b0ac5b73d720')\"\n",
       "            title=\"Suggest charts\"\n",
       "            style=\"display:none;\">\n",
       "\n",
       "<svg xmlns=\"http://www.w3.org/2000/svg\" height=\"24px\"viewBox=\"0 0 24 24\"\n",
       "     width=\"24px\">\n",
       "    <g>\n",
       "        <path d=\"M19 3H5c-1.1 0-2 .9-2 2v14c0 1.1.9 2 2 2h14c1.1 0 2-.9 2-2V5c0-1.1-.9-2-2-2zM9 17H7v-7h2v7zm4 0h-2V7h2v10zm4 0h-2v-4h2v4z\"/>\n",
       "    </g>\n",
       "</svg>\n",
       "  </button>\n",
       "\n",
       "<style>\n",
       "  .colab-df-quickchart {\n",
       "      --bg-color: #E8F0FE;\n",
       "      --fill-color: #1967D2;\n",
       "      --hover-bg-color: #E2EBFA;\n",
       "      --hover-fill-color: #174EA6;\n",
       "      --disabled-fill-color: #AAA;\n",
       "      --disabled-bg-color: #DDD;\n",
       "  }\n",
       "\n",
       "  [theme=dark] .colab-df-quickchart {\n",
       "      --bg-color: #3B4455;\n",
       "      --fill-color: #D2E3FC;\n",
       "      --hover-bg-color: #434B5C;\n",
       "      --hover-fill-color: #FFFFFF;\n",
       "      --disabled-bg-color: #3B4455;\n",
       "      --disabled-fill-color: #666;\n",
       "  }\n",
       "\n",
       "  .colab-df-quickchart {\n",
       "    background-color: var(--bg-color);\n",
       "    border: none;\n",
       "    border-radius: 50%;\n",
       "    cursor: pointer;\n",
       "    display: none;\n",
       "    fill: var(--fill-color);\n",
       "    height: 32px;\n",
       "    padding: 0;\n",
       "    width: 32px;\n",
       "  }\n",
       "\n",
       "  .colab-df-quickchart:hover {\n",
       "    background-color: var(--hover-bg-color);\n",
       "    box-shadow: 0 1px 2px rgba(60, 64, 67, 0.3), 0 1px 3px 1px rgba(60, 64, 67, 0.15);\n",
       "    fill: var(--button-hover-fill-color);\n",
       "  }\n",
       "\n",
       "  .colab-df-quickchart-complete:disabled,\n",
       "  .colab-df-quickchart-complete:disabled:hover {\n",
       "    background-color: var(--disabled-bg-color);\n",
       "    fill: var(--disabled-fill-color);\n",
       "    box-shadow: none;\n",
       "  }\n",
       "\n",
       "  .colab-df-spinner {\n",
       "    border: 2px solid var(--fill-color);\n",
       "    border-color: transparent;\n",
       "    border-bottom-color: var(--fill-color);\n",
       "    animation:\n",
       "      spin 1s steps(1) infinite;\n",
       "  }\n",
       "\n",
       "  @keyframes spin {\n",
       "    0% {\n",
       "      border-color: transparent;\n",
       "      border-bottom-color: var(--fill-color);\n",
       "      border-left-color: var(--fill-color);\n",
       "    }\n",
       "    20% {\n",
       "      border-color: transparent;\n",
       "      border-left-color: var(--fill-color);\n",
       "      border-top-color: var(--fill-color);\n",
       "    }\n",
       "    30% {\n",
       "      border-color: transparent;\n",
       "      border-left-color: var(--fill-color);\n",
       "      border-top-color: var(--fill-color);\n",
       "      border-right-color: var(--fill-color);\n",
       "    }\n",
       "    40% {\n",
       "      border-color: transparent;\n",
       "      border-right-color: var(--fill-color);\n",
       "      border-top-color: var(--fill-color);\n",
       "    }\n",
       "    60% {\n",
       "      border-color: transparent;\n",
       "      border-right-color: var(--fill-color);\n",
       "    }\n",
       "    80% {\n",
       "      border-color: transparent;\n",
       "      border-right-color: var(--fill-color);\n",
       "      border-bottom-color: var(--fill-color);\n",
       "    }\n",
       "    90% {\n",
       "      border-color: transparent;\n",
       "      border-bottom-color: var(--fill-color);\n",
       "    }\n",
       "  }\n",
       "</style>\n",
       "\n",
       "  <script>\n",
       "    async function quickchart(key) {\n",
       "      const quickchartButtonEl =\n",
       "        document.querySelector('#' + key + ' button');\n",
       "      quickchartButtonEl.disabled = true;  // To prevent multiple clicks.\n",
       "      quickchartButtonEl.classList.add('colab-df-spinner');\n",
       "      try {\n",
       "        const charts = await google.colab.kernel.invokeFunction(\n",
       "            'suggestCharts', [key], {});\n",
       "      } catch (error) {\n",
       "        console.error('Error during call to suggestCharts:', error);\n",
       "      }\n",
       "      quickchartButtonEl.classList.remove('colab-df-spinner');\n",
       "      quickchartButtonEl.classList.add('colab-df-quickchart-complete');\n",
       "    }\n",
       "    (() => {\n",
       "      let quickchartButtonEl =\n",
       "        document.querySelector('#df-5fbca53c-df59-4e6b-bcde-b0ac5b73d720 button');\n",
       "      quickchartButtonEl.style.display =\n",
       "        google.colab.kernel.accessAllowed ? 'block' : 'none';\n",
       "    })();\n",
       "  </script>\n",
       "</div>\n",
       "\n",
       "    </div>\n",
       "  </div>\n"
      ],
      "text/plain": [
       "             Price_in_thousands                         \n",
       "                            min     max       mean count\n",
       "Vehicle_type                                            \n",
       "Car                      11.528  60.105  26.319975    40\n",
       "Passenger                 9.235  85.500  27.763200   115"
      ]
     },
     "execution_count": 150,
     "metadata": {},
     "output_type": "execute_result"
    }
   ],
   "source": [
    "vehdata.groupby([\"Vehicle_type\"]).agg({\"Price_in_thousands\":[\"min\", \"max\", \"mean\", \"count\"]})"
   ]
  },
  {
   "cell_type": "code",
   "execution_count": 151,
   "metadata": {
    "executionInfo": {
     "elapsed": 42,
     "status": "ok",
     "timestamp": 1707116072822,
     "user": {
      "displayName": "Purushottam Sharma",
      "userId": "07059085683737545073"
     },
     "user_tz": -330
    },
    "id": "hBYz4LTP8Kqn"
   },
   "outputs": [],
   "source": [
    "# Sales_in_thousands:- Manufacturer , Vehicle_type"
   ]
  },
  {
   "cell_type": "code",
   "execution_count": 152,
   "metadata": {
    "executionInfo": {
     "elapsed": 41,
     "status": "ok",
     "timestamp": 1707116072822,
     "user": {
      "displayName": "Purushottam Sharma",
      "userId": "07059085683737545073"
     },
     "user_tz": -330
    },
    "id": "6b8tvcYA80cL"
   },
   "outputs": [],
   "source": [
    "# Num-Num"
   ]
  },
  {
   "cell_type": "code",
   "execution_count": 153,
   "metadata": {
    "colab": {
     "base_uri": "https://localhost:8080/",
     "height": 311
    },
    "executionInfo": {
     "elapsed": 41,
     "status": "ok",
     "timestamp": 1707116072823,
     "user": {
      "displayName": "Purushottam Sharma",
      "userId": "07059085683737545073"
     },
     "user_tz": -330
    },
    "id": "x9vCRwtQ82jI",
    "outputId": "0c92aaf1-e86f-40da-8a5d-c62a08e7ba1c"
   },
   "outputs": [
    {
     "data": {
      "image/png": "[encoded data removed]",
      "text/plain": [
       "<Figure size 600x300 with 1 Axes>"
      ]
     },
     "metadata": {},
     "output_type": "display_data"
    }
   ],
   "source": [
    "plt.figure(figsize=(6,3))\n",
    "plt.scatter(vehdata[\"Sales_in_thousands\"], vehdata[\"Price_in_thousands\"])\n",
    "plt.xlabel(\"Sales\")\n",
    "plt.ylabel(\"Price\")\n",
    "plt.show()"
   ]
  },
  {
   "cell_type": "code",
   "execution_count": 154,
   "metadata": {
    "colab": {
     "base_uri": "https://localhost:8080/",
     "height": 311
    },
    "executionInfo": {
     "elapsed": 38,
     "status": "ok",
     "timestamp": 1707116072823,
     "user": {
      "displayName": "Purushottam Sharma",
      "userId": "07059085683737545073"
     },
     "user_tz": -330
    },
    "id": "pUCg2AVh9ID2",
    "outputId": "6dea44dd-9c65-43c6-e4cf-1a51bf47f322"
   },
   "outputs": [
    {
     "data": {
      "image/png": "[encoded data removed]",
      "text/plain": [
       "<Figure size 600x300 with 1 Axes>"
      ]
     },
     "metadata": {},
     "output_type": "display_data"
    }
   ],
   "source": [
    "plt.figure(figsize=(6,3))\n",
    "plt.scatter(vehdata[\"Sales_in_thousands\"], vehdata[\"Horsepower\"])\n",
    "plt.xlabel(\"Sales\")\n",
    "plt.ylabel(\"Horsepower\")\n",
    "plt.show()"
   ]
  },
  {
   "cell_type": "code",
   "execution_count": 155,
   "metadata": {
    "colab": {
     "base_uri": "https://localhost:8080/",
     "height": 112
    },
    "executionInfo": {
     "elapsed": 1622,
     "status": "ok",
     "timestamp": 1707116074410,
     "user": {
      "displayName": "Purushottam Sharma",
      "userId": "07059085683737545073"
     },
     "user_tz": -330
    },
    "id": "qIrTt-pw9jwY",
    "outputId": "3d6feb02-652f-495d-a2b5-d271d1f32749"
   },
   "outputs": [
    {
     "data": {
      "text/html": [
       "\n",
       "  <div id=\"df-34cd9128-39f7-4a54-b0d3-45cfd6e1b76d\" class=\"colab-df-container\">\n",
       "    <div>\n",
       "<style scoped>\n",
       "    .dataframe tbody tr th:only-of-type {\n",
       "        vertical-align: middle;\n",
       "    }\n",
       "\n",
       "    .dataframe tbody tr th {\n",
       "        vertical-align: top;\n",
       "    }\n",
       "\n",
       "    .dataframe thead th {\n",
       "        text-align: right;\n",
       "    }\n",
       "</style>\n",
       "<table border=\"1\" class=\"dataframe\">\n",
       "  <thead>\n",
       "    <tr style=\"text-align: right;\">\n",
       "      <th></th>\n",
       "      <th>Sales_in_thousands</th>\n",
       "      <th>Price_in_thousands</th>\n",
       "    </tr>\n",
       "  </thead>\n",
       "  <tbody>\n",
       "    <tr>\n",
       "      <th>Sales_in_thousands</th>\n",
       "      <td>1.000000</td>\n",
       "      <td>-0.304734</td>\n",
       "    </tr>\n",
       "    <tr>\n",
       "      <th>Price_in_thousands</th>\n",
       "      <td>-0.304734</td>\n",
       "      <td>1.000000</td>\n",
       "    </tr>\n",
       "  </tbody>\n",
       "</table>\n",
       "</div>\n",
       "    <div class=\"colab-df-buttons\">\n",
       "\n",
       "  <div class=\"colab-df-container\">\n",
       "    <button class=\"colab-df-convert\" onclick=\"convertToInteractive('df-34cd9128-39f7-4a54-b0d3-45cfd6e1b76d')\"\n",
       "            title=\"Convert this dataframe to an interactive table.\"\n",
       "            style=\"display:none;\">\n",
       "\n",
       "  <svg xmlns=\"http://www.w3.org/2000/svg\" height=\"24px\" viewBox=\"0 -960 960 960\">\n",
       "    <path d=\"M120-120v-720h720v720H120Zm60-500h600v-160H180v160Zm220 220h160v-160H400v160Zm0 220h160v-160H400v160ZM180-400h160v-160H180v160Zm440 0h160v-160H620v160ZM180-180h160v-160H180v160Zm440 0h160v-160H620v160Z\"/>\n",
       "  </svg>\n",
       "    </button>\n",
       "\n",
       "  <style>\n",
       "    .colab-df-container {\n",
       "      display:flex;\n",
       "      gap: 12px;\n",
       "    }\n",
       "\n",
       "    .colab-df-convert {\n",
       "      background-color: #E8F0FE;\n",
       "      border: none;\n",
       "      border-radius: 50%;\n",
       "      cursor: pointer;\n",
       "      display: none;\n",
       "      fill: #1967D2;\n",
       "      height: 32px;\n",
       "      padding: 0 0 0 0;\n",
       "      width: 32px;\n",
       "    }\n",
       "\n",
       "    .colab-df-convert:hover {\n",
       "      background-color: #E2EBFA;\n",
       "      box-shadow: 0px 1px 2px rgba(60, 64, 67, 0.3), 0px 1px 3px 1px rgba(60, 64, 67, 0.15);\n",
       "      fill: #174EA6;\n",
       "    }\n",
       "\n",
       "    .colab-df-buttons div {\n",
       "      margin-bottom: 4px;\n",
       "    }\n",
       "\n",
       "    [theme=dark] .colab-df-convert {\n",
       "      background-color: #3B4455;\n",
       "      fill: #D2E3FC;\n",
       "    }\n",
       "\n",
       "    [theme=dark] .colab-df-convert:hover {\n",
       "      background-color: #434B5C;\n",
       "      box-shadow: 0px 1px 3px 1px rgba(0, 0, 0, 0.15);\n",
       "      filter: drop-shadow(0px 1px 2px rgba(0, 0, 0, 0.3));\n",
       "      fill: #FFFFFF;\n",
       "    }\n",
       "  </style>\n",
       "\n",
       "    <script>\n",
       "      const buttonEl =\n",
       "        document.querySelector('#df-34cd9128-39f7-4a54-b0d3-45cfd6e1b76d button.colab-df-convert');\n",
       "      buttonEl.style.display =\n",
       "        google.colab.kernel.accessAllowed ? 'block' : 'none';\n",
       "\n",
       "      async function convertToInteractive(key) {\n",
       "        const element = document.querySelector('#df-34cd9128-39f7-4a54-b0d3-45cfd6e1b76d');\n",
       "        const dataTable =\n",
       "          await google.colab.kernel.invokeFunction('convertToInteractive',\n",
       "                                                    [key], {});\n",
       "        if (!dataTable) return;\n",
       "\n",
       "        const docLinkHtml = 'Like what you see? Visit the ' +\n",
       "          '<a target=\"_blank\" href=https://colab.research.google.com/notebooks/data_table.ipynb>data table notebook</a>'\n",
       "          + ' to learn more about interactive tables.';\n",
       "        element.innerHTML = '';\n",
       "        dataTable['output_type'] = 'display_data';\n",
       "        await google.colab.output.renderOutput(dataTable, element);\n",
       "        const docLink = document.createElement('div');\n",
       "        docLink.innerHTML = docLinkHtml;\n",
       "        element.appendChild(docLink);\n",
       "      }\n",
       "    </script>\n",
       "  </div>\n",
       "\n",
       "\n",
       "<div id=\"df-9ce165ad-e69a-4009-88c9-f570674f0c96\">\n",
       "  <button class=\"colab-df-quickchart\" onclick=\"quickchart('df-9ce165ad-e69a-4009-88c9-f570674f0c96')\"\n",
       "            title=\"Suggest charts\"\n",
       "            style=\"display:none;\">\n",
       "\n",
       "<svg xmlns=\"http://www.w3.org/2000/svg\" height=\"24px\"viewBox=\"0 0 24 24\"\n",
       "     width=\"24px\">\n",
       "    <g>\n",
       "        <path d=\"M19 3H5c-1.1 0-2 .9-2 2v14c0 1.1.9 2 2 2h14c1.1 0 2-.9 2-2V5c0-1.1-.9-2-2-2zM9 17H7v-7h2v7zm4 0h-2V7h2v10zm4 0h-2v-4h2v4z\"/>\n",
       "    </g>\n",
       "</svg>\n",
       "  </button>\n",
       "\n",
       "<style>\n",
       "  .colab-df-quickchart {\n",
       "      --bg-color: #E8F0FE;\n",
       "      --fill-color: #1967D2;\n",
       "      --hover-bg-color: #E2EBFA;\n",
       "      --hover-fill-color: #174EA6;\n",
       "      --disabled-fill-color: #AAA;\n",
       "      --disabled-bg-color: #DDD;\n",
       "  }\n",
       "\n",
       "  [theme=dark] .colab-df-quickchart {\n",
       "      --bg-color: #3B4455;\n",
       "      --fill-color: #D2E3FC;\n",
       "      --hover-bg-color: #434B5C;\n",
       "      --hover-fill-color: #FFFFFF;\n",
       "      --disabled-bg-color: #3B4455;\n",
       "      --disabled-fill-color: #666;\n",
       "  }\n",
       "\n",
       "  .colab-df-quickchart {\n",
       "    background-color: var(--bg-color);\n",
       "    border: none;\n",
       "    border-radius: 50%;\n",
       "    cursor: pointer;\n",
       "    display: none;\n",
       "    fill: var(--fill-color);\n",
       "    height: 32px;\n",
       "    padding: 0;\n",
       "    width: 32px;\n",
       "  }\n",
       "\n",
       "  .colab-df-quickchart:hover {\n",
       "    background-color: var(--hover-bg-color);\n",
       "    box-shadow: 0 1px 2px rgba(60, 64, 67, 0.3), 0 1px 3px 1px rgba(60, 64, 67, 0.15);\n",
       "    fill: var(--button-hover-fill-color);\n",
       "  }\n",
       "\n",
       "  .colab-df-quickchart-complete:disabled,\n",
       "  .colab-df-quickchart-complete:disabled:hover {\n",
       "    background-color: var(--disabled-bg-color);\n",
       "    fill: var(--disabled-fill-color);\n",
       "    box-shadow: none;\n",
       "  }\n",
       "\n",
       "  .colab-df-spinner {\n",
       "    border: 2px solid var(--fill-color);\n",
       "    border-color: transparent;\n",
       "    border-bottom-color: var(--fill-color);\n",
       "    animation:\n",
       "      spin 1s steps(1) infinite;\n",
       "  }\n",
       "\n",
       "  @keyframes spin {\n",
       "    0% {\n",
       "      border-color: transparent;\n",
       "      border-bottom-color: var(--fill-color);\n",
       "      border-left-color: var(--fill-color);\n",
       "    }\n",
       "    20% {\n",
       "      border-color: transparent;\n",
       "      border-left-color: var(--fill-color);\n",
       "      border-top-color: var(--fill-color);\n",
       "    }\n",
       "    30% {\n",
       "      border-color: transparent;\n",
       "      border-left-color: var(--fill-color);\n",
       "      border-top-color: var(--fill-color);\n",
       "      border-right-color: var(--fill-color);\n",
       "    }\n",
       "    40% {\n",
       "      border-color: transparent;\n",
       "      border-right-color: var(--fill-color);\n",
       "      border-top-color: var(--fill-color);\n",
       "    }\n",
       "    60% {\n",
       "      border-color: transparent;\n",
       "      border-right-color: var(--fill-color);\n",
       "    }\n",
       "    80% {\n",
       "      border-color: transparent;\n",
       "      border-right-color: var(--fill-color);\n",
       "      border-bottom-color: var(--fill-color);\n",
       "    }\n",
       "    90% {\n",
       "      border-color: transparent;\n",
       "      border-bottom-color: var(--fill-color);\n",
       "    }\n",
       "  }\n",
       "</style>\n",
       "\n",
       "  <script>\n",
       "    async function quickchart(key) {\n",
       "      const quickchartButtonEl =\n",
       "        document.querySelector('#' + key + ' button');\n",
       "      quickchartButtonEl.disabled = true;  // To prevent multiple clicks.\n",
       "      quickchartButtonEl.classList.add('colab-df-spinner');\n",
       "      try {\n",
       "        const charts = await google.colab.kernel.invokeFunction(\n",
       "            'suggestCharts', [key], {});\n",
       "      } catch (error) {\n",
       "        console.error('Error during call to suggestCharts:', error);\n",
       "      }\n",
       "      quickchartButtonEl.classList.remove('colab-df-spinner');\n",
       "      quickchartButtonEl.classList.add('colab-df-quickchart-complete');\n",
       "    }\n",
       "    (() => {\n",
       "      let quickchartButtonEl =\n",
       "        document.querySelector('#df-9ce165ad-e69a-4009-88c9-f570674f0c96 button');\n",
       "      quickchartButtonEl.style.display =\n",
       "        google.colab.kernel.accessAllowed ? 'block' : 'none';\n",
       "    })();\n",
       "  </script>\n",
       "</div>\n",
       "\n",
       "    </div>\n",
       "  </div>\n"
      ],
      "text/plain": [
       "                    Sales_in_thousands  Price_in_thousands\n",
       "Sales_in_thousands            1.000000           -0.304734\n",
       "Price_in_thousands           -0.304734            1.000000"
      ]
     },
     "execution_count": 155,
     "metadata": {},
     "output_type": "execute_result"
    }
   ],
   "source": [
    "vehdata[[\"Sales_in_thousands\", \"Price_in_thousands\"]].corr()"
   ]
  },
  {
   "cell_type": "code",
   "execution_count": 156,
   "metadata": {
    "colab": {
     "base_uri": "https://localhost:8080/"
    },
    "executionInfo": {
     "elapsed": 23,
     "status": "ok",
     "timestamp": 1707116074410,
     "user": {
      "displayName": "Purushottam Sharma",
      "userId": "07059085683737545073"
     },
     "user_tz": -330
    },
    "id": "I_5Bse5y_uMK",
    "outputId": "f9799758-1038-4821-caf4-c95ba20d8f23"
   },
   "outputs": [
    {
     "data": {
      "text/plain": [
       "Index(['Manufacturer', 'Sales_in_thousands', 'four_year_resale_value',\n",
       "       'Vehicle_type', 'Price_in_thousands', 'Engine_size', 'Horsepower',\n",
       "       'Wheelbase', 'Width', 'Length', 'Curb_weight', 'Fuel_capacity',\n",
       "       'Fuel_efficiency', 'Latest_Launch', 'Power_perf_factor'],\n",
       "      dtype='object')"
      ]
     },
     "execution_count": 156,
     "metadata": {},
     "output_type": "execute_result"
    }
   ],
   "source": [
    "vehdata.columns"
   ]
  },
  {
   "cell_type": "code",
   "execution_count": 157,
   "metadata": {
    "executionInfo": {
     "elapsed": 18,
     "status": "ok",
     "timestamp": 1707116074410,
     "user": {
      "displayName": "Purushottam Sharma",
      "userId": "07059085683737545073"
     },
     "user_tz": -330
    },
    "id": "QN_cBzIT-Xg9"
   },
   "outputs": [],
   "source": [
    "d=vehdata[['Sales_in_thousands', 'four_year_resale_value',\n",
    "       'Price_in_thousands', 'Engine_size', 'Horsepower',\n",
    "       'Wheelbase', 'Width', 'Length', 'Curb_weight', 'Fuel_capacity',\n",
    "       'Fuel_efficiency',  'Power_perf_factor']].corr()\n",
    "d.to_excel(\"/content/drive/MyDrive/Imarticus/PGA40/Regression/corrprofile.xlsx\")"
   ]
  },
  {
   "cell_type": "code",
   "execution_count": 158,
   "metadata": {
    "executionInfo": {
     "elapsed": 18,
     "status": "ok",
     "timestamp": 1707116074411,
     "user": {
      "displayName": "Purushottam Sharma",
      "userId": "07059085683737545073"
     },
     "user_tz": -330
    },
    "id": "5bYlxAc1-khd"
   },
   "outputs": [],
   "source": [
    "# Feature Engineering"
   ]
  },
  {
   "cell_type": "code",
   "execution_count": 159,
   "metadata": {
    "colab": {
     "base_uri": "https://localhost:8080/"
    },
    "executionInfo": {
     "elapsed": 17,
     "status": "ok",
     "timestamp": 1707116074411,
     "user": {
      "displayName": "Purushottam Sharma",
      "userId": "07059085683737545073"
     },
     "user_tz": -330
    },
    "id": "SHctuqemCO7y",
    "outputId": "65219d17-8270-409b-d3aa-12568676a6ac"
   },
   "outputs": [
    {
     "data": {
      "text/plain": [
       "Index(['Manufacturer', 'Sales_in_thousands', 'four_year_resale_value',\n",
       "       'Vehicle_type', 'Price_in_thousands', 'Engine_size', 'Horsepower',\n",
       "       'Wheelbase', 'Width', 'Length', 'Curb_weight', 'Fuel_capacity',\n",
       "       'Fuel_efficiency', 'Latest_Launch', 'Power_perf_factor'],\n",
       "      dtype='object')"
      ]
     },
     "execution_count": 159,
     "metadata": {},
     "output_type": "execute_result"
    }
   ],
   "source": [
    "vehdata.columns"
   ]
  },
  {
   "cell_type": "code",
   "execution_count": 160,
   "metadata": {
    "executionInfo": {
     "elapsed": 12,
     "status": "ok",
     "timestamp": 1707116074411,
     "user": {
      "displayName": "Purushottam Sharma",
      "userId": "07059085683737545073"
     },
     "user_tz": -330
    },
    "id": "bwLAYNiGEpg-"
   },
   "outputs": [],
   "source": [
    "vehdata[\"Latest_Launch\"]=pd.to_datetime(vehdata[\"Latest_Launch\"])"
   ]
  },
  {
   "cell_type": "code",
   "execution_count": 161,
   "metadata": {
    "executionInfo": {
     "elapsed": 10,
     "status": "ok",
     "timestamp": 1707116074411,
     "user": {
      "displayName": "Purushottam Sharma",
      "userId": "07059085683737545073"
     },
     "user_tz": -330
    },
    "id": "CaAH4CVpCX-X"
   },
   "outputs": [],
   "source": [
    "from datetime import date\n",
    "vehdata[\"age_car\"]=date.today().year -vehdata[\"Latest_Launch\"].dt.year"
   ]
  },
  {
   "cell_type": "code",
   "execution_count": 162,
   "metadata": {
    "executionInfo": {
     "elapsed": 5,
     "status": "ok",
     "timestamp": 1707116075546,
     "user": {
      "displayName": "Purushottam Sharma",
      "userId": "07059085683737545073"
     },
     "user_tz": -330
    },
    "id": "_PuCmvbgCndF"
   },
   "outputs": [],
   "source": [
    "vehdata.drop(columns=[\"Latest_Launch\"], inplace=True)"
   ]
  },
  {
   "cell_type": "code",
   "execution_count": 163,
   "metadata": {
    "executionInfo": {
     "elapsed": 4,
     "status": "ok",
     "timestamp": 1707116075546,
     "user": {
      "displayName": "Purushottam Sharma",
      "userId": "07059085683737545073"
     },
     "user_tz": -330
    },
    "id": "xEUkIqhlFLPd"
   },
   "outputs": [],
   "source": [
    "vehdata[\"Area_car\"]=vehdata[\"Length\"]*vehdata[\"Width\"]"
   ]
  },
  {
   "cell_type": "code",
   "execution_count": 164,
   "metadata": {
    "executionInfo": {
     "elapsed": 3,
     "status": "ok",
     "timestamp": 1707116075546,
     "user": {
      "displayName": "Purushottam Sharma",
      "userId": "07059085683737545073"
     },
     "user_tz": -330
    },
    "id": "fviXLg1PFzj-"
   },
   "outputs": [],
   "source": [
    "# missing Value treatment"
   ]
  },
  {
   "cell_type": "code",
   "execution_count": 165,
   "metadata": {
    "colab": {
     "base_uri": "https://localhost:8080/"
    },
    "executionInfo": {
     "elapsed": 14,
     "status": "ok",
     "timestamp": 1707116076463,
     "user": {
      "displayName": "Purushottam Sharma",
      "userId": "07059085683737545073"
     },
     "user_tz": -330
    },
    "id": "FHjO11Q0F5AT",
    "outputId": "3acb3ca3-0e5f-4f9c-bbe2-790d8dc41496"
   },
   "outputs": [
    {
     "data": {
      "text/plain": [
       "Manufacturer               0\n",
       "Sales_in_thousands         0\n",
       "four_year_resale_value    36\n",
       "Vehicle_type               0\n",
       "Price_in_thousands         2\n",
       "Engine_size                1\n",
       "Horsepower                 1\n",
       "Wheelbase                  1\n",
       "Width                      1\n",
       "Length                     1\n",
       "Curb_weight                2\n",
       "Fuel_capacity              1\n",
       "Fuel_efficiency            3\n",
       "Power_perf_factor          2\n",
       "age_car                    0\n",
       "Area_car                   1\n",
       "dtype: int64"
      ]
     },
     "execution_count": 165,
     "metadata": {},
     "output_type": "execute_result"
    }
   ],
   "source": [
    "vehdata.isnull().sum()"
   ]
  },
  {
   "cell_type": "code",
   "execution_count": 166,
   "metadata": {
    "colab": {
     "base_uri": "https://localhost:8080/"
    },
    "executionInfo": {
     "elapsed": 10,
     "status": "ok",
     "timestamp": 1707116077446,
     "user": {
      "displayName": "Purushottam Sharma",
      "userId": "07059085683737545073"
     },
     "user_tz": -330
    },
    "id": "_pcauXjpF9YQ",
    "outputId": "90077c89-6659-4539-d087-a94dec17f839"
   },
   "outputs": [
    {
     "data": {
      "text/plain": [
       "0.22929936305732485"
      ]
     },
     "execution_count": 166,
     "metadata": {},
     "output_type": "execute_result"
    }
   ],
   "source": [
    "36/157"
   ]
  },
  {
   "cell_type": "code",
   "execution_count": 167,
   "metadata": {
    "executionInfo": {
     "elapsed": 5,
     "status": "ok",
     "timestamp": 1707116077447,
     "user": {
      "displayName": "Purushottam Sharma",
      "userId": "07059085683737545073"
     },
     "user_tz": -330
    },
    "id": "CB75dxw3GC37"
   },
   "outputs": [],
   "source": [
    "vehdata.drop([\"four_year_resale_value\"], axis=1, inplace=True)"
   ]
  },
  {
   "cell_type": "code",
   "execution_count": 168,
   "metadata": {
    "colab": {
     "base_uri": "https://localhost:8080/"
    },
    "executionInfo": {
     "elapsed": 13,
     "status": "ok",
     "timestamp": 1707116078298,
     "user": {
      "displayName": "Purushottam Sharma",
      "userId": "07059085683737545073"
     },
     "user_tz": -330
    },
    "id": "EBqPVkDwHCsm",
    "outputId": "a0d6e126-34f5-4b8e-9159-072d9b80f541"
   },
   "outputs": [
    {
     "data": {
      "text/plain": [
       "Manufacturer          0\n",
       "Sales_in_thousands    0\n",
       "Vehicle_type          0\n",
       "Price_in_thousands    2\n",
       "Engine_size           1\n",
       "Horsepower            1\n",
       "Wheelbase             1\n",
       "Width                 1\n",
       "Length                1\n",
       "Curb_weight           2\n",
       "Fuel_capacity         1\n",
       "Fuel_efficiency       3\n",
       "Power_perf_factor     2\n",
       "age_car               0\n",
       "Area_car              1\n",
       "dtype: int64"
      ]
     },
     "execution_count": 168,
     "metadata": {},
     "output_type": "execute_result"
    }
   ],
   "source": [
    "vehdata.isnull().sum()"
   ]
  },
  {
   "cell_type": "code",
   "execution_count": 169,
   "metadata": {
    "executionInfo": {
     "elapsed": 11,
     "status": "ok",
     "timestamp": 1707116078299,
     "user": {
      "displayName": "Purushottam Sharma",
      "userId": "07059085683737545073"
     },
     "user_tz": -330
    },
    "id": "MeRZ42UJHWbl"
   },
   "outputs": [],
   "source": [
    "test0=vehdata.dropna()"
   ]
  },
  {
   "cell_type": "code",
   "execution_count": 170,
   "metadata": {
    "colab": {
     "base_uri": "https://localhost:8080/"
    },
    "executionInfo": {
     "elapsed": 11,
     "status": "ok",
     "timestamp": 1707116079002,
     "user": {
      "displayName": "Purushottam Sharma",
      "userId": "07059085683737545073"
     },
     "user_tz": -330
    },
    "id": "LXMQZs0nHuTr",
    "outputId": "74c6a2ac-b836-413c-a58e-3d5344fa1b95"
   },
   "outputs": [
    {
     "data": {
      "text/plain": [
       "(157, 15)"
      ]
     },
     "execution_count": 170,
     "metadata": {},
     "output_type": "execute_result"
    }
   ],
   "source": [
    "vehdata.shape"
   ]
  },
  {
   "cell_type": "code",
   "execution_count": 171,
   "metadata": {
    "colab": {
     "base_uri": "https://localhost:8080/"
    },
    "executionInfo": {
     "elapsed": 19,
     "status": "ok",
     "timestamp": 1707116079908,
     "user": {
      "displayName": "Purushottam Sharma",
      "userId": "07059085683737545073"
     },
     "user_tz": -330
    },
    "id": "yxpx8WYQHwZE",
    "outputId": "40286b5b-4e14-4c2e-ab6d-2899788f4063"
   },
   "outputs": [
    {
     "data": {
      "text/plain": [
       "(152, 15)"
      ]
     },
     "execution_count": 171,
     "metadata": {},
     "output_type": "execute_result"
    }
   ],
   "source": [
    "test0.shape"
   ]
  },
  {
   "cell_type": "code",
   "execution_count": 172,
   "metadata": {
    "colab": {
     "base_uri": "https://localhost:8080/"
    },
    "executionInfo": {
     "elapsed": 17,
     "status": "ok",
     "timestamp": 1707116079908,
     "user": {
      "displayName": "Purushottam Sharma",
      "userId": "07059085683737545073"
     },
     "user_tz": -330
    },
    "id": "OBJbaYP1Hxzy",
    "outputId": "c0c34858-9883-42f3-cde1-aef15420981e"
   },
   "outputs": [
    {
     "data": {
      "text/plain": [
       "0.03184713375796178"
      ]
     },
     "execution_count": 172,
     "metadata": {},
     "output_type": "execute_result"
    }
   ],
   "source": [
    "5/157"
   ]
  },
  {
   "cell_type": "code",
   "execution_count": 173,
   "metadata": {
    "colab": {
     "base_uri": "https://localhost:8080/"
    },
    "executionInfo": {
     "elapsed": 10,
     "status": "ok",
     "timestamp": 1707116080838,
     "user": {
      "displayName": "Purushottam Sharma",
      "userId": "07059085683737545073"
     },
     "user_tz": -330
    },
    "id": "m2JsbTtHH0ry",
    "outputId": "28485d70-56a4-43fd-ce1c-16f4c79a4ae7"
   },
   "outputs": [
    {
     "data": {
      "text/plain": [
       "Index(['Manufacturer', 'Vehicle_type'], dtype='object')"
      ]
     },
     "execution_count": 173,
     "metadata": {},
     "output_type": "execute_result"
    }
   ],
   "source": [
    "vehdata.dtypes[vehdata.dtypes==\"object\"].index"
   ]
  },
  {
   "cell_type": "code",
   "execution_count": 174,
   "metadata": {
    "executionInfo": {
     "elapsed": 3,
     "status": "ok",
     "timestamp": 1707116080839,
     "user": {
      "displayName": "Purushottam Sharma",
      "userId": "07059085683737545073"
     },
     "user_tz": -330
    },
    "id": "kAgGO4PcIwc_"
   },
   "outputs": [],
   "source": [
    "cat_data=vehdata[vehdata.dtypes[vehdata.dtypes==\"object\"].index]\n",
    "num_data=vehdata[vehdata.dtypes[vehdata.dtypes!=\"object\"].index]\n",
    "# num_data"
   ]
  },
  {
   "cell_type": "code",
   "execution_count": 175,
   "metadata": {
    "colab": {
     "base_uri": "https://localhost:8080/"
    },
    "executionInfo": {
     "elapsed": 5,
     "status": "ok",
     "timestamp": 1707116081499,
     "user": {
      "displayName": "Purushottam Sharma",
      "userId": "07059085683737545073"
     },
     "user_tz": -330
    },
    "id": "zQooSJAnJCCP",
    "outputId": "e30e93a6-caad-4933-8974-a3271918bac8"
   },
   "outputs": [
    {
     "data": {
      "text/plain": [
       "Manufacturer    0\n",
       "Vehicle_type    0\n",
       "dtype: int64"
      ]
     },
     "execution_count": 175,
     "metadata": {},
     "output_type": "execute_result"
    }
   ],
   "source": [
    "cat_data.isnull().sum()"
   ]
  },
  {
   "cell_type": "code",
   "execution_count": 176,
   "metadata": {
    "colab": {
     "base_uri": "https://localhost:8080/"
    },
    "executionInfo": {
     "elapsed": 14,
     "status": "ok",
     "timestamp": 1707116082754,
     "user": {
      "displayName": "Purushottam Sharma",
      "userId": "07059085683737545073"
     },
     "user_tz": -330
    },
    "id": "aN0sJdusJO7j",
    "outputId": "cfaa13e2-e3e4-486b-8e3f-1b268404911f"
   },
   "outputs": [
    {
     "data": {
      "text/plain": [
       "Sales_in_thousands    0\n",
       "Price_in_thousands    2\n",
       "Engine_size           1\n",
       "Horsepower            1\n",
       "Wheelbase             1\n",
       "Width                 1\n",
       "Length                1\n",
       "Curb_weight           2\n",
       "Fuel_capacity         1\n",
       "Fuel_efficiency       3\n",
       "Power_perf_factor     2\n",
       "age_car               0\n",
       "Area_car              1\n",
       "dtype: int64"
      ]
     },
     "execution_count": 176,
     "metadata": {},
     "output_type": "execute_result"
    }
   ],
   "source": [
    "num_data.isnull().sum()"
   ]
  },
  {
   "cell_type": "code",
   "execution_count": 177,
   "metadata": {
    "colab": {
     "base_uri": "https://localhost:8080/"
    },
    "executionInfo": {
     "elapsed": 11,
     "status": "ok",
     "timestamp": 1707116082755,
     "user": {
      "displayName": "Purushottam Sharma",
      "userId": "07059085683737545073"
     },
     "user_tz": -330
    },
    "id": "vVkAfOYfJSEw",
    "outputId": "1dc46bbe-b039-49c4-c64d-fea9cb17cb7f"
   },
   "outputs": [
    {
     "name": "stderr",
     "output_type": "stream",
     "text": [
      "<ipython-input-177-5ff66040ce4d>:1: SettingWithCopyWarning: \n",
      "A value is trying to be set on a copy of a slice from a DataFrame.\n",
      "Try using .loc[row_indexer,col_indexer] = value instead\n",
      "\n",
      "See the caveats in the documentation: https://pandas.pydata.org/pandas-docs/stable/user_guide/indexing.html#returning-a-view-versus-a-copy\n",
      "  num_data.fillna(num_data.median(), inplace=True) # Filling median value\n"
     ]
    }
   ],
   "source": [
    "num_data.fillna(num_data.median(), inplace=True) # Filling median value"
   ]
  },
  {
   "cell_type": "code",
   "execution_count": 178,
   "metadata": {
    "executionInfo": {
     "elapsed": 18,
     "status": "ok",
     "timestamp": 1707116083676,
     "user": {
      "displayName": "Purushottam Sharma",
      "userId": "07059085683737545073"
     },
     "user_tz": -330
    },
    "id": "BQTuNrghNk7B"
   },
   "outputs": [],
   "source": [
    "# Outlier Treatment"
   ]
  },
  {
   "cell_type": "code",
   "execution_count": 179,
   "metadata": {
    "colab": {
     "base_uri": "https://localhost:8080/",
     "height": 477
    },
    "executionInfo": {
     "elapsed": 17,
     "status": "ok",
     "timestamp": 1707116083677,
     "user": {
      "displayName": "Purushottam Sharma",
      "userId": "07059085683737545073"
     },
     "user_tz": -330
    },
    "id": "Jr52uFenQ_6v",
    "outputId": "4fda3988-da03-4951-ee64-c8ad210ae01c"
   },
   "outputs": [
    {
     "data": {
      "text/html": [
       "\n",
       "  <div id=\"df-d701b675-d3c7-4e22-b405-e49439c08358\" class=\"colab-df-container\">\n",
       "    <div>\n",
       "<style scoped>\n",
       "    .dataframe tbody tr th:only-of-type {\n",
       "        vertical-align: middle;\n",
       "    }\n",
       "\n",
       "    .dataframe tbody tr th {\n",
       "        vertical-align: top;\n",
       "    }\n",
       "\n",
       "    .dataframe thead th {\n",
       "        text-align: right;\n",
       "    }\n",
       "</style>\n",
       "<table border=\"1\" class=\"dataframe\">\n",
       "  <thead>\n",
       "    <tr style=\"text-align: right;\">\n",
       "      <th></th>\n",
       "      <th>count</th>\n",
       "      <th>mean</th>\n",
       "      <th>std</th>\n",
       "      <th>min</th>\n",
       "      <th>1%</th>\n",
       "      <th>2%</th>\n",
       "      <th>3%</th>\n",
       "      <th>4%</th>\n",
       "      <th>5%</th>\n",
       "      <th>10%</th>\n",
       "      <th>25%</th>\n",
       "      <th>50%</th>\n",
       "      <th>75%</th>\n",
       "      <th>90%</th>\n",
       "      <th>95%</th>\n",
       "      <th>96%</th>\n",
       "      <th>97%</th>\n",
       "      <th>98%</th>\n",
       "      <th>99%</th>\n",
       "      <th>max</th>\n",
       "    </tr>\n",
       "  </thead>\n",
       "  <tbody>\n",
       "    <tr>\n",
       "      <th>Sales_in_thousands</th>\n",
       "      <td>157.0</td>\n",
       "      <td>52.998076</td>\n",
       "      <td>68.029422</td>\n",
       "      <td>0.110000</td>\n",
       "      <td>0.93728</td>\n",
       "      <td>1.132160</td>\n",
       "      <td>1.348000</td>\n",
       "      <td>1.607600</td>\n",
       "      <td>1.870800</td>\n",
       "      <td>5.453600</td>\n",
       "      <td>14.114000</td>\n",
       "      <td>29.450000</td>\n",
       "      <td>67.956000</td>\n",
       "      <td>127.641600</td>\n",
       "      <td>185.336200</td>\n",
       "      <td>215.618400</td>\n",
       "      <td>228.290120</td>\n",
       "      <td>244.025440</td>\n",
       "      <td>260.645320</td>\n",
       "      <td>540.561000</td>\n",
       "    </tr>\n",
       "    <tr>\n",
       "      <th>Price_in_thousands</th>\n",
       "      <td>155.0</td>\n",
       "      <td>27.390755</td>\n",
       "      <td>14.351653</td>\n",
       "      <td>9.235000</td>\n",
       "      <td>10.23144</td>\n",
       "      <td>11.549680</td>\n",
       "      <td>11.954620</td>\n",
       "      <td>12.109200</td>\n",
       "      <td>12.469000</td>\n",
       "      <td>13.970800</td>\n",
       "      <td>18.017500</td>\n",
       "      <td>22.799000</td>\n",
       "      <td>31.947500</td>\n",
       "      <td>44.017000</td>\n",
       "      <td>55.835000</td>\n",
       "      <td>61.696800</td>\n",
       "      <td>69.709500</td>\n",
       "      <td>70.916400</td>\n",
       "      <td>78.479800</td>\n",
       "      <td>85.500000</td>\n",
       "    </tr>\n",
       "    <tr>\n",
       "      <th>Engine_size</th>\n",
       "      <td>156.0</td>\n",
       "      <td>3.060897</td>\n",
       "      <td>1.044653</td>\n",
       "      <td>1.000000</td>\n",
       "      <td>1.55500</td>\n",
       "      <td>1.800000</td>\n",
       "      <td>1.800000</td>\n",
       "      <td>1.800000</td>\n",
       "      <td>1.800000</td>\n",
       "      <td>1.950000</td>\n",
       "      <td>2.300000</td>\n",
       "      <td>3.000000</td>\n",
       "      <td>3.575000</td>\n",
       "      <td>4.600000</td>\n",
       "      <td>4.775000</td>\n",
       "      <td>5.000000</td>\n",
       "      <td>5.200000</td>\n",
       "      <td>5.380000</td>\n",
       "      <td>5.700000</td>\n",
       "      <td>8.000000</td>\n",
       "    </tr>\n",
       "    <tr>\n",
       "      <th>Horsepower</th>\n",
       "      <td>156.0</td>\n",
       "      <td>185.948718</td>\n",
       "      <td>56.700321</td>\n",
       "      <td>55.000000</td>\n",
       "      <td>96.40000</td>\n",
       "      <td>100.600000</td>\n",
       "      <td>106.650000</td>\n",
       "      <td>110.600000</td>\n",
       "      <td>114.500000</td>\n",
       "      <td>120.000000</td>\n",
       "      <td>149.500000</td>\n",
       "      <td>177.500000</td>\n",
       "      <td>215.000000</td>\n",
       "      <td>254.000000</td>\n",
       "      <td>300.000000</td>\n",
       "      <td>300.000000</td>\n",
       "      <td>300.700000</td>\n",
       "      <td>302.000000</td>\n",
       "      <td>325.750000</td>\n",
       "      <td>450.000000</td>\n",
       "    </tr>\n",
       "    <tr>\n",
       "      <th>Wheelbase</th>\n",
       "      <td>156.0</td>\n",
       "      <td>107.487179</td>\n",
       "      <td>7.641303</td>\n",
       "      <td>92.600000</td>\n",
       "      <td>92.87500</td>\n",
       "      <td>93.510000</td>\n",
       "      <td>94.500000</td>\n",
       "      <td>94.960000</td>\n",
       "      <td>95.875000</td>\n",
       "      <td>98.650000</td>\n",
       "      <td>103.000000</td>\n",
       "      <td>107.000000</td>\n",
       "      <td>112.200000</td>\n",
       "      <td>115.500000</td>\n",
       "      <td>119.250000</td>\n",
       "      <td>120.000000</td>\n",
       "      <td>120.980000</td>\n",
       "      <td>126.630000</td>\n",
       "      <td>134.375000</td>\n",
       "      <td>138.700000</td>\n",
       "    </tr>\n",
       "    <tr>\n",
       "      <th>Width</th>\n",
       "      <td>156.0</td>\n",
       "      <td>71.150000</td>\n",
       "      <td>3.451872</td>\n",
       "      <td>62.600000</td>\n",
       "      <td>66.08500</td>\n",
       "      <td>66.400000</td>\n",
       "      <td>66.465000</td>\n",
       "      <td>66.500000</td>\n",
       "      <td>66.500000</td>\n",
       "      <td>66.900000</td>\n",
       "      <td>68.400000</td>\n",
       "      <td>70.550000</td>\n",
       "      <td>73.425000</td>\n",
       "      <td>76.200000</td>\n",
       "      <td>78.200000</td>\n",
       "      <td>78.200000</td>\n",
       "      <td>78.735000</td>\n",
       "      <td>78.800000</td>\n",
       "      <td>79.190000</td>\n",
       "      <td>79.900000</td>\n",
       "    </tr>\n",
       "    <tr>\n",
       "      <th>Length</th>\n",
       "      <td>156.0</td>\n",
       "      <td>187.343590</td>\n",
       "      <td>13.431754</td>\n",
       "      <td>149.400000</td>\n",
       "      <td>154.91500</td>\n",
       "      <td>158.150000</td>\n",
       "      <td>160.855000</td>\n",
       "      <td>163.300000</td>\n",
       "      <td>163.675000</td>\n",
       "      <td>173.000000</td>\n",
       "      <td>177.575000</td>\n",
       "      <td>187.900000</td>\n",
       "      <td>196.125000</td>\n",
       "      <td>203.400000</td>\n",
       "      <td>208.500000</td>\n",
       "      <td>208.980000</td>\n",
       "      <td>212.000000</td>\n",
       "      <td>214.700000</td>\n",
       "      <td>219.305000</td>\n",
       "      <td>224.500000</td>\n",
       "    </tr>\n",
       "    <tr>\n",
       "      <th>Curb_weight</th>\n",
       "      <td>155.0</td>\n",
       "      <td>3.378026</td>\n",
       "      <td>0.630502</td>\n",
       "      <td>1.895000</td>\n",
       "      <td>2.24540</td>\n",
       "      <td>2.332560</td>\n",
       "      <td>2.356360</td>\n",
       "      <td>2.401520</td>\n",
       "      <td>2.423500</td>\n",
       "      <td>2.606200</td>\n",
       "      <td>2.971000</td>\n",
       "      <td>3.342000</td>\n",
       "      <td>3.799500</td>\n",
       "      <td>4.118600</td>\n",
       "      <td>4.389100</td>\n",
       "      <td>4.457840</td>\n",
       "      <td>4.629440</td>\n",
       "      <td>5.090440</td>\n",
       "      <td>5.396680</td>\n",
       "      <td>5.572000</td>\n",
       "    </tr>\n",
       "    <tr>\n",
       "      <th>Fuel_capacity</th>\n",
       "      <td>156.0</td>\n",
       "      <td>17.951923</td>\n",
       "      <td>3.887921</td>\n",
       "      <td>10.300000</td>\n",
       "      <td>11.90000</td>\n",
       "      <td>12.010000</td>\n",
       "      <td>12.100000</td>\n",
       "      <td>12.180000</td>\n",
       "      <td>12.500000</td>\n",
       "      <td>13.200000</td>\n",
       "      <td>15.800000</td>\n",
       "      <td>17.200000</td>\n",
       "      <td>19.575000</td>\n",
       "      <td>23.200000</td>\n",
       "      <td>25.400000</td>\n",
       "      <td>25.880000</td>\n",
       "      <td>26.000000</td>\n",
       "      <td>29.600000</td>\n",
       "      <td>30.900000</td>\n",
       "      <td>32.000000</td>\n",
       "    </tr>\n",
       "    <tr>\n",
       "      <th>Fuel_efficiency</th>\n",
       "      <td>154.0</td>\n",
       "      <td>23.844156</td>\n",
       "      <td>4.282706</td>\n",
       "      <td>15.000000</td>\n",
       "      <td>15.00000</td>\n",
       "      <td>15.000000</td>\n",
       "      <td>15.590000</td>\n",
       "      <td>16.000000</td>\n",
       "      <td>16.650000</td>\n",
       "      <td>18.300000</td>\n",
       "      <td>21.000000</td>\n",
       "      <td>24.000000</td>\n",
       "      <td>26.000000</td>\n",
       "      <td>28.700000</td>\n",
       "      <td>31.000000</td>\n",
       "      <td>31.000000</td>\n",
       "      <td>32.410000</td>\n",
       "      <td>33.000000</td>\n",
       "      <td>33.000000</td>\n",
       "      <td>45.000000</td>\n",
       "    </tr>\n",
       "    <tr>\n",
       "      <th>Power_perf_factor</th>\n",
       "      <td>155.0</td>\n",
       "      <td>77.043591</td>\n",
       "      <td>25.142664</td>\n",
       "      <td>23.276272</td>\n",
       "      <td>38.46192</td>\n",
       "      <td>40.874394</td>\n",
       "      <td>43.026679</td>\n",
       "      <td>44.363465</td>\n",
       "      <td>46.203997</td>\n",
       "      <td>48.447741</td>\n",
       "      <td>60.407707</td>\n",
       "      <td>72.030917</td>\n",
       "      <td>89.414878</td>\n",
       "      <td>108.499252</td>\n",
       "      <td>125.091513</td>\n",
       "      <td>132.932239</td>\n",
       "      <td>135.134842</td>\n",
       "      <td>139.656887</td>\n",
       "      <td>141.119461</td>\n",
       "      <td>188.144323</td>\n",
       "    </tr>\n",
       "    <tr>\n",
       "      <th>age_car</th>\n",
       "      <td>157.0</td>\n",
       "      <td>12.566879</td>\n",
       "      <td>0.633204</td>\n",
       "      <td>12.000000</td>\n",
       "      <td>12.00000</td>\n",
       "      <td>12.000000</td>\n",
       "      <td>12.000000</td>\n",
       "      <td>12.000000</td>\n",
       "      <td>12.000000</td>\n",
       "      <td>12.000000</td>\n",
       "      <td>12.000000</td>\n",
       "      <td>13.000000</td>\n",
       "      <td>13.000000</td>\n",
       "      <td>13.000000</td>\n",
       "      <td>13.000000</td>\n",
       "      <td>13.000000</td>\n",
       "      <td>13.000000</td>\n",
       "      <td>13.000000</td>\n",
       "      <td>15.000000</td>\n",
       "      <td>16.000000</td>\n",
       "    </tr>\n",
       "    <tr>\n",
       "      <th>Area_car</th>\n",
       "      <td>156.0</td>\n",
       "      <td>13362.224359</td>\n",
       "      <td>1495.731091</td>\n",
       "      <td>9352.440000</td>\n",
       "      <td>10402.04250</td>\n",
       "      <td>10662.293000</td>\n",
       "      <td>10846.087000</td>\n",
       "      <td>10941.390000</td>\n",
       "      <td>11103.090000</td>\n",
       "      <td>11642.875000</td>\n",
       "      <td>12215.617500</td>\n",
       "      <td>13249.970000</td>\n",
       "      <td>14410.785000</td>\n",
       "      <td>15313.680000</td>\n",
       "      <td>15693.285000</td>\n",
       "      <td>16311.220000</td>\n",
       "      <td>16481.810000</td>\n",
       "      <td>16578.400000</td>\n",
       "      <td>17251.130500</td>\n",
       "      <td>17779.060000</td>\n",
       "    </tr>\n",
       "  </tbody>\n",
       "</table>\n",
       "</div>\n",
       "    <div class=\"colab-df-buttons\">\n",
       "\n",
       "  <div class=\"colab-df-container\">\n",
       "    <button class=\"colab-df-convert\" onclick=\"convertToInteractive('df-d701b675-d3c7-4e22-b405-e49439c08358')\"\n",
       "            title=\"Convert this dataframe to an interactive table.\"\n",
       "            style=\"display:none;\">\n",
       "\n",
       "  <svg xmlns=\"http://www.w3.org/2000/svg\" height=\"24px\" viewBox=\"0 -960 960 960\">\n",
       "    <path d=\"M120-120v-720h720v720H120Zm60-500h600v-160H180v160Zm220 220h160v-160H400v160Zm0 220h160v-160H400v160ZM180-400h160v-160H180v160Zm440 0h160v-160H620v160ZM180-180h160v-160H180v160Zm440 0h160v-160H620v160Z\"/>\n",
       "  </svg>\n",
       "    </button>\n",
       "\n",
       "  <style>\n",
       "    .colab-df-container {\n",
       "      display:flex;\n",
       "      gap: 12px;\n",
       "    }\n",
       "\n",
       "    .colab-df-convert {\n",
       "      background-color: #E8F0FE;\n",
       "      border: none;\n",
       "      border-radius: 50%;\n",
       "      cursor: pointer;\n",
       "      display: none;\n",
       "      fill: #1967D2;\n",
       "      height: 32px;\n",
       "      padding: 0 0 0 0;\n",
       "      width: 32px;\n",
       "    }\n",
       "\n",
       "    .colab-df-convert:hover {\n",
       "      background-color: #E2EBFA;\n",
       "      box-shadow: 0px 1px 2px rgba(60, 64, 67, 0.3), 0px 1px 3px 1px rgba(60, 64, 67, 0.15);\n",
       "      fill: #174EA6;\n",
       "    }\n",
       "\n",
       "    .colab-df-buttons div {\n",
       "      margin-bottom: 4px;\n",
       "    }\n",
       "\n",
       "    [theme=dark] .colab-df-convert {\n",
       "      background-color: #3B4455;\n",
       "      fill: #D2E3FC;\n",
       "    }\n",
       "\n",
       "    [theme=dark] .colab-df-convert:hover {\n",
       "      background-color: #434B5C;\n",
       "      box-shadow: 0px 1px 3px 1px rgba(0, 0, 0, 0.15);\n",
       "      filter: drop-shadow(0px 1px 2px rgba(0, 0, 0, 0.3));\n",
       "      fill: #FFFFFF;\n",
       "    }\n",
       "  </style>\n",
       "\n",
       "    <script>\n",
       "      const buttonEl =\n",
       "        document.querySelector('#df-d701b675-d3c7-4e22-b405-e49439c08358 button.colab-df-convert');\n",
       "      buttonEl.style.display =\n",
       "        google.colab.kernel.accessAllowed ? 'block' : 'none';\n",
       "\n",
       "      async function convertToInteractive(key) {\n",
       "        const element = document.querySelector('#df-d701b675-d3c7-4e22-b405-e49439c08358');\n",
       "        const dataTable =\n",
       "          await google.colab.kernel.invokeFunction('convertToInteractive',\n",
       "                                                    [key], {});\n",
       "        if (!dataTable) return;\n",
       "\n",
       "        const docLinkHtml = 'Like what you see? Visit the ' +\n",
       "          '<a target=\"_blank\" href=https://colab.research.google.com/notebooks/data_table.ipynb>data table notebook</a>'\n",
       "          + ' to learn more about interactive tables.';\n",
       "        element.innerHTML = '';\n",
       "        dataTable['output_type'] = 'display_data';\n",
       "        await google.colab.output.renderOutput(dataTable, element);\n",
       "        const docLink = document.createElement('div');\n",
       "        docLink.innerHTML = docLinkHtml;\n",
       "        element.appendChild(docLink);\n",
       "      }\n",
       "    </script>\n",
       "  </div>\n",
       "\n",
       "\n",
       "<div id=\"df-8b924936-16b0-4b0b-a671-f4b75acdf0ea\">\n",
       "  <button class=\"colab-df-quickchart\" onclick=\"quickchart('df-8b924936-16b0-4b0b-a671-f4b75acdf0ea')\"\n",
       "            title=\"Suggest charts\"\n",
       "            style=\"display:none;\">\n",
       "\n",
       "<svg xmlns=\"http://www.w3.org/2000/svg\" height=\"24px\"viewBox=\"0 0 24 24\"\n",
       "     width=\"24px\">\n",
       "    <g>\n",
       "        <path d=\"M19 3H5c-1.1 0-2 .9-2 2v14c0 1.1.9 2 2 2h14c1.1 0 2-.9 2-2V5c0-1.1-.9-2-2-2zM9 17H7v-7h2v7zm4 0h-2V7h2v10zm4 0h-2v-4h2v4z\"/>\n",
       "    </g>\n",
       "</svg>\n",
       "  </button>\n",
       "\n",
       "<style>\n",
       "  .colab-df-quickchart {\n",
       "      --bg-color: #E8F0FE;\n",
       "      --fill-color: #1967D2;\n",
       "      --hover-bg-color: #E2EBFA;\n",
       "      --hover-fill-color: #174EA6;\n",
       "      --disabled-fill-color: #AAA;\n",
       "      --disabled-bg-color: #DDD;\n",
       "  }\n",
       "\n",
       "  [theme=dark] .colab-df-quickchart {\n",
       "      --bg-color: #3B4455;\n",
       "      --fill-color: #D2E3FC;\n",
       "      --hover-bg-color: #434B5C;\n",
       "      --hover-fill-color: #FFFFFF;\n",
       "      --disabled-bg-color: #3B4455;\n",
       "      --disabled-fill-color: #666;\n",
       "  }\n",
       "\n",
       "  .colab-df-quickchart {\n",
       "    background-color: var(--bg-color);\n",
       "    border: none;\n",
       "    border-radius: 50%;\n",
       "    cursor: pointer;\n",
       "    display: none;\n",
       "    fill: var(--fill-color);\n",
       "    height: 32px;\n",
       "    padding: 0;\n",
       "    width: 32px;\n",
       "  }\n",
       "\n",
       "  .colab-df-quickchart:hover {\n",
       "    background-color: var(--hover-bg-color);\n",
       "    box-shadow: 0 1px 2px rgba(60, 64, 67, 0.3), 0 1px 3px 1px rgba(60, 64, 67, 0.15);\n",
       "    fill: var(--button-hover-fill-color);\n",
       "  }\n",
       "\n",
       "  .colab-df-quickchart-complete:disabled,\n",
       "  .colab-df-quickchart-complete:disabled:hover {\n",
       "    background-color: var(--disabled-bg-color);\n",
       "    fill: var(--disabled-fill-color);\n",
       "    box-shadow: none;\n",
       "  }\n",
       "\n",
       "  .colab-df-spinner {\n",
       "    border: 2px solid var(--fill-color);\n",
       "    border-color: transparent;\n",
       "    border-bottom-color: var(--fill-color);\n",
       "    animation:\n",
       "      spin 1s steps(1) infinite;\n",
       "  }\n",
       "\n",
       "  @keyframes spin {\n",
       "    0% {\n",
       "      border-color: transparent;\n",
       "      border-bottom-color: var(--fill-color);\n",
       "      border-left-color: var(--fill-color);\n",
       "    }\n",
       "    20% {\n",
       "      border-color: transparent;\n",
       "      border-left-color: var(--fill-color);\n",
       "      border-top-color: var(--fill-color);\n",
       "    }\n",
       "    30% {\n",
       "      border-color: transparent;\n",
       "      border-left-color: var(--fill-color);\n",
       "      border-top-color: var(--fill-color);\n",
       "      border-right-color: var(--fill-color);\n",
       "    }\n",
       "    40% {\n",
       "      border-color: transparent;\n",
       "      border-right-color: var(--fill-color);\n",
       "      border-top-color: var(--fill-color);\n",
       "    }\n",
       "    60% {\n",
       "      border-color: transparent;\n",
       "      border-right-color: var(--fill-color);\n",
       "    }\n",
       "    80% {\n",
       "      border-color: transparent;\n",
       "      border-right-color: var(--fill-color);\n",
       "      border-bottom-color: var(--fill-color);\n",
       "    }\n",
       "    90% {\n",
       "      border-color: transparent;\n",
       "      border-bottom-color: var(--fill-color);\n",
       "    }\n",
       "  }\n",
       "</style>\n",
       "\n",
       "  <script>\n",
       "    async function quickchart(key) {\n",
       "      const quickchartButtonEl =\n",
       "        document.querySelector('#' + key + ' button');\n",
       "      quickchartButtonEl.disabled = true;  // To prevent multiple clicks.\n",
       "      quickchartButtonEl.classList.add('colab-df-spinner');\n",
       "      try {\n",
       "        const charts = await google.colab.kernel.invokeFunction(\n",
       "            'suggestCharts', [key], {});\n",
       "      } catch (error) {\n",
       "        console.error('Error during call to suggestCharts:', error);\n",
       "      }\n",
       "      quickchartButtonEl.classList.remove('colab-df-spinner');\n",
       "      quickchartButtonEl.classList.add('colab-df-quickchart-complete');\n",
       "    }\n",
       "    (() => {\n",
       "      let quickchartButtonEl =\n",
       "        document.querySelector('#df-8b924936-16b0-4b0b-a671-f4b75acdf0ea button');\n",
       "      quickchartButtonEl.style.display =\n",
       "        google.colab.kernel.accessAllowed ? 'block' : 'none';\n",
       "    })();\n",
       "  </script>\n",
       "</div>\n",
       "\n",
       "    </div>\n",
       "  </div>\n"
      ],
      "text/plain": [
       "                    count          mean          std          min  \\\n",
       "Sales_in_thousands  157.0     52.998076    68.029422     0.110000   \n",
       "Price_in_thousands  155.0     27.390755    14.351653     9.235000   \n",
       "Engine_size         156.0      3.060897     1.044653     1.000000   \n",
       "Horsepower          156.0    185.948718    56.700321    55.000000   \n",
       "Wheelbase           156.0    107.487179     7.641303    92.600000   \n",
       "Width               156.0     71.150000     3.451872    62.600000   \n",
       "Length              156.0    187.343590    13.431754   149.400000   \n",
       "Curb_weight         155.0      3.378026     0.630502     1.895000   \n",
       "Fuel_capacity       156.0     17.951923     3.887921    10.300000   \n",
       "Fuel_efficiency     154.0     23.844156     4.282706    15.000000   \n",
       "Power_perf_factor   155.0     77.043591    25.142664    23.276272   \n",
       "age_car             157.0     12.566879     0.633204    12.000000   \n",
       "Area_car            156.0  13362.224359  1495.731091  9352.440000   \n",
       "\n",
       "                             1%            2%            3%            4%  \\\n",
       "Sales_in_thousands      0.93728      1.132160      1.348000      1.607600   \n",
       "Price_in_thousands     10.23144     11.549680     11.954620     12.109200   \n",
       "Engine_size             1.55500      1.800000      1.800000      1.800000   \n",
       "Horsepower             96.40000    100.600000    106.650000    110.600000   \n",
       "Wheelbase              92.87500     93.510000     94.500000     94.960000   \n",
       "Width                  66.08500     66.400000     66.465000     66.500000   \n",
       "Length                154.91500    158.150000    160.855000    163.300000   \n",
       "Curb_weight             2.24540      2.332560      2.356360      2.401520   \n",
       "Fuel_capacity          11.90000     12.010000     12.100000     12.180000   \n",
       "Fuel_efficiency        15.00000     15.000000     15.590000     16.000000   \n",
       "Power_perf_factor      38.46192     40.874394     43.026679     44.363465   \n",
       "age_car                12.00000     12.000000     12.000000     12.000000   \n",
       "Area_car            10402.04250  10662.293000  10846.087000  10941.390000   \n",
       "\n",
       "                              5%           10%           25%           50%  \\\n",
       "Sales_in_thousands      1.870800      5.453600     14.114000     29.450000   \n",
       "Price_in_thousands     12.469000     13.970800     18.017500     22.799000   \n",
       "Engine_size             1.800000      1.950000      2.300000      3.000000   \n",
       "Horsepower            114.500000    120.000000    149.500000    177.500000   \n",
       "Wheelbase              95.875000     98.650000    103.000000    107.000000   \n",
       "Width                  66.500000     66.900000     68.400000     70.550000   \n",
       "Length                163.675000    173.000000    177.575000    187.900000   \n",
       "Curb_weight             2.423500      2.606200      2.971000      3.342000   \n",
       "Fuel_capacity          12.500000     13.200000     15.800000     17.200000   \n",
       "Fuel_efficiency        16.650000     18.300000     21.000000     24.000000   \n",
       "Power_perf_factor      46.203997     48.447741     60.407707     72.030917   \n",
       "age_car                12.000000     12.000000     12.000000     13.000000   \n",
       "Area_car            11103.090000  11642.875000  12215.617500  13249.970000   \n",
       "\n",
       "                             75%           90%           95%           96%  \\\n",
       "Sales_in_thousands     67.956000    127.641600    185.336200    215.618400   \n",
       "Price_in_thousands     31.947500     44.017000     55.835000     61.696800   \n",
       "Engine_size             3.575000      4.600000      4.775000      5.000000   \n",
       "Horsepower            215.000000    254.000000    300.000000    300.000000   \n",
       "Wheelbase             112.200000    115.500000    119.250000    120.000000   \n",
       "Width                  73.425000     76.200000     78.200000     78.200000   \n",
       "Length                196.125000    203.400000    208.500000    208.980000   \n",
       "Curb_weight             3.799500      4.118600      4.389100      4.457840   \n",
       "Fuel_capacity          19.575000     23.200000     25.400000     25.880000   \n",
       "Fuel_efficiency        26.000000     28.700000     31.000000     31.000000   \n",
       "Power_perf_factor      89.414878    108.499252    125.091513    132.932239   \n",
       "age_car                13.000000     13.000000     13.000000     13.000000   \n",
       "Area_car            14410.785000  15313.680000  15693.285000  16311.220000   \n",
       "\n",
       "                             97%           98%           99%           max  \n",
       "Sales_in_thousands    228.290120    244.025440    260.645320    540.561000  \n",
       "Price_in_thousands     69.709500     70.916400     78.479800     85.500000  \n",
       "Engine_size             5.200000      5.380000      5.700000      8.000000  \n",
       "Horsepower            300.700000    302.000000    325.750000    450.000000  \n",
       "Wheelbase             120.980000    126.630000    134.375000    138.700000  \n",
       "Width                  78.735000     78.800000     79.190000     79.900000  \n",
       "Length                212.000000    214.700000    219.305000    224.500000  \n",
       "Curb_weight             4.629440      5.090440      5.396680      5.572000  \n",
       "Fuel_capacity          26.000000     29.600000     30.900000     32.000000  \n",
       "Fuel_efficiency        32.410000     33.000000     33.000000     45.000000  \n",
       "Power_perf_factor     135.134842    139.656887    141.119461    188.144323  \n",
       "age_car                13.000000     13.000000     15.000000     16.000000  \n",
       "Area_car            16481.810000  16578.400000  17251.130500  17779.060000  "
      ]
     },
     "execution_count": 179,
     "metadata": {},
     "output_type": "execute_result"
    }
   ],
   "source": [
    "vehdata.describe(percentiles=[0.01,.02,.03,.04,.05,.1,.25,.50,.75,.90,.95, .96,.97,.98,.99]).T"
   ]
  },
  {
   "cell_type": "code",
   "execution_count": 180,
   "metadata": {
    "colab": {
     "base_uri": "https://localhost:8080/"
    },
    "executionInfo": {
     "elapsed": 10,
     "status": "ok",
     "timestamp": 1707116084625,
     "user": {
      "displayName": "Purushottam Sharma",
      "userId": "07059085683737545073"
     },
     "user_tz": -330
    },
    "id": "yLk0FlfCYvwY",
    "outputId": "e1536e2a-156d-469d-b9a8-68e93584ac71"
   },
   "outputs": [
    {
     "data": {
      "text/plain": [
       "260.64531999999997"
      ]
     },
     "execution_count": 180,
     "metadata": {},
     "output_type": "execute_result"
    }
   ],
   "source": [
    "vehdata[\"Sales_in_thousands\"].quantile(.99)"
   ]
  },
  {
   "cell_type": "code",
   "execution_count": 181,
   "metadata": {
    "executionInfo": {
     "elapsed": 5,
     "status": "ok",
     "timestamp": 1707116084625,
     "user": {
      "displayName": "Purushottam Sharma",
      "userId": "07059085683737545073"
     },
     "user_tz": -330
    },
    "id": "JpHoVqA9ZO4R"
   },
   "outputs": [],
   "source": [
    "# vehdata[\"Sales_in_thousands\"]=np.where(vehdata[\"Sales_in_thousands\"]>=260.65,260.65,vehdata[\"Sales_in_thousands\"] )"
   ]
  },
  {
   "cell_type": "code",
   "execution_count": 182,
   "metadata": {
    "executionInfo": {
     "elapsed": 5,
     "status": "ok",
     "timestamp": 1707116085653,
     "user": {
      "displayName": "Purushottam Sharma",
      "userId": "07059085683737545073"
     },
     "user_tz": -330
    },
    "id": "AkZciYpYZ62C"
   },
   "outputs": [],
   "source": [
    "def outliercapM1(x):\n",
    "  x=x.clip(upper=x.quantile(.99))\n",
    "  # x=x.clip(lower=x.quantile(.01))\n",
    "  return x"
   ]
  },
  {
   "cell_type": "code",
   "execution_count": 183,
   "metadata": {
    "executionInfo": {
     "elapsed": 7,
     "status": "ok",
     "timestamp": 1707116086340,
     "user": {
      "displayName": "Purushottam Sharma",
      "userId": "07059085683737545073"
     },
     "user_tz": -330
    },
    "id": "P0bF_eSeb9AP"
   },
   "outputs": [],
   "source": [
    "num_data=num_data.apply(outliercapM1)"
   ]
  },
  {
   "cell_type": "code",
   "execution_count": 184,
   "metadata": {
    "executionInfo": {
     "elapsed": 6,
     "status": "ok",
     "timestamp": 1707116086341,
     "user": {
      "displayName": "Purushottam Sharma",
      "userId": "07059085683737545073"
     },
     "user_tz": -330
    },
    "id": "ZRG3lnV0cA7b"
   },
   "outputs": [],
   "source": [
    "# num_data.describe(percentiles=[0.01,.02,.03,.04,.05,.1,.25,.50,.75,.90,.95, .96,.97,.98,.99]).T"
   ]
  },
  {
   "cell_type": "code",
   "execution_count": 185,
   "metadata": {
    "executionInfo": {
     "elapsed": 9,
     "status": "ok",
     "timestamp": 1707116087135,
     "user": {
      "displayName": "Purushottam Sharma",
      "userId": "07059085683737545073"
     },
     "user_tz": -330
    },
    "id": "gp9Z629UcGXN"
   },
   "outputs": [],
   "source": [
    "final_data=pd.concat([cat_data, num_data], axis=1)"
   ]
  },
  {
   "cell_type": "code",
   "execution_count": 186,
   "metadata": {
    "executionInfo": {
     "elapsed": 2,
     "status": "ok",
     "timestamp": 1707116087991,
     "user": {
      "displayName": "Purushottam Sharma",
      "userId": "07059085683737545073"
     },
     "user_tz": -330
    },
    "id": "Spoltw_zeEZo"
   },
   "outputs": [],
   "source": [
    "# Convert non numerical columns to numerical  (Dummy creation)"
   ]
  },
  {
   "cell_type": "code",
   "execution_count": 187,
   "metadata": {
    "executionInfo": {
     "elapsed": 3,
     "status": "ok",
     "timestamp": 1707116090685,
     "user": {
      "displayName": "Purushottam Sharma",
      "userId": "07059085683737545073"
     },
     "user_tz": -330
    },
    "id": "9xXMgJsTepD0"
   },
   "outputs": [],
   "source": [
    "final_data0=pd.get_dummies(final_data, columns=[\"Manufacturer\", \"Vehicle_type\"], drop_first=True, dtype=int)"
   ]
  },
  {
   "cell_type": "code",
   "execution_count": 188,
   "metadata": {
    "executionInfo": {
     "elapsed": 4,
     "status": "ok",
     "timestamp": 1707116091954,
     "user": {
      "displayName": "Purushottam Sharma",
      "userId": "07059085683737545073"
     },
     "user_tz": -330
    },
    "id": "tv1leti1f4YE"
   },
   "outputs": [],
   "source": [
    "# final_data0.columns"
   ]
  },
  {
   "cell_type": "code",
   "execution_count": 189,
   "metadata": {
    "executionInfo": {
     "elapsed": 5,
     "status": "ok",
     "timestamp": 1707116091955,
     "user": {
      "displayName": "Purushottam Sharma",
      "userId": "07059085683737545073"
     },
     "user_tz": -330
    },
    "id": "IZ_fbXLsgDOR"
   },
   "outputs": [],
   "source": [
    "# Assumptions"
   ]
  },
  {
   "cell_type": "code",
   "execution_count": 190,
   "metadata": {
    "executionInfo": {
     "elapsed": 4,
     "status": "ok",
     "timestamp": 1707116091955,
     "user": {
      "displayName": "Purushottam Sharma",
      "userId": "07059085683737545073"
     },
     "user_tz": -330
    },
    "id": "fJs7ko_He0Sc"
   },
   "outputs": [],
   "source": [
    "cor=final_data0[['Sales_in_thousands', 'Price_in_thousands', 'Engine_size', 'Horsepower',\n",
    "       'Wheelbase', 'Width', 'Length', 'Curb_weight', 'Fuel_capacity',\n",
    "       'Fuel_efficiency', 'Power_perf_factor', 'age_car', 'Area_car']].corr()"
   ]
  },
  {
   "cell_type": "code",
   "execution_count": 191,
   "metadata": {
    "colab": {
     "base_uri": "https://localhost:8080/",
     "height": 799
    },
    "executionInfo": {
     "elapsed": 2004,
     "status": "ok",
     "timestamp": 1707116093955,
     "user": {
      "displayName": "Purushottam Sharma",
      "userId": "07059085683737545073"
     },
     "user_tz": -330
    },
    "id": "7kQjiXhvgG2X",
    "outputId": "91077e11-8090-4f39-9a3d-ea99865d4d50"
   },
   "outputs": [
    {
     "data": {
      "image/png": "[encoded data removed]",
      "text/plain": [
       "<Figure size 1000x800 with 2 Axes>"
      ]
     },
     "metadata": {},
     "output_type": "display_data"
    }
   ],
   "source": [
    "plt.figure(figsize=(10,8))\n",
    "sns.heatmap(cor, annot=True, cmap=\"coolwarm\")\n",
    "plt.show()"
   ]
  },
  {
   "cell_type": "code",
   "execution_count": 192,
   "metadata": {
    "executionInfo": {
     "elapsed": 65,
     "status": "ok",
     "timestamp": 1707116093955,
     "user": {
      "displayName": "Purushottam Sharma",
      "userId": "07059085683737545073"
     },
     "user_tz": -330
    },
    "id": "vTX_8uzUgWnG"
   },
   "outputs": [],
   "source": [
    "# # # Autocorrelation ( Residual/Error Term -> Predicted value - actual Value)\n",
    "# # #Durbin watson Test\n",
    "# # H0 - There is no correlation among the residual\n",
    "# # Ha - There is correlation\n",
    "# CI- 95%, Alpha - 0.05\n",
    "# Decision : If p value > =0.05 - accept null\n",
    "#           : if p value < 0.05 - reject null"
   ]
  },
  {
   "cell_type": "code",
   "execution_count": 193,
   "metadata": {
    "executionInfo": {
     "elapsed": 58,
     "status": "ok",
     "timestamp": 1707116093956,
     "user": {
      "displayName": "Purushottam Sharma",
      "userId": "07059085683737545073"
     },
     "user_tz": -330
    },
    "id": "gpsC0gYEjlqY"
   },
   "outputs": [],
   "source": [
    "# normality\n",
    "# plt.figure(figsize=(5,3))\n",
    "# sns.histplot(final_data0[\"Sales_in_thousands\"])\n",
    "# plt.show()"
   ]
  },
  {
   "cell_type": "code",
   "execution_count": 194,
   "metadata": {
    "executionInfo": {
     "elapsed": 56,
     "status": "ok",
     "timestamp": 1707116093956,
     "user": {
      "displayName": "Purushottam Sharma",
      "userId": "07059085683737545073"
     },
     "user_tz": -330
    },
    "id": "u73-LBc6lMm3"
   },
   "outputs": [],
   "source": [
    "# # shapiro Test <5000 ; 5000> Jarque bera Test > 5000\n",
    "# Null -  Data is normal\n",
    "# Alternative - Data is not normal"
   ]
  },
  {
   "cell_type": "code",
   "execution_count": 195,
   "metadata": {
    "colab": {
     "base_uri": "https://localhost:8080/"
    },
    "executionInfo": {
     "elapsed": 55,
     "status": "ok",
     "timestamp": 1707116093956,
     "user": {
      "displayName": "Purushottam Sharma",
      "userId": "07059085683737545073"
     },
     "user_tz": -330
    },
    "id": "e4my6jvulxZZ",
    "outputId": "a57dff42-134e-4a4f-cd37-5c714453fb16"
   },
   "outputs": [
    {
     "data": {
      "text/plain": [
       "ShapiroResult(statistic=0.7552343010902405, pvalue=6.811628474131691e-15)"
      ]
     },
     "execution_count": 195,
     "metadata": {},
     "output_type": "execute_result"
    }
   ],
   "source": [
    "from scipy import stats\n",
    "stats.shapiro(final_data0[\"Sales_in_thousands\"])"
   ]
  },
  {
   "cell_type": "code",
   "execution_count": 196,
   "metadata": {
    "executionInfo": {
     "elapsed": 50,
     "status": "ok",
     "timestamp": 1707116093957,
     "user": {
      "displayName": "Purushottam Sharma",
      "userId": "07059085683737545073"
     },
     "user_tz": -330
    },
    "id": "kDEIusOwkbHU"
   },
   "outputs": [],
   "source": [
    "# Left skewed / Right skewed\n",
    "# Positive and negative"
   ]
  },
  {
   "cell_type": "code",
   "execution_count": 197,
   "metadata": {
    "colab": {
     "base_uri": "https://localhost:8080/",
     "height": 329
    },
    "executionInfo": {
     "elapsed": 49,
     "status": "ok",
     "timestamp": 1707116093957,
     "user": {
      "displayName": "Purushottam Sharma",
      "userId": "07059085683737545073"
     },
     "user_tz": -330
    },
    "id": "5twY9vSkmiS3",
    "outputId": "6bf7b677-9539-4779-f452-bc3f4d0f2f5d"
   },
   "outputs": [
    {
     "name": "stdout",
     "output_type": "stream",
     "text": [
      "ShapiroResult(statistic=0.9831064939498901, pvalue=0.05211067572236061)\n"
     ]
    },
    {
     "data": {
      "image/png": "[encoded data removed]",
      "text/plain": [
       "<Figure size 500x300 with 1 Axes>"
      ]
     },
     "metadata": {},
     "output_type": "display_data"
    }
   ],
   "source": [
    "# final_data0[\"Sales\"]=(final_data0[\"Sales_in_thousands\"])**(1/4)\n",
    "final_data0[\"Sales\"]=np.log1p(final_data0[\"Sales_in_thousands\"])\n",
    "\n",
    "print(stats.shapiro(final_data0[\"Sales\"]))\n",
    "plt.figure(figsize=(5,3))\n",
    "sns.histplot(final_data0[\"Sales\"])\n",
    "plt.show()"
   ]
  },
  {
   "cell_type": "code",
   "execution_count": 198,
   "metadata": {
    "colab": {
     "base_uri": "https://localhost:8080/"
    },
    "executionInfo": {
     "elapsed": 44,
     "status": "ok",
     "timestamp": 1707116093958,
     "user": {
      "displayName": "Purushottam Sharma",
      "userId": "07059085683737545073"
     },
     "user_tz": -330
    },
    "id": "uzTeqfIom_W9",
    "outputId": "92c2cb5d-e7ef-45dc-8e2f-b25443eb3f22"
   },
   "outputs": [
    {
     "data": {
      "text/plain": [
       "0.054488185284069776"
      ]
     },
     "execution_count": 198,
     "metadata": {},
     "output_type": "execute_result"
    }
   ],
   "source": [
    "np.log(0.056+1)"
   ]
  },
  {
   "cell_type": "code",
   "execution_count": 199,
   "metadata": {
    "colab": {
     "base_uri": "https://localhost:8080/"
    },
    "executionInfo": {
     "elapsed": 42,
     "status": "ok",
     "timestamp": 1707116093959,
     "user": {
      "displayName": "Purushottam Sharma",
      "userId": "07059085683737545073"
     },
     "user_tz": -330
    },
    "id": "T3QgaizNntXf",
    "outputId": "6e9c7a15-ed3b-4526-b195-f26d494b28b0"
   },
   "outputs": [
    {
     "data": {
      "text/plain": [
       "0.054488185284069734"
      ]
     },
     "execution_count": 199,
     "metadata": {},
     "output_type": "execute_result"
    }
   ],
   "source": [
    "np.log1p(0.056)"
   ]
  },
  {
   "cell_type": "code",
   "execution_count": 200,
   "metadata": {
    "colab": {
     "base_uri": "https://localhost:8080/"
    },
    "executionInfo": {
     "elapsed": 36,
     "status": "ok",
     "timestamp": 1707116093961,
     "user": {
      "displayName": "Purushottam Sharma",
      "userId": "07059085683737545073"
     },
     "user_tz": -330
    },
    "id": "R-tucYVSr3Qo",
    "outputId": "17f2ea65-16f1-4fcf-e79f-2278365814a2"
   },
   "outputs": [
    {
     "data": {
      "text/plain": [
       "Sales_in_thousands         float64\n",
       "Price_in_thousands         float64\n",
       "Engine_size                float64\n",
       "Horsepower                 float64\n",
       "Wheelbase                  float64\n",
       "Width                      float64\n",
       "Length                     float64\n",
       "Curb_weight                float64\n",
       "Fuel_capacity              float64\n",
       "Fuel_efficiency            float64\n",
       "Power_perf_factor          float64\n",
       "age_car                      int64\n",
       "Area_car                   float64\n",
       "Manufacturer_Audi            int64\n",
       "Manufacturer_BMW             int64\n",
       "Manufacturer_Buick           int64\n",
       "Manufacturer_Cadillac        int64\n",
       "Manufacturer_Chevrolet       int64\n",
       "Manufacturer_Chrysler        int64\n",
       "Manufacturer_Dodge           int64\n",
       "Manufacturer_Ford            int64\n",
       "Manufacturer_Honda           int64\n",
       "Manufacturer_Hyundai         int64\n",
       "Manufacturer_Infiniti        int64\n",
       "Manufacturer_Jaguar          int64\n",
       "Manufacturer_Jeep            int64\n",
       "Manufacturer_Lexus           int64\n",
       "Manufacturer_Lincoln         int64\n",
       "Manufacturer_Mercedes-B      int64\n",
       "Manufacturer_Mercury         int64\n",
       "Manufacturer_Mitsubishi      int64\n",
       "Manufacturer_Nissan          int64\n",
       "Manufacturer_Oldsmobile      int64\n",
       "Manufacturer_Plymouth        int64\n",
       "Manufacturer_Pontiac         int64\n",
       "Manufacturer_Porsche         int64\n",
       "Manufacturer_Saab            int64\n",
       "Manufacturer_Saturn          int64\n",
       "Manufacturer_Subaru          int64\n",
       "Manufacturer_Toyota          int64\n",
       "Manufacturer_Volkswagen      int64\n",
       "Manufacturer_Volvo           int64\n",
       "Vehicle_type_Passenger       int64\n",
       "Sales                      float64\n",
       "dtype: object"
      ]
     },
     "execution_count": 200,
     "metadata": {},
     "output_type": "execute_result"
    }
   ],
   "source": [
    "final_data0.dtypes"
   ]
  },
  {
   "cell_type": "code",
   "execution_count": 201,
   "metadata": {
    "executionInfo": {
     "elapsed": 29,
     "status": "ok",
     "timestamp": 1707116093961,
     "user": {
      "displayName": "Purushottam Sharma",
      "userId": "07059085683737545073"
     },
     "user_tz": -330
    },
    "id": "qZnyLCLsn2Aw"
   },
   "outputs": [],
   "source": [
    "y=final_data0[\"Sales\"]\n",
    "\n",
    "x=final_data0[['Price_in_thousands', 'Engine_size', 'Horsepower',\n",
    "       'Wheelbase', 'Width', 'Length', 'Curb_weight', 'Fuel_capacity',\n",
    "       'Fuel_efficiency', 'Power_perf_factor', 'age_car', 'Area_car',\n",
    "       'Manufacturer_Audi', 'Manufacturer_BMW', 'Manufacturer_Buick',\n",
    "       'Manufacturer_Cadillac', 'Manufacturer_Chevrolet',\n",
    "       'Manufacturer_Chrysler', 'Manufacturer_Dodge', 'Manufacturer_Ford',\n",
    "       'Manufacturer_Honda', 'Manufacturer_Hyundai', 'Manufacturer_Infiniti',\n",
    "       'Manufacturer_Jaguar', 'Manufacturer_Jeep', 'Manufacturer_Lexus',\n",
    "       'Manufacturer_Lincoln', 'Manufacturer_Mercedes-B',\n",
    "       'Manufacturer_Mercury', 'Manufacturer_Mitsubishi',\n",
    "       'Manufacturer_Nissan', 'Manufacturer_Oldsmobile',\n",
    "       'Manufacturer_Plymouth', 'Manufacturer_Pontiac', 'Manufacturer_Porsche',\n",
    "       'Manufacturer_Saab', 'Manufacturer_Saturn', 'Manufacturer_Subaru',\n",
    "       'Manufacturer_Toyota', 'Manufacturer_Volkswagen', 'Manufacturer_Volvo',\n",
    "       'Vehicle_type_Passenger']]"
   ]
  },
  {
   "cell_type": "code",
   "execution_count": 202,
   "metadata": {
    "executionInfo": {
     "elapsed": 29,
     "status": "ok",
     "timestamp": 1707116093962,
     "user": {
      "displayName": "Purushottam Sharma",
      "userId": "07059085683737545073"
     },
     "user_tz": -330
    },
    "id": "d4vZpBGssDMb"
   },
   "outputs": [],
   "source": [
    "from sklearn.model_selection import train_test_split"
   ]
  },
  {
   "cell_type": "code",
   "execution_count": 203,
   "metadata": {
    "executionInfo": {
     "elapsed": 16,
     "status": "ok",
     "timestamp": 1707116094911,
     "user": {
      "displayName": "Purushottam Sharma",
      "userId": "07059085683737545073"
     },
     "user_tz": -330
    },
    "id": "Xj0tsF2MshFp"
   },
   "outputs": [],
   "source": [
    "x_train, x_test, y_train, y_test=train_test_split(x,y, test_size=.3, random_state=88)\n"
   ]
  },
  {
   "cell_type": "code",
   "execution_count": 204,
   "metadata": {
    "colab": {
     "base_uri": "https://localhost:8080/",
     "height": 161
    },
    "executionInfo": {
     "elapsed": 15,
     "status": "ok",
     "timestamp": 1707116094912,
     "user": {
      "displayName": "Purushottam Sharma",
      "userId": "07059085683737545073"
     },
     "user_tz": -330
    },
    "id": "BM9rrtmutTvu",
    "outputId": "f6017c1c-c464-4819-a119-784d39e00fde"
   },
   "outputs": [
    {
     "data": {
      "text/html": [
       "\n",
       "  <div id=\"df-db09d3e7-79e5-48b3-a69e-323cea02a7b6\" class=\"colab-df-container\">\n",
       "    <div>\n",
       "<style scoped>\n",
       "    .dataframe tbody tr th:only-of-type {\n",
       "        vertical-align: middle;\n",
       "    }\n",
       "\n",
       "    .dataframe tbody tr th {\n",
       "        vertical-align: top;\n",
       "    }\n",
       "\n",
       "    .dataframe thead th {\n",
       "        text-align: right;\n",
       "    }\n",
       "</style>\n",
       "<table border=\"1\" class=\"dataframe\">\n",
       "  <thead>\n",
       "    <tr style=\"text-align: right;\">\n",
       "      <th></th>\n",
       "      <th>Price_in_thousands</th>\n",
       "      <th>Engine_size</th>\n",
       "      <th>Horsepower</th>\n",
       "      <th>Wheelbase</th>\n",
       "      <th>Width</th>\n",
       "      <th>Length</th>\n",
       "      <th>Curb_weight</th>\n",
       "      <th>Fuel_capacity</th>\n",
       "      <th>Fuel_efficiency</th>\n",
       "      <th>Power_perf_factor</th>\n",
       "      <th>...</th>\n",
       "      <th>Manufacturer_Plymouth</th>\n",
       "      <th>Manufacturer_Pontiac</th>\n",
       "      <th>Manufacturer_Porsche</th>\n",
       "      <th>Manufacturer_Saab</th>\n",
       "      <th>Manufacturer_Saturn</th>\n",
       "      <th>Manufacturer_Subaru</th>\n",
       "      <th>Manufacturer_Toyota</th>\n",
       "      <th>Manufacturer_Volkswagen</th>\n",
       "      <th>Manufacturer_Volvo</th>\n",
       "      <th>Vehicle_type_Passenger</th>\n",
       "    </tr>\n",
       "  </thead>\n",
       "  <tbody>\n",
       "    <tr>\n",
       "      <th>55</th>\n",
       "      <td>12.050</td>\n",
       "      <td>2.5</td>\n",
       "      <td>119.0</td>\n",
       "      <td>117.5</td>\n",
       "      <td>69.4</td>\n",
       "      <td>200.7</td>\n",
       "      <td>3.086</td>\n",
       "      <td>20.0</td>\n",
       "      <td>23.0</td>\n",
       "      <td>47.389531</td>\n",
       "      <td>...</td>\n",
       "      <td>0</td>\n",
       "      <td>0</td>\n",
       "      <td>0</td>\n",
       "      <td>0</td>\n",
       "      <td>0</td>\n",
       "      <td>0</td>\n",
       "      <td>0</td>\n",
       "      <td>0</td>\n",
       "      <td>0</td>\n",
       "      <td>0</td>\n",
       "    </tr>\n",
       "    <tr>\n",
       "      <th>104</th>\n",
       "      <td>26.399</td>\n",
       "      <td>3.3</td>\n",
       "      <td>170.0</td>\n",
       "      <td>112.2</td>\n",
       "      <td>74.9</td>\n",
       "      <td>194.8</td>\n",
       "      <td>3.991</td>\n",
       "      <td>20.0</td>\n",
       "      <td>21.0</td>\n",
       "      <td>71.171664</td>\n",
       "      <td>...</td>\n",
       "      <td>0</td>\n",
       "      <td>0</td>\n",
       "      <td>0</td>\n",
       "      <td>0</td>\n",
       "      <td>0</td>\n",
       "      <td>0</td>\n",
       "      <td>0</td>\n",
       "      <td>0</td>\n",
       "      <td>0</td>\n",
       "      <td>0</td>\n",
       "    </tr>\n",
       "  </tbody>\n",
       "</table>\n",
       "<p>2 rows × 42 columns</p>\n",
       "</div>\n",
       "    <div class=\"colab-df-buttons\">\n",
       "\n",
       "  <div class=\"colab-df-container\">\n",
       "    <button class=\"colab-df-convert\" onclick=\"convertToInteractive('df-db09d3e7-79e5-48b3-a69e-323cea02a7b6')\"\n",
       "            title=\"Convert this dataframe to an interactive table.\"\n",
       "            style=\"display:none;\">\n",
       "\n",
       "  <svg xmlns=\"http://www.w3.org/2000/svg\" height=\"24px\" viewBox=\"0 -960 960 960\">\n",
       "    <path d=\"M120-120v-720h720v720H120Zm60-500h600v-160H180v160Zm220 220h160v-160H400v160Zm0 220h160v-160H400v160ZM180-400h160v-160H180v160Zm440 0h160v-160H620v160ZM180-180h160v-160H180v160Zm440 0h160v-160H620v160Z\"/>\n",
       "  </svg>\n",
       "    </button>\n",
       "\n",
       "  <style>\n",
       "    .colab-df-container {\n",
       "      display:flex;\n",
       "      gap: 12px;\n",
       "    }\n",
       "\n",
       "    .colab-df-convert {\n",
       "      background-color: #E8F0FE;\n",
       "      border: none;\n",
       "      border-radius: 50%;\n",
       "      cursor: pointer;\n",
       "      display: none;\n",
       "      fill: #1967D2;\n",
       "      height: 32px;\n",
       "      padding: 0 0 0 0;\n",
       "      width: 32px;\n",
       "    }\n",
       "\n",
       "    .colab-df-convert:hover {\n",
       "      background-color: #E2EBFA;\n",
       "      box-shadow: 0px 1px 2px rgba(60, 64, 67, 0.3), 0px 1px 3px 1px rgba(60, 64, 67, 0.15);\n",
       "      fill: #174EA6;\n",
       "    }\n",
       "\n",
       "    .colab-df-buttons div {\n",
       "      margin-bottom: 4px;\n",
       "    }\n",
       "\n",
       "    [theme=dark] .colab-df-convert {\n",
       "      background-color: #3B4455;\n",
       "      fill: #D2E3FC;\n",
       "    }\n",
       "\n",
       "    [theme=dark] .colab-df-convert:hover {\n",
       "      background-color: #434B5C;\n",
       "      box-shadow: 0px 1px 3px 1px rgba(0, 0, 0, 0.15);\n",
       "      filter: drop-shadow(0px 1px 2px rgba(0, 0, 0, 0.3));\n",
       "      fill: #FFFFFF;\n",
       "    }\n",
       "  </style>\n",
       "\n",
       "    <script>\n",
       "      const buttonEl =\n",
       "        document.querySelector('#df-db09d3e7-79e5-48b3-a69e-323cea02a7b6 button.colab-df-convert');\n",
       "      buttonEl.style.display =\n",
       "        google.colab.kernel.accessAllowed ? 'block' : 'none';\n",
       "\n",
       "      async function convertToInteractive(key) {\n",
       "        const element = document.querySelector('#df-db09d3e7-79e5-48b3-a69e-323cea02a7b6');\n",
       "        const dataTable =\n",
       "          await google.colab.kernel.invokeFunction('convertToInteractive',\n",
       "                                                    [key], {});\n",
       "        if (!dataTable) return;\n",
       "\n",
       "        const docLinkHtml = 'Like what you see? Visit the ' +\n",
       "          '<a target=\"_blank\" href=https://colab.research.google.com/notebooks/data_table.ipynb>data table notebook</a>'\n",
       "          + ' to learn more about interactive tables.';\n",
       "        element.innerHTML = '';\n",
       "        dataTable['output_type'] = 'display_data';\n",
       "        await google.colab.output.renderOutput(dataTable, element);\n",
       "        const docLink = document.createElement('div');\n",
       "        docLink.innerHTML = docLinkHtml;\n",
       "        element.appendChild(docLink);\n",
       "      }\n",
       "    </script>\n",
       "  </div>\n",
       "\n",
       "\n",
       "<div id=\"df-6509f740-286c-4825-9ec8-406a8a618f8d\">\n",
       "  <button class=\"colab-df-quickchart\" onclick=\"quickchart('df-6509f740-286c-4825-9ec8-406a8a618f8d')\"\n",
       "            title=\"Suggest charts\"\n",
       "            style=\"display:none;\">\n",
       "\n",
       "<svg xmlns=\"http://www.w3.org/2000/svg\" height=\"24px\"viewBox=\"0 0 24 24\"\n",
       "     width=\"24px\">\n",
       "    <g>\n",
       "        <path d=\"M19 3H5c-1.1 0-2 .9-2 2v14c0 1.1.9 2 2 2h14c1.1 0 2-.9 2-2V5c0-1.1-.9-2-2-2zM9 17H7v-7h2v7zm4 0h-2V7h2v10zm4 0h-2v-4h2v4z\"/>\n",
       "    </g>\n",
       "</svg>\n",
       "  </button>\n",
       "\n",
       "<style>\n",
       "  .colab-df-quickchart {\n",
       "      --bg-color: #E8F0FE;\n",
       "      --fill-color: #1967D2;\n",
       "      --hover-bg-color: #E2EBFA;\n",
       "      --hover-fill-color: #174EA6;\n",
       "      --disabled-fill-color: #AAA;\n",
       "      --disabled-bg-color: #DDD;\n",
       "  }\n",
       "\n",
       "  [theme=dark] .colab-df-quickchart {\n",
       "      --bg-color: #3B4455;\n",
       "      --fill-color: #D2E3FC;\n",
       "      --hover-bg-color: #434B5C;\n",
       "      --hover-fill-color: #FFFFFF;\n",
       "      --disabled-bg-color: #3B4455;\n",
       "      --disabled-fill-color: #666;\n",
       "  }\n",
       "\n",
       "  .colab-df-quickchart {\n",
       "    background-color: var(--bg-color);\n",
       "    border: none;\n",
       "    border-radius: 50%;\n",
       "    cursor: pointer;\n",
       "    display: none;\n",
       "    fill: var(--fill-color);\n",
       "    height: 32px;\n",
       "    padding: 0;\n",
       "    width: 32px;\n",
       "  }\n",
       "\n",
       "  .colab-df-quickchart:hover {\n",
       "    background-color: var(--hover-bg-color);\n",
       "    box-shadow: 0 1px 2px rgba(60, 64, 67, 0.3), 0 1px 3px 1px rgba(60, 64, 67, 0.15);\n",
       "    fill: var(--button-hover-fill-color);\n",
       "  }\n",
       "\n",
       "  .colab-df-quickchart-complete:disabled,\n",
       "  .colab-df-quickchart-complete:disabled:hover {\n",
       "    background-color: var(--disabled-bg-color);\n",
       "    fill: var(--disabled-fill-color);\n",
       "    box-shadow: none;\n",
       "  }\n",
       "\n",
       "  .colab-df-spinner {\n",
       "    border: 2px solid var(--fill-color);\n",
       "    border-color: transparent;\n",
       "    border-bottom-color: var(--fill-color);\n",
       "    animation:\n",
       "      spin 1s steps(1) infinite;\n",
       "  }\n",
       "\n",
       "  @keyframes spin {\n",
       "    0% {\n",
       "      border-color: transparent;\n",
       "      border-bottom-color: var(--fill-color);\n",
       "      border-left-color: var(--fill-color);\n",
       "    }\n",
       "    20% {\n",
       "      border-color: transparent;\n",
       "      border-left-color: var(--fill-color);\n",
       "      border-top-color: var(--fill-color);\n",
       "    }\n",
       "    30% {\n",
       "      border-color: transparent;\n",
       "      border-left-color: var(--fill-color);\n",
       "      border-top-color: var(--fill-color);\n",
       "      border-right-color: var(--fill-color);\n",
       "    }\n",
       "    40% {\n",
       "      border-color: transparent;\n",
       "      border-right-color: var(--fill-color);\n",
       "      border-top-color: var(--fill-color);\n",
       "    }\n",
       "    60% {\n",
       "      border-color: transparent;\n",
       "      border-right-color: var(--fill-color);\n",
       "    }\n",
       "    80% {\n",
       "      border-color: transparent;\n",
       "      border-right-color: var(--fill-color);\n",
       "      border-bottom-color: var(--fill-color);\n",
       "    }\n",
       "    90% {\n",
       "      border-color: transparent;\n",
       "      border-bottom-color: var(--fill-color);\n",
       "    }\n",
       "  }\n",
       "</style>\n",
       "\n",
       "  <script>\n",
       "    async function quickchart(key) {\n",
       "      const quickchartButtonEl =\n",
       "        document.querySelector('#' + key + ' button');\n",
       "      quickchartButtonEl.disabled = true;  // To prevent multiple clicks.\n",
       "      quickchartButtonEl.classList.add('colab-df-spinner');\n",
       "      try {\n",
       "        const charts = await google.colab.kernel.invokeFunction(\n",
       "            'suggestCharts', [key], {});\n",
       "      } catch (error) {\n",
       "        console.error('Error during call to suggestCharts:', error);\n",
       "      }\n",
       "      quickchartButtonEl.classList.remove('colab-df-spinner');\n",
       "      quickchartButtonEl.classList.add('colab-df-quickchart-complete');\n",
       "    }\n",
       "    (() => {\n",
       "      let quickchartButtonEl =\n",
       "        document.querySelector('#df-6509f740-286c-4825-9ec8-406a8a618f8d button');\n",
       "      quickchartButtonEl.style.display =\n",
       "        google.colab.kernel.accessAllowed ? 'block' : 'none';\n",
       "    })();\n",
       "  </script>\n",
       "</div>\n",
       "\n",
       "    </div>\n",
       "  </div>\n"
      ],
      "text/plain": [
       "     Price_in_thousands  Engine_size  Horsepower  Wheelbase  Width  Length  \\\n",
       "55               12.050          2.5       119.0      117.5   69.4   200.7   \n",
       "104              26.399          3.3       170.0      112.2   74.9   194.8   \n",
       "\n",
       "     Curb_weight  Fuel_capacity  Fuel_efficiency  Power_perf_factor  ...  \\\n",
       "55         3.086           20.0             23.0          47.389531  ...   \n",
       "104        3.991           20.0             21.0          71.171664  ...   \n",
       "\n",
       "     Manufacturer_Plymouth  Manufacturer_Pontiac  Manufacturer_Porsche  \\\n",
       "55                       0                     0                     0   \n",
       "104                      0                     0                     0   \n",
       "\n",
       "     Manufacturer_Saab  Manufacturer_Saturn  Manufacturer_Subaru  \\\n",
       "55                   0                    0                    0   \n",
       "104                  0                    0                    0   \n",
       "\n",
       "     Manufacturer_Toyota  Manufacturer_Volkswagen  Manufacturer_Volvo  \\\n",
       "55                     0                        0                   0   \n",
       "104                    0                        0                   0   \n",
       "\n",
       "     Vehicle_type_Passenger  \n",
       "55                        0  \n",
       "104                       0  \n",
       "\n",
       "[2 rows x 42 columns]"
      ]
     },
     "execution_count": 204,
     "metadata": {},
     "output_type": "execute_result"
    }
   ],
   "source": [
    "x_train.head(2)"
   ]
  },
  {
   "cell_type": "code",
   "execution_count": 205,
   "metadata": {
    "colab": {
     "base_uri": "https://localhost:8080/"
    },
    "executionInfo": {
     "elapsed": 13,
     "status": "ok",
     "timestamp": 1707116094912,
     "user": {
      "displayName": "Purushottam Sharma",
      "userId": "07059085683737545073"
     },
     "user_tz": -330
    },
    "id": "tQ6BZB53tJ73",
    "outputId": "4384a9f4-b2d3-45ff-b366-7bb70ab3b7f9"
   },
   "outputs": [
    {
     "data": {
      "text/plain": [
       "(109, 42)"
      ]
     },
     "execution_count": 205,
     "metadata": {},
     "output_type": "execute_result"
    }
   ],
   "source": [
    "x_train.shape"
   ]
  },
  {
   "cell_type": "code",
   "execution_count": 206,
   "metadata": {
    "colab": {
     "base_uri": "https://localhost:8080/"
    },
    "executionInfo": {
     "elapsed": 4,
     "status": "ok",
     "timestamp": 1707116095814,
     "user": {
      "displayName": "Purushottam Sharma",
      "userId": "07059085683737545073"
     },
     "user_tz": -330
    },
    "id": "7nQdWV-AtOWz",
    "outputId": "d47b850a-5205-4940-83d5-f6d8b7c3d0e8"
   },
   "outputs": [
    {
     "data": {
      "text/plain": [
       "(48, 42)"
      ]
     },
     "execution_count": 206,
     "metadata": {},
     "output_type": "execute_result"
    }
   ],
   "source": [
    "x_test.shape"
   ]
  },
  {
   "cell_type": "code",
   "execution_count": 207,
   "metadata": {
    "colab": {
     "base_uri": "https://localhost:8080/"
    },
    "executionInfo": {
     "elapsed": 7,
     "status": "ok",
     "timestamp": 1707116096793,
     "user": {
      "displayName": "Purushottam Sharma",
      "userId": "07059085683737545073"
     },
     "user_tz": -330
    },
    "id": "mmmdTITotQ1y",
    "outputId": "29d94e52-fef5-46d6-9ce3-6f37a956279a"
   },
   "outputs": [
    {
     "name": "stdout",
     "output_type": "stream",
     "text": [
      "                            OLS Regression Results                            \n",
      "==============================================================================\n",
      "Dep. Variable:                  Sales   R-squared:                       0.493\n",
      "Model:                            OLS   Adj. R-squared:                  0.469\n",
      "Method:                 Least Squares   F-statistic:                     20.05\n",
      "Date:                Mon, 05 Feb 2024   Prob (F-statistic):           6.44e-14\n",
      "Time:                        06:55:03   Log-Likelihood:                -131.41\n",
      "No. Observations:                 109   AIC:                             274.8\n",
      "Df Residuals:                     103   BIC:                             291.0\n",
      "Df Model:                           5                                         \n",
      "Covariance Type:            nonrobust                                         \n",
      "==========================================================================================\n",
      "                             coef    std err          t      P>|t|      [0.025      0.975]\n",
      "------------------------------------------------------------------------------------------\n",
      "const                     -2.0290      1.962     -1.034      0.303      -5.919       1.861\n",
      "Price_in_thousands        -0.0555      0.008     -6.850      0.000      -0.072      -0.039\n",
      "Engine_size                0.3891      0.165      2.362      0.020       0.062       0.716\n",
      "Wheelbase                  0.0397      0.014      2.822      0.006       0.012       0.068\n",
      "Fuel_efficiency            0.0777      0.046      1.686      0.095      -0.014       0.169\n",
      "Vehicle_type_Passenger    -0.5038      0.285     -1.768      0.080      -1.069       0.061\n",
      "==============================================================================\n",
      "Omnibus:                       10.103   Durbin-Watson:                   1.965\n",
      "Prob(Omnibus):                  0.006   Jarque-Bera (JB):               11.386\n",
      "Skew:                          -0.562   Prob(JB):                      0.00337\n",
      "Kurtosis:                       4.115   Cond. No.                     2.81e+03\n",
      "==============================================================================\n",
      "\n",
      "Notes:\n",
      "[1] Standard Errors assume that the covariance matrix of the errors is correctly specified.\n",
      "[2] The condition number is large, 2.81e+03. This might indicate that there are\n",
      "strong multicollinearity or other numerical problems.\n"
     ]
    }
   ],
   "source": [
    "import statsmodels.api as sm\n",
    "x_train1=x_train[['Price_in_thousands',\n",
    "                  'Engine_size',\n",
    "       'Wheelbase',\n",
    "       'Fuel_efficiency',\n",
    "       'Vehicle_type_Passenger']]\n",
    "x_train1=sm.add_constant(x_train1)\n",
    "model=sm.OLS(y_train, x_train1)\n",
    "results=model.fit()\n",
    "print(results.summary())"
   ]
  },
  {
   "cell_type": "code",
   "execution_count": null,
   "metadata": {
    "id": "uZeGtYCCxs3M"
   },
   "outputs": [],
   "source": [
    "y=-0.0528*Price_in_thousands+0.3265*Engine_size+..... -46.0990"
   ]
  },
  {
   "cell_type": "code",
   "execution_count": 91,
   "metadata": {
    "colab": {
     "base_uri": "https://localhost:8080/",
     "height": 161
    },
    "executionInfo": {
     "elapsed": 7,
     "status": "ok",
     "timestamp": 1707111016172,
     "user": {
      "displayName": "Purushottam Sharma",
      "userId": "07059085683737545073"
     },
     "user_tz": -330
    },
    "id": "wiC2uVg1vmaG",
    "outputId": "9d291df9-5fdd-4e24-e62c-2d428ba343b4"
   },
   "outputs": [
    {
     "data": {
      "text/html": [
       "\n",
       "  <div id=\"df-6c0a552d-d7d0-4412-ba3e-39f61cdd1c9c\" class=\"colab-df-container\">\n",
       "    <div>\n",
       "<style scoped>\n",
       "    .dataframe tbody tr th:only-of-type {\n",
       "        vertical-align: middle;\n",
       "    }\n",
       "\n",
       "    .dataframe tbody tr th {\n",
       "        vertical-align: top;\n",
       "    }\n",
       "\n",
       "    .dataframe thead th {\n",
       "        text-align: right;\n",
       "    }\n",
       "</style>\n",
       "<table border=\"1\" class=\"dataframe\">\n",
       "  <thead>\n",
       "    <tr style=\"text-align: right;\">\n",
       "      <th></th>\n",
       "      <th>const</th>\n",
       "      <th>Price_in_thousands</th>\n",
       "      <th>Engine_size</th>\n",
       "      <th>Horsepower</th>\n",
       "      <th>Wheelbase</th>\n",
       "      <th>Width</th>\n",
       "      <th>Length</th>\n",
       "      <th>Curb_weight</th>\n",
       "      <th>Fuel_capacity</th>\n",
       "      <th>Fuel_efficiency</th>\n",
       "      <th>...</th>\n",
       "      <th>Manufacturer_Plymouth</th>\n",
       "      <th>Manufacturer_Pontiac</th>\n",
       "      <th>Manufacturer_Porsche</th>\n",
       "      <th>Manufacturer_Saab</th>\n",
       "      <th>Manufacturer_Saturn</th>\n",
       "      <th>Manufacturer_Subaru</th>\n",
       "      <th>Manufacturer_Toyota</th>\n",
       "      <th>Manufacturer_Volkswagen</th>\n",
       "      <th>Manufacturer_Volvo</th>\n",
       "      <th>Vehicle_type_Passenger</th>\n",
       "    </tr>\n",
       "  </thead>\n",
       "  <tbody>\n",
       "    <tr>\n",
       "      <th>55</th>\n",
       "      <td>1.0</td>\n",
       "      <td>12.050</td>\n",
       "      <td>2.5</td>\n",
       "      <td>119.0</td>\n",
       "      <td>117.5</td>\n",
       "      <td>69.4</td>\n",
       "      <td>200.7</td>\n",
       "      <td>3.086</td>\n",
       "      <td>20.0</td>\n",
       "      <td>23.0</td>\n",
       "      <td>...</td>\n",
       "      <td>0</td>\n",
       "      <td>0</td>\n",
       "      <td>0</td>\n",
       "      <td>0</td>\n",
       "      <td>0</td>\n",
       "      <td>0</td>\n",
       "      <td>0</td>\n",
       "      <td>0</td>\n",
       "      <td>0</td>\n",
       "      <td>0</td>\n",
       "    </tr>\n",
       "    <tr>\n",
       "      <th>104</th>\n",
       "      <td>1.0</td>\n",
       "      <td>26.399</td>\n",
       "      <td>3.3</td>\n",
       "      <td>170.0</td>\n",
       "      <td>112.2</td>\n",
       "      <td>74.9</td>\n",
       "      <td>194.8</td>\n",
       "      <td>3.991</td>\n",
       "      <td>20.0</td>\n",
       "      <td>21.0</td>\n",
       "      <td>...</td>\n",
       "      <td>0</td>\n",
       "      <td>0</td>\n",
       "      <td>0</td>\n",
       "      <td>0</td>\n",
       "      <td>0</td>\n",
       "      <td>0</td>\n",
       "      <td>0</td>\n",
       "      <td>0</td>\n",
       "      <td>0</td>\n",
       "      <td>0</td>\n",
       "    </tr>\n",
       "  </tbody>\n",
       "</table>\n",
       "<p>2 rows × 43 columns</p>\n",
       "</div>\n",
       "    <div class=\"colab-df-buttons\">\n",
       "\n",
       "  <div class=\"colab-df-container\">\n",
       "    <button class=\"colab-df-convert\" onclick=\"convertToInteractive('df-6c0a552d-d7d0-4412-ba3e-39f61cdd1c9c')\"\n",
       "            title=\"Convert this dataframe to an interactive table.\"\n",
       "            style=\"display:none;\">\n",
       "\n",
       "  <svg xmlns=\"http://www.w3.org/2000/svg\" height=\"24px\" viewBox=\"0 -960 960 960\">\n",
       "    <path d=\"M120-120v-720h720v720H120Zm60-500h600v-160H180v160Zm220 220h160v-160H400v160Zm0 220h160v-160H400v160ZM180-400h160v-160H180v160Zm440 0h160v-160H620v160ZM180-180h160v-160H180v160Zm440 0h160v-160H620v160Z\"/>\n",
       "  </svg>\n",
       "    </button>\n",
       "\n",
       "  <style>\n",
       "    .colab-df-container {\n",
       "      display:flex;\n",
       "      gap: 12px;\n",
       "    }\n",
       "\n",
       "    .colab-df-convert {\n",
       "      background-color: #E8F0FE;\n",
       "      border: none;\n",
       "      border-radius: 50%;\n",
       "      cursor: pointer;\n",
       "      display: none;\n",
       "      fill: #1967D2;\n",
       "      height: 32px;\n",
       "      padding: 0 0 0 0;\n",
       "      width: 32px;\n",
       "    }\n",
       "\n",
       "    .colab-df-convert:hover {\n",
       "      background-color: #E2EBFA;\n",
       "      box-shadow: 0px 1px 2px rgba(60, 64, 67, 0.3), 0px 1px 3px 1px rgba(60, 64, 67, 0.15);\n",
       "      fill: #174EA6;\n",
       "    }\n",
       "\n",
       "    .colab-df-buttons div {\n",
       "      margin-bottom: 4px;\n",
       "    }\n",
       "\n",
       "    [theme=dark] .colab-df-convert {\n",
       "      background-color: #3B4455;\n",
       "      fill: #D2E3FC;\n",
       "    }\n",
       "\n",
       "    [theme=dark] .colab-df-convert:hover {\n",
       "      background-color: #434B5C;\n",
       "      box-shadow: 0px 1px 3px 1px rgba(0, 0, 0, 0.15);\n",
       "      filter: drop-shadow(0px 1px 2px rgba(0, 0, 0, 0.3));\n",
       "      fill: #FFFFFF;\n",
       "    }\n",
       "  </style>\n",
       "\n",
       "    <script>\n",
       "      const buttonEl =\n",
       "        document.querySelector('#df-6c0a552d-d7d0-4412-ba3e-39f61cdd1c9c button.colab-df-convert');\n",
       "      buttonEl.style.display =\n",
       "        google.colab.kernel.accessAllowed ? 'block' : 'none';\n",
       "\n",
       "      async function convertToInteractive(key) {\n",
       "        const element = document.querySelector('#df-6c0a552d-d7d0-4412-ba3e-39f61cdd1c9c');\n",
       "        const dataTable =\n",
       "          await google.colab.kernel.invokeFunction('convertToInteractive',\n",
       "                                                    [key], {});\n",
       "        if (!dataTable) return;\n",
       "\n",
       "        const docLinkHtml = 'Like what you see? Visit the ' +\n",
       "          '<a target=\"_blank\" href=https://colab.research.google.com/notebooks/data_table.ipynb>data table notebook</a>'\n",
       "          + ' to learn more about interactive tables.';\n",
       "        element.innerHTML = '';\n",
       "        dataTable['output_type'] = 'display_data';\n",
       "        await google.colab.output.renderOutput(dataTable, element);\n",
       "        const docLink = document.createElement('div');\n",
       "        docLink.innerHTML = docLinkHtml;\n",
       "        element.appendChild(docLink);\n",
       "      }\n",
       "    </script>\n",
       "  </div>\n",
       "\n",
       "\n",
       "<div id=\"df-c423e623-ed93-44ce-8707-fc7483766022\">\n",
       "  <button class=\"colab-df-quickchart\" onclick=\"quickchart('df-c423e623-ed93-44ce-8707-fc7483766022')\"\n",
       "            title=\"Suggest charts\"\n",
       "            style=\"display:none;\">\n",
       "\n",
       "<svg xmlns=\"http://www.w3.org/2000/svg\" height=\"24px\"viewBox=\"0 0 24 24\"\n",
       "     width=\"24px\">\n",
       "    <g>\n",
       "        <path d=\"M19 3H5c-1.1 0-2 .9-2 2v14c0 1.1.9 2 2 2h14c1.1 0 2-.9 2-2V5c0-1.1-.9-2-2-2zM9 17H7v-7h2v7zm4 0h-2V7h2v10zm4 0h-2v-4h2v4z\"/>\n",
       "    </g>\n",
       "</svg>\n",
       "  </button>\n",
       "\n",
       "<style>\n",
       "  .colab-df-quickchart {\n",
       "      --bg-color: #E8F0FE;\n",
       "      --fill-color: #1967D2;\n",
       "      --hover-bg-color: #E2EBFA;\n",
       "      --hover-fill-color: #174EA6;\n",
       "      --disabled-fill-color: #AAA;\n",
       "      --disabled-bg-color: #DDD;\n",
       "  }\n",
       "\n",
       "  [theme=dark] .colab-df-quickchart {\n",
       "      --bg-color: #3B4455;\n",
       "      --fill-color: #D2E3FC;\n",
       "      --hover-bg-color: #434B5C;\n",
       "      --hover-fill-color: #FFFFFF;\n",
       "      --disabled-bg-color: #3B4455;\n",
       "      --disabled-fill-color: #666;\n",
       "  }\n",
       "\n",
       "  .colab-df-quickchart {\n",
       "    background-color: var(--bg-color);\n",
       "    border: none;\n",
       "    border-radius: 50%;\n",
       "    cursor: pointer;\n",
       "    display: none;\n",
       "    fill: var(--fill-color);\n",
       "    height: 32px;\n",
       "    padding: 0;\n",
       "    width: 32px;\n",
       "  }\n",
       "\n",
       "  .colab-df-quickchart:hover {\n",
       "    background-color: var(--hover-bg-color);\n",
       "    box-shadow: 0 1px 2px rgba(60, 64, 67, 0.3), 0 1px 3px 1px rgba(60, 64, 67, 0.15);\n",
       "    fill: var(--button-hover-fill-color);\n",
       "  }\n",
       "\n",
       "  .colab-df-quickchart-complete:disabled,\n",
       "  .colab-df-quickchart-complete:disabled:hover {\n",
       "    background-color: var(--disabled-bg-color);\n",
       "    fill: var(--disabled-fill-color);\n",
       "    box-shadow: none;\n",
       "  }\n",
       "\n",
       "  .colab-df-spinner {\n",
       "    border: 2px solid var(--fill-color);\n",
       "    border-color: transparent;\n",
       "    border-bottom-color: var(--fill-color);\n",
       "    animation:\n",
       "      spin 1s steps(1) infinite;\n",
       "  }\n",
       "\n",
       "  @keyframes spin {\n",
       "    0% {\n",
       "      border-color: transparent;\n",
       "      border-bottom-color: var(--fill-color);\n",
       "      border-left-color: var(--fill-color);\n",
       "    }\n",
       "    20% {\n",
       "      border-color: transparent;\n",
       "      border-left-color: var(--fill-color);\n",
       "      border-top-color: var(--fill-color);\n",
       "    }\n",
       "    30% {\n",
       "      border-color: transparent;\n",
       "      border-left-color: var(--fill-color);\n",
       "      border-top-color: var(--fill-color);\n",
       "      border-right-color: var(--fill-color);\n",
       "    }\n",
       "    40% {\n",
       "      border-color: transparent;\n",
       "      border-right-color: var(--fill-color);\n",
       "      border-top-color: var(--fill-color);\n",
       "    }\n",
       "    60% {\n",
       "      border-color: transparent;\n",
       "      border-right-color: var(--fill-color);\n",
       "    }\n",
       "    80% {\n",
       "      border-color: transparent;\n",
       "      border-right-color: var(--fill-color);\n",
       "      border-bottom-color: var(--fill-color);\n",
       "    }\n",
       "    90% {\n",
       "      border-color: transparent;\n",
       "      border-bottom-color: var(--fill-color);\n",
       "    }\n",
       "  }\n",
       "</style>\n",
       "\n",
       "  <script>\n",
       "    async function quickchart(key) {\n",
       "      const quickchartButtonEl =\n",
       "        document.querySelector('#' + key + ' button');\n",
       "      quickchartButtonEl.disabled = true;  // To prevent multiple clicks.\n",
       "      quickchartButtonEl.classList.add('colab-df-spinner');\n",
       "      try {\n",
       "        const charts = await google.colab.kernel.invokeFunction(\n",
       "            'suggestCharts', [key], {});\n",
       "      } catch (error) {\n",
       "        console.error('Error during call to suggestCharts:', error);\n",
       "      }\n",
       "      quickchartButtonEl.classList.remove('colab-df-spinner');\n",
       "      quickchartButtonEl.classList.add('colab-df-quickchart-complete');\n",
       "    }\n",
       "    (() => {\n",
       "      let quickchartButtonEl =\n",
       "        document.querySelector('#df-c423e623-ed93-44ce-8707-fc7483766022 button');\n",
       "      quickchartButtonEl.style.display =\n",
       "        google.colab.kernel.accessAllowed ? 'block' : 'none';\n",
       "    })();\n",
       "  </script>\n",
       "</div>\n",
       "\n",
       "    </div>\n",
       "  </div>\n"
      ],
      "text/plain": [
       "     const  Price_in_thousands  Engine_size  Horsepower  Wheelbase  Width  \\\n",
       "55     1.0              12.050          2.5       119.0      117.5   69.4   \n",
       "104    1.0              26.399          3.3       170.0      112.2   74.9   \n",
       "\n",
       "     Length  Curb_weight  Fuel_capacity  Fuel_efficiency  ...  \\\n",
       "55    200.7        3.086           20.0             23.0  ...   \n",
       "104   194.8        3.991           20.0             21.0  ...   \n",
       "\n",
       "     Manufacturer_Plymouth  Manufacturer_Pontiac  Manufacturer_Porsche  \\\n",
       "55                       0                     0                     0   \n",
       "104                      0                     0                     0   \n",
       "\n",
       "     Manufacturer_Saab  Manufacturer_Saturn  Manufacturer_Subaru  \\\n",
       "55                   0                    0                    0   \n",
       "104                  0                    0                    0   \n",
       "\n",
       "     Manufacturer_Toyota  Manufacturer_Volkswagen  Manufacturer_Volvo  \\\n",
       "55                     0                        0                   0   \n",
       "104                    0                        0                   0   \n",
       "\n",
       "     Vehicle_type_Passenger  \n",
       "55                        0  \n",
       "104                       0  \n",
       "\n",
       "[2 rows x 43 columns]"
      ]
     },
     "execution_count": 91,
     "metadata": {},
     "output_type": "execute_result"
    }
   ],
   "source": [
    "x_train1.head(2)"
   ]
  },
  {
   "cell_type": "code",
   "execution_count": null,
   "metadata": {
    "id": "k7uls33nFBMC"
   },
   "outputs": [],
   "source": [
    "# SKlearn Model"
   ]
  },
  {
   "cell_type": "code",
   "execution_count": 208,
   "metadata": {
    "executionInfo": {
     "elapsed": 597,
     "status": "ok",
     "timestamp": 1707116633954,
     "user": {
      "displayName": "Purushottam Sharma",
      "userId": "07059085683737545073"
     },
     "user_tz": -330
    },
    "id": "psBktjvCvriI"
   },
   "outputs": [],
   "source": [
    "y=final_data0[\"Sales\"]\n",
    "\n",
    "x=final_data0[['Price_in_thousands',\n",
    "                  'Engine_size',\n",
    "       'Wheelbase',\n",
    "       'Fuel_efficiency',\n",
    "       'Vehicle_type_Passenger']]"
   ]
  },
  {
   "cell_type": "code",
   "execution_count": 209,
   "metadata": {
    "executionInfo": {
     "elapsed": 756,
     "status": "ok",
     "timestamp": 1707116649768,
     "user": {
      "displayName": "Purushottam Sharma",
      "userId": "07059085683737545073"
     },
     "user_tz": -330
    },
    "id": "lzf_04-AFJnH"
   },
   "outputs": [],
   "source": [
    "x_train, x_test, y_train, y_test=train_test_split(x,y, test_size=.3, random_state=88)"
   ]
  },
  {
   "cell_type": "code",
   "execution_count": 210,
   "metadata": {
    "executionInfo": {
     "elapsed": 589,
     "status": "ok",
     "timestamp": 1707116935519,
     "user": {
      "displayName": "Purushottam Sharma",
      "userId": "07059085683737545073"
     },
     "user_tz": -330
    },
    "id": "YrCcheUaFNb1"
   },
   "outputs": [],
   "source": [
    "from sklearn.linear_model import LinearRegression"
   ]
  },
  {
   "cell_type": "code",
   "execution_count": 211,
   "metadata": {
    "executionInfo": {
     "elapsed": 867,
     "status": "ok",
     "timestamp": 1707117143316,
     "user": {
      "displayName": "Purushottam Sharma",
      "userId": "07059085683737545073"
     },
     "user_tz": -330
    },
    "id": "OcWKYC6KGTO2"
   },
   "outputs": [],
   "source": [
    "line=LinearRegression()  # Model object"
   ]
  },
  {
   "cell_type": "code",
   "execution_count": 212,
   "metadata": {
    "colab": {
     "base_uri": "https://localhost:8080/",
     "height": 74
    },
    "executionInfo": {
     "elapsed": 685,
     "status": "ok",
     "timestamp": 1707117213541,
     "user": {
      "displayName": "Purushottam Sharma",
      "userId": "07059085683737545073"
     },
     "user_tz": -330
    },
    "id": "RY0xCp_bHF4k",
    "outputId": "cf7b42ad-5bfa-4094-b5ec-177151206ac7"
   },
   "outputs": [
    {
     "data": {
      "text/html": [
       "<style>#sk-container-id-1 {color: black;background-color: white;}#sk-container-id-1 pre{padding: 0;}#sk-container-id-1 div.sk-toggleable {background-color: white;}#sk-container-id-1 label.sk-toggleable__label {cursor: pointer;display: block;width: 100%;margin-bottom: 0;padding: 0.3em;box-sizing: border-box;text-align: center;}#sk-container-id-1 label.sk-toggleable__label-arrow:before {content: \"▸\";float: left;margin-right: 0.25em;color: #696969;}#sk-container-id-1 label.sk-toggleable__label-arrow:hover:before {color: black;}#sk-container-id-1 div.sk-estimator:hover label.sk-toggleable__label-arrow:before {color: black;}#sk-container-id-1 div.sk-toggleable__content {max-height: 0;max-width: 0;overflow: hidden;text-align: left;background-color: #f0f8ff;}#sk-container-id-1 div.sk-toggleable__content pre {margin: 0.2em;color: black;border-radius: 0.25em;background-color: #f0f8ff;}#sk-container-id-1 input.sk-toggleable__control:checked~div.sk-toggleable__content {max-height: 200px;max-width: 100%;overflow: auto;}#sk-container-id-1 input.sk-toggleable__control:checked~label.sk-toggleable__label-arrow:before {content: \"▾\";}#sk-container-id-1 div.sk-estimator input.sk-toggleable__control:checked~label.sk-toggleable__label {background-color: #d4ebff;}#sk-container-id-1 div.sk-label input.sk-toggleable__control:checked~label.sk-toggleable__label {background-color: #d4ebff;}#sk-container-id-1 input.sk-hidden--visually {border: 0;clip: rect(1px 1px 1px 1px);clip: rect(1px, 1px, 1px, 1px);height: 1px;margin: -1px;overflow: hidden;padding: 0;position: absolute;width: 1px;}#sk-container-id-1 div.sk-estimator {font-family: monospace;background-color: #f0f8ff;border: 1px dotted black;border-radius: 0.25em;box-sizing: border-box;margin-bottom: 0.5em;}#sk-container-id-1 div.sk-estimator:hover {background-color: #d4ebff;}#sk-container-id-1 div.sk-parallel-item::after {content: \"\";width: 100%;border-bottom: 1px solid gray;flex-grow: 1;}#sk-container-id-1 div.sk-label:hover label.sk-toggleable__label {background-color: #d4ebff;}#sk-container-id-1 div.sk-serial::before {content: \"\";position: absolute;border-left: 1px solid gray;box-sizing: border-box;top: 0;bottom: 0;left: 50%;z-index: 0;}#sk-container-id-1 div.sk-serial {display: flex;flex-direction: column;align-items: center;background-color: white;padding-right: 0.2em;padding-left: 0.2em;position: relative;}#sk-container-id-1 div.sk-item {position: relative;z-index: 1;}#sk-container-id-1 div.sk-parallel {display: flex;align-items: stretch;justify-content: center;background-color: white;position: relative;}#sk-container-id-1 div.sk-item::before, #sk-container-id-1 div.sk-parallel-item::before {content: \"\";position: absolute;border-left: 1px solid gray;box-sizing: border-box;top: 0;bottom: 0;left: 50%;z-index: -1;}#sk-container-id-1 div.sk-parallel-item {display: flex;flex-direction: column;z-index: 1;position: relative;background-color: white;}#sk-container-id-1 div.sk-parallel-item:first-child::after {align-self: flex-end;width: 50%;}#sk-container-id-1 div.sk-parallel-item:last-child::after {align-self: flex-start;width: 50%;}#sk-container-id-1 div.sk-parallel-item:only-child::after {width: 0;}#sk-container-id-1 div.sk-dashed-wrapped {border: 1px dashed gray;margin: 0 0.4em 0.5em 0.4em;box-sizing: border-box;padding-bottom: 0.4em;background-color: white;}#sk-container-id-1 div.sk-label label {font-family: monospace;font-weight: bold;display: inline-block;line-height: 1.2em;}#sk-container-id-1 div.sk-label-container {text-align: center;}#sk-container-id-1 div.sk-container {/* jupyter's `normalize.less` sets `[hidden] { display: none; }` but bootstrap.min.css set `[hidden] { display: none !important; }` so we also need the `!important` here to be able to override the default hidden behavior on the sphinx rendered scikit-learn.org. See: https://github.com/scikit-learn/scikit-learn/issues/21755 */display: inline-block !important;position: relative;}#sk-container-id-1 div.sk-text-repr-fallback {display: none;}</style><div id=\"sk-container-id-1\" class=\"sk-top-container\"><div class=\"sk-text-repr-fallback\"><pre>LinearRegression()</pre><b>In a Jupyter environment, please rerun this cell to show the HTML representation or trust the notebook. <br />On GitHub, the HTML representation is unable to render, please try loading this page with nbviewer.org.</b></div><div class=\"sk-container\" hidden><div class=\"sk-item\"><div class=\"sk-estimator sk-toggleable\"><input class=\"sk-toggleable__control sk-hidden--visually\" id=\"sk-estimator-id-1\" type=\"checkbox\" checked><label for=\"sk-estimator-id-1\" class=\"sk-toggleable__label sk-toggleable__label-arrow\">LinearRegression</label><div class=\"sk-toggleable__content\"><pre>LinearRegression()</pre></div></div></div></div></div>"
      ],
      "text/plain": [
       "LinearRegression()"
      ]
     },
     "execution_count": 212,
     "metadata": {},
     "output_type": "execute_result"
    }
   ],
   "source": [
    "line.fit(x_train, y_train)"
   ]
  },
  {
   "cell_type": "code",
   "execution_count": 213,
   "metadata": {
    "colab": {
     "base_uri": "https://localhost:8080/"
    },
    "executionInfo": {
     "elapsed": 727,
     "status": "ok",
     "timestamp": 1707117260516,
     "user": {
      "displayName": "Purushottam Sharma",
      "userId": "07059085683737545073"
     },
     "user_tz": -330
    },
    "id": "63ioPfEoHXFx",
    "outputId": "55e10b62-506d-4c89-adb6-aff0a2c50ac8"
   },
   "outputs": [
    {
     "data": {
      "text/plain": [
       "array([-0.05550874,  0.3891395 ,  0.03973065,  0.07772577, -0.50376232])"
      ]
     },
     "execution_count": 213,
     "metadata": {},
     "output_type": "execute_result"
    }
   ],
   "source": [
    "line.coef_"
   ]
  },
  {
   "cell_type": "code",
   "execution_count": 214,
   "metadata": {
    "colab": {
     "base_uri": "https://localhost:8080/"
    },
    "executionInfo": {
     "elapsed": 10,
     "status": "ok",
     "timestamp": 1707117280775,
     "user": {
      "displayName": "Purushottam Sharma",
      "userId": "07059085683737545073"
     },
     "user_tz": -330
    },
    "id": "NZwClqgBHii3",
    "outputId": "2e1b77bc-789e-4fe2-d0b9-05ac2c74de5b"
   },
   "outputs": [
    {
     "data": {
      "text/plain": [
       "Index(['Price_in_thousands', 'Engine_size', 'Wheelbase', 'Fuel_efficiency',\n",
       "       'Vehicle_type_Passenger'],\n",
       "      dtype='object')"
      ]
     },
     "execution_count": 214,
     "metadata": {},
     "output_type": "execute_result"
    }
   ],
   "source": [
    "x_train.columns"
   ]
  },
  {
   "cell_type": "code",
   "execution_count": 217,
   "metadata": {
    "colab": {
     "base_uri": "https://localhost:8080/"
    },
    "executionInfo": {
     "elapsed": 719,
     "status": "ok",
     "timestamp": 1707117355314,
     "user": {
      "displayName": "Purushottam Sharma",
      "userId": "07059085683737545073"
     },
     "user_tz": -330
    },
    "id": "K1Diw9DAH4ot",
    "outputId": "a1fbab5e-0b71-41d4-b255-deaad326b0df"
   },
   "outputs": [
    {
     "data": {
      "text/plain": [
       "-2.0289813209361065"
      ]
     },
     "execution_count": 217,
     "metadata": {},
     "output_type": "execute_result"
    }
   ],
   "source": [
    "line.intercept_"
   ]
  },
  {
   "cell_type": "code",
   "execution_count": 218,
   "metadata": {
    "executionInfo": {
     "elapsed": 694,
     "status": "ok",
     "timestamp": 1707117373037,
     "user": {
      "displayName": "Purushottam Sharma",
      "userId": "07059085683737545073"
     },
     "user_tz": -330
    },
    "id": "UNOZRLbGHnlF"
   },
   "outputs": [],
   "source": [
    "# dir(line)"
   ]
  },
  {
   "cell_type": "code",
   "execution_count": 219,
   "metadata": {
    "executionInfo": {
     "elapsed": 599,
     "status": "ok",
     "timestamp": 1707117416501,
     "user": {
      "displayName": "Purushottam Sharma",
      "userId": "07059085683737545073"
     },
     "user_tz": -330
    },
    "id": "mnf21-OqHyb4"
   },
   "outputs": [],
   "source": [
    "# model evaluation"
   ]
  },
  {
   "cell_type": "code",
   "execution_count": 220,
   "metadata": {
    "executionInfo": {
     "elapsed": 10,
     "status": "ok",
     "timestamp": 1707117542218,
     "user": {
      "displayName": "Purushottam Sharma",
      "userId": "07059085683737545073"
     },
     "user_tz": -330
    },
    "id": "mu0bq957IIVj"
   },
   "outputs": [],
   "source": [
    "pred_train=line.predict(x_train)"
   ]
  },
  {
   "cell_type": "code",
   "execution_count": 221,
   "metadata": {
    "colab": {
     "base_uri": "https://localhost:8080/"
    },
    "executionInfo": {
     "elapsed": 11,
     "status": "ok",
     "timestamp": 1707117555156,
     "user": {
      "displayName": "Purushottam Sharma",
      "userId": "07059085683737545073"
     },
     "user_tz": -330
    },
    "id": "KERNkOMzInTi",
    "outputId": "0b3c4d93-dc00-4a2d-89b4-00f286642cf9"
   },
   "outputs": [
    {
     "data": {
      "text/plain": [
       "array([4.73103071, 3.87982349, 3.36842762, 3.68476745, 2.63168467,\n",
       "       0.1593991 , 2.83137188, 3.05642068, 3.26877029, 3.55841563,\n",
       "       3.23560037, 2.98558984, 3.22960268, 3.60764611, 2.76669525,\n",
       "       3.799048  , 3.88653459, 4.36486846, 2.44030102, 2.78828233,\n",
       "       3.85601987, 3.32898581, 3.42359917, 2.08728672, 4.45228303,\n",
       "       4.6828333 , 3.40681179, 2.1938104 , 3.36868601, 3.45745992,\n",
       "       3.95057332, 3.64306399, 3.66897176, 1.71053042, 1.7819047 ,\n",
       "       4.14402442, 3.96967   , 3.01101285, 3.68090014, 0.55295924,\n",
       "       4.23060272, 3.50093819, 3.63257533, 3.59820269, 3.49272631,\n",
       "       3.70891445, 5.00082216, 3.81809461, 3.24508308, 3.72681136,\n",
       "       3.47349155, 4.36966172, 3.98597481, 3.81560152, 1.73111187,\n",
       "       4.27391956, 3.70560554, 2.82822017, 3.8978124 , 3.31685868,\n",
       "       2.91342849, 3.17133247, 3.22142373, 3.62369031, 3.21418378,\n",
       "       3.89002168, 3.8392174 , 3.75425957, 3.67814034, 3.73682137,\n",
       "       3.74246035, 3.32429818, 3.82585934, 4.21462788, 3.62922088,\n",
       "       3.5548163 , 3.81681348, 3.17339149, 3.63935095, 2.57609225,\n",
       "       1.7920671 , 3.75584628, 2.76097659, 2.70101345, 3.3087418 ,\n",
       "       3.2243633 , 5.5715079 , 3.31317728, 3.37408165, 3.16064266,\n",
       "       1.13302668, 3.75170875, 3.72756892, 2.84925565, 3.22589257,\n",
       "       4.1918693 , 3.83075982, 2.70217691, 3.60776571, 2.942055  ,\n",
       "       3.48647778, 3.86070609, 3.61832218, 1.93956075, 3.74020022,\n",
       "       3.7152865 , 3.02655057, 3.53260554, 3.53338267])"
      ]
     },
     "execution_count": 221,
     "metadata": {},
     "output_type": "execute_result"
    }
   ],
   "source": [
    "pred_train"
   ]
  },
  {
   "cell_type": "code",
   "execution_count": 222,
   "metadata": {
    "colab": {
     "base_uri": "https://localhost:8080/"
    },
    "executionInfo": {
     "elapsed": 9,
     "status": "ok",
     "timestamp": 1707117562437,
     "user": {
      "displayName": "Purushottam Sharma",
      "userId": "07059085683737545073"
     },
     "user_tz": -330
    },
    "id": "O7qumAUgIqUI",
    "outputId": "2915bd20-a99e-4758-d989-020a71cc52b4"
   },
   "outputs": [
    {
     "data": {
      "text/plain": [
       "55     5.401100\n",
       "104    3.343144\n",
       "36     1.746413\n",
       "109    3.677667\n",
       "98     2.533062\n",
       "         ...   \n",
       "62     3.742041\n",
       "101    3.776043\n",
       "148    2.357925\n",
       "106    4.010202\n",
       "32     2.671525\n",
       "Name: Sales, Length: 109, dtype: float64"
      ]
     },
     "execution_count": 222,
     "metadata": {},
     "output_type": "execute_result"
    }
   ],
   "source": [
    "y_train"
   ]
  },
  {
   "cell_type": "code",
   "execution_count": 223,
   "metadata": {
    "colab": {
     "base_uri": "https://localhost:8080/"
    },
    "executionInfo": {
     "elapsed": 813,
     "status": "ok",
     "timestamp": 1707117634402,
     "user": {
      "displayName": "Purushottam Sharma",
      "userId": "07059085683737545073"
     },
     "user_tz": -330
    },
    "id": "Oy5Pr1-SIsRA",
    "outputId": "7b7fd166-f348-4fdf-c27e-95eb28581504"
   },
   "outputs": [
    {
     "data": {
      "text/plain": [
       "0.6526720719419923"
      ]
     },
     "execution_count": 223,
     "metadata": {},
     "output_type": "execute_result"
    }
   ],
   "source": [
    "MSE=np.mean((pred_train-y_train)**(2))\n",
    "MSE"
   ]
  },
  {
   "cell_type": "code",
   "execution_count": 224,
   "metadata": {
    "executionInfo": {
     "elapsed": 569,
     "status": "ok",
     "timestamp": 1707117701008,
     "user": {
      "displayName": "Purushottam Sharma",
      "userId": "07059085683737545073"
     },
     "user_tz": -330
    },
    "id": "3lSe9DmOI9vV"
   },
   "outputs": [],
   "source": [
    "pred_test=line.predict(x_test)\n"
   ]
  },
  {
   "cell_type": "code",
   "execution_count": 225,
   "metadata": {
    "colab": {
     "base_uri": "https://localhost:8080/"
    },
    "executionInfo": {
     "elapsed": 626,
     "status": "ok",
     "timestamp": 1707117727876,
     "user": {
      "displayName": "Purushottam Sharma",
      "userId": "07059085683737545073"
     },
     "user_tz": -330
    },
    "id": "AQHZEKORJOHI",
    "outputId": "97d1356e-beab-4d69-ede8-a0dad99f2c7e"
   },
   "outputs": [
    {
     "data": {
      "text/plain": [
       "0.7687773739043505"
      ]
     },
     "execution_count": 225,
     "metadata": {},
     "output_type": "execute_result"
    }
   ],
   "source": [
    "MSE_test=np.mean((pred_test-y_test)**(2))\n",
    "MSE_test"
   ]
  },
  {
   "cell_type": "code",
   "execution_count": 226,
   "metadata": {
    "colab": {
     "base_uri": "https://localhost:8080/"
    },
    "executionInfo": {
     "elapsed": 11,
     "status": "ok",
     "timestamp": 1707118236872,
     "user": {
      "displayName": "Purushottam Sharma",
      "userId": "07059085683737545073"
     },
     "user_tz": -330
    },
    "id": "0V2eATW1JUk9",
    "outputId": "48f3db11-62b2-432b-8362-12926c67e28e"
   },
   "outputs": [
    {
     "name": "stdout",
     "output_type": "stream",
     "text": [
      "Train RMSE 0.8078812239073219\n",
      "Test RMSE 0.8767995061040754\n"
     ]
    }
   ],
   "source": [
    "# RMSE- Root mean Squared Error\n",
    "train_rmse=np.sqrt(np.mean((pred_train-y_train)**(2)))\n",
    "test_rmse=np.sqrt(np.mean((pred_test-y_test)**(2)))\n",
    "print(f\"Train RMSE {train_rmse}\\nTest RMSE {test_rmse}\")"
   ]
  },
  {
   "cell_type": "code",
   "execution_count": 227,
   "metadata": {
    "colab": {
     "base_uri": "https://localhost:8080/"
    },
    "executionInfo": {
     "elapsed": 15,
     "status": "ok",
     "timestamp": 1707118567909,
     "user": {
      "displayName": "Purushottam Sharma",
      "userId": "07059085683737545073"
     },
     "user_tz": -330
    },
    "id": "u_EPa3DwLQ6a",
    "outputId": "ad42105f-5dcc-4497-f73a-e72e78e6afb4"
   },
   "outputs": [
    {
     "name": "stdout",
     "output_type": "stream",
     "text": [
      "Train mae 0.6212270001128521\n",
      "Test mae 0.6809916223388436\n"
     ]
    }
   ],
   "source": [
    "#MAE- Mean Absolute Error\n",
    "mae_trn=np.mean(abs(pred_train-y_train))\n",
    "mae_tst=np.mean(abs(pred_test-y_test))\n",
    "print(f\"Train mae {mae_trn}\\nTest mae {mae_tst}\")"
   ]
  },
  {
   "cell_type": "code",
   "execution_count": 229,
   "metadata": {
    "colab": {
     "base_uri": "https://localhost:8080/"
    },
    "executionInfo": {
     "elapsed": 596,
     "status": "ok",
     "timestamp": 1707119006608,
     "user": {
      "displayName": "Purushottam Sharma",
      "userId": "07059085683737545073"
     },
     "user_tz": -330
    },
    "id": "6N0Cz-HcMhjc",
    "outputId": "837ef655-7545-4bba-bbdd-5235aaa0b216"
   },
   "outputs": [
    {
     "name": "stdout",
     "output_type": "stream",
     "text": [
      "Train mape 0.2656867984661559\n",
      "Test mape 0.7276247594230631\n"
     ]
    }
   ],
   "source": [
    "# MAPE- mean absolute percentage error\n",
    "mape_trn=np.mean(abs((pred_train-y_train)/y_train))\n",
    "mape_tst=np.mean(abs((pred_test-y_test)/y_test))\n",
    "print(f\"Train mape {mape_trn}\\nTest mape {mape_tst}\")"
   ]
  },
  {
   "cell_type": "code",
   "execution_count": 230,
   "metadata": {
    "executionInfo": {
     "elapsed": 678,
     "status": "ok",
     "timestamp": 1707119532201,
     "user": {
      "displayName": "Purushottam Sharma",
      "userId": "07059085683737545073"
     },
     "user_tz": -330
    },
    "id": "IMDDevovOGPI"
   },
   "outputs": [],
   "source": [
    "# # Reason for over fitting\n",
    "# 1- data is too small\n",
    "# 2. training data contains irrelavant information , noisy data\n",
    "# 3. model is very complex ( complexity of model is very high)"
   ]
  },
  {
   "cell_type": "code",
   "execution_count": 231,
   "metadata": {
    "executionInfo": {
     "elapsed": 591,
     "status": "ok",
     "timestamp": 1707120356756,
     "user": {
      "displayName": "Purushottam Sharma",
      "userId": "07059085683737545073"
     },
     "user_tz": -330
    },
    "id": "CB0YJetzQNLX"
   },
   "outputs": [],
   "source": [
    "# How to avoid overfitting"
   ]
  },
  {
   "cell_type": "code",
   "execution_count": 236,
   "metadata": {
    "executionInfo": {
     "elapsed": 3,
     "status": "ok",
     "timestamp": 1707120498455,
     "user": {
      "displayName": "Purushottam Sharma",
      "userId": "07059085683737545073"
     },
     "user_tz": -330
    },
    "id": "0Gs1dZl4TWPS"
   },
   "outputs": [],
   "source": [
    "or_train=np.expm1(y_train)\n",
    "pr_train=np.expm1(pred_train)"
   ]
  },
  {
   "cell_type": "code",
   "execution_count": 240,
   "metadata": {
    "colab": {
     "base_uri": "https://localhost:8080/",
     "height": 460
    },
    "executionInfo": {
     "elapsed": 643,
     "status": "ok",
     "timestamp": 1707120642018,
     "user": {
      "displayName": "Purushottam Sharma",
      "userId": "07059085683737545073"
     },
     "user_tz": -330
    },
    "id": "W6vGfqsoTcig",
    "outputId": "84bed168-a04f-4316-8d56-a63b8c90649f"
   },
   "outputs": [
    {
     "data": {
      "text/plain": [
       "<Axes: >"
      ]
     },
     "execution_count": 240,
     "metadata": {},
     "output_type": "execute_result"
    },
    {
     "data": {
      "image/png": "[encoded data removed]",
      "text/plain": [
       "<Figure size 640x480 with 1 Axes>"
      ]
     },
     "metadata": {},
     "output_type": "display_data"
    }
   ],
   "source": [
    "pd.DataFrame({\"Actua_value\":or_train,\"Pred_value\":pr_train}).head(10).plot(kind=\"bar\")"
   ]
  },
  {
   "cell_type": "code",
   "execution_count": 241,
   "metadata": {
    "colab": {
     "base_uri": "https://localhost:8080/",
     "height": 112
    },
    "executionInfo": {
     "elapsed": 27,
     "status": "ok",
     "timestamp": 1707120735763,
     "user": {
      "displayName": "Purushottam Sharma",
      "userId": "07059085683737545073"
     },
     "user_tz": -330
    },
    "id": "X9qWxZSuUwn6",
    "outputId": "ed4ca136-c08b-4728-ebfc-79484c392f07"
   },
   "outputs": [
    {
     "data": {
      "text/html": [
       "\n",
       "  <div id=\"df-ca7e0e33-cda1-43db-aa1c-7d917ac83fdb\" class=\"colab-df-container\">\n",
       "    <div>\n",
       "<style scoped>\n",
       "    .dataframe tbody tr th:only-of-type {\n",
       "        vertical-align: middle;\n",
       "    }\n",
       "\n",
       "    .dataframe tbody tr th {\n",
       "        vertical-align: top;\n",
       "    }\n",
       "\n",
       "    .dataframe thead th {\n",
       "        text-align: right;\n",
       "    }\n",
       "</style>\n",
       "<table border=\"1\" class=\"dataframe\">\n",
       "  <thead>\n",
       "    <tr style=\"text-align: right;\">\n",
       "      <th></th>\n",
       "      <th>Price_in_thousands</th>\n",
       "      <th>Engine_size</th>\n",
       "      <th>Wheelbase</th>\n",
       "      <th>Fuel_efficiency</th>\n",
       "      <th>Vehicle_type_Passenger</th>\n",
       "    </tr>\n",
       "  </thead>\n",
       "  <tbody>\n",
       "    <tr>\n",
       "      <th>55</th>\n",
       "      <td>12.050</td>\n",
       "      <td>2.5</td>\n",
       "      <td>117.5</td>\n",
       "      <td>23.0</td>\n",
       "      <td>0</td>\n",
       "    </tr>\n",
       "    <tr>\n",
       "      <th>104</th>\n",
       "      <td>26.399</td>\n",
       "      <td>3.3</td>\n",
       "      <td>112.2</td>\n",
       "      <td>21.0</td>\n",
       "      <td>0</td>\n",
       "    </tr>\n",
       "  </tbody>\n",
       "</table>\n",
       "</div>\n",
       "    <div class=\"colab-df-buttons\">\n",
       "\n",
       "  <div class=\"colab-df-container\">\n",
       "    <button class=\"colab-df-convert\" onclick=\"convertToInteractive('df-ca7e0e33-cda1-43db-aa1c-7d917ac83fdb')\"\n",
       "            title=\"Convert this dataframe to an interactive table.\"\n",
       "            style=\"display:none;\">\n",
       "\n",
       "  <svg xmlns=\"http://www.w3.org/2000/svg\" height=\"24px\" viewBox=\"0 -960 960 960\">\n",
       "    <path d=\"M120-120v-720h720v720H120Zm60-500h600v-160H180v160Zm220 220h160v-160H400v160Zm0 220h160v-160H400v160ZM180-400h160v-160H180v160Zm440 0h160v-160H620v160ZM180-180h160v-160H180v160Zm440 0h160v-160H620v160Z\"/>\n",
       "  </svg>\n",
       "    </button>\n",
       "\n",
       "  <style>\n",
       "    .colab-df-container {\n",
       "      display:flex;\n",
       "      gap: 12px;\n",
       "    }\n",
       "\n",
       "    .colab-df-convert {\n",
       "      background-color: #E8F0FE;\n",
       "      border: none;\n",
       "      border-radius: 50%;\n",
       "      cursor: pointer;\n",
       "      display: none;\n",
       "      fill: #1967D2;\n",
       "      height: 32px;\n",
       "      padding: 0 0 0 0;\n",
       "      width: 32px;\n",
       "    }\n",
       "\n",
       "    .colab-df-convert:hover {\n",
       "      background-color: #E2EBFA;\n",
       "      box-shadow: 0px 1px 2px rgba(60, 64, 67, 0.3), 0px 1px 3px 1px rgba(60, 64, 67, 0.15);\n",
       "      fill: #174EA6;\n",
       "    }\n",
       "\n",
       "    .colab-df-buttons div {\n",
       "      margin-bottom: 4px;\n",
       "    }\n",
       "\n",
       "    [theme=dark] .colab-df-convert {\n",
       "      background-color: #3B4455;\n",
       "      fill: #D2E3FC;\n",
       "    }\n",
       "\n",
       "    [theme=dark] .colab-df-convert:hover {\n",
       "      background-color: #434B5C;\n",
       "      box-shadow: 0px 1px 3px 1px rgba(0, 0, 0, 0.15);\n",
       "      filter: drop-shadow(0px 1px 2px rgba(0, 0, 0, 0.3));\n",
       "      fill: #FFFFFF;\n",
       "    }\n",
       "  </style>\n",
       "\n",
       "    <script>\n",
       "      const buttonEl =\n",
       "        document.querySelector('#df-ca7e0e33-cda1-43db-aa1c-7d917ac83fdb button.colab-df-convert');\n",
       "      buttonEl.style.display =\n",
       "        google.colab.kernel.accessAllowed ? 'block' : 'none';\n",
       "\n",
       "      async function convertToInteractive(key) {\n",
       "        const element = document.querySelector('#df-ca7e0e33-cda1-43db-aa1c-7d917ac83fdb');\n",
       "        const dataTable =\n",
       "          await google.colab.kernel.invokeFunction('convertToInteractive',\n",
       "                                                    [key], {});\n",
       "        if (!dataTable) return;\n",
       "\n",
       "        const docLinkHtml = 'Like what you see? Visit the ' +\n",
       "          '<a target=\"_blank\" href=https://colab.research.google.com/notebooks/data_table.ipynb>data table notebook</a>'\n",
       "          + ' to learn more about interactive tables.';\n",
       "        element.innerHTML = '';\n",
       "        dataTable['output_type'] = 'display_data';\n",
       "        await google.colab.output.renderOutput(dataTable, element);\n",
       "        const docLink = document.createElement('div');\n",
       "        docLink.innerHTML = docLinkHtml;\n",
       "        element.appendChild(docLink);\n",
       "      }\n",
       "    </script>\n",
       "  </div>\n",
       "\n",
       "\n",
       "<div id=\"df-5b263759-4e61-4a7f-a437-827c0f94e1bb\">\n",
       "  <button class=\"colab-df-quickchart\" onclick=\"quickchart('df-5b263759-4e61-4a7f-a437-827c0f94e1bb')\"\n",
       "            title=\"Suggest charts\"\n",
       "            style=\"display:none;\">\n",
       "\n",
       "<svg xmlns=\"http://www.w3.org/2000/svg\" height=\"24px\"viewBox=\"0 0 24 24\"\n",
       "     width=\"24px\">\n",
       "    <g>\n",
       "        <path d=\"M19 3H5c-1.1 0-2 .9-2 2v14c0 1.1.9 2 2 2h14c1.1 0 2-.9 2-2V5c0-1.1-.9-2-2-2zM9 17H7v-7h2v7zm4 0h-2V7h2v10zm4 0h-2v-4h2v4z\"/>\n",
       "    </g>\n",
       "</svg>\n",
       "  </button>\n",
       "\n",
       "<style>\n",
       "  .colab-df-quickchart {\n",
       "      --bg-color: #E8F0FE;\n",
       "      --fill-color: #1967D2;\n",
       "      --hover-bg-color: #E2EBFA;\n",
       "      --hover-fill-color: #174EA6;\n",
       "      --disabled-fill-color: #AAA;\n",
       "      --disabled-bg-color: #DDD;\n",
       "  }\n",
       "\n",
       "  [theme=dark] .colab-df-quickchart {\n",
       "      --bg-color: #3B4455;\n",
       "      --fill-color: #D2E3FC;\n",
       "      --hover-bg-color: #434B5C;\n",
       "      --hover-fill-color: #FFFFFF;\n",
       "      --disabled-bg-color: #3B4455;\n",
       "      --disabled-fill-color: #666;\n",
       "  }\n",
       "\n",
       "  .colab-df-quickchart {\n",
       "    background-color: var(--bg-color);\n",
       "    border: none;\n",
       "    border-radius: 50%;\n",
       "    cursor: pointer;\n",
       "    display: none;\n",
       "    fill: var(--fill-color);\n",
       "    height: 32px;\n",
       "    padding: 0;\n",
       "    width: 32px;\n",
       "  }\n",
       "\n",
       "  .colab-df-quickchart:hover {\n",
       "    background-color: var(--hover-bg-color);\n",
       "    box-shadow: 0 1px 2px rgba(60, 64, 67, 0.3), 0 1px 3px 1px rgba(60, 64, 67, 0.15);\n",
       "    fill: var(--button-hover-fill-color);\n",
       "  }\n",
       "\n",
       "  .colab-df-quickchart-complete:disabled,\n",
       "  .colab-df-quickchart-complete:disabled:hover {\n",
       "    background-color: var(--disabled-bg-color);\n",
       "    fill: var(--disabled-fill-color);\n",
       "    box-shadow: none;\n",
       "  }\n",
       "\n",
       "  .colab-df-spinner {\n",
       "    border: 2px solid var(--fill-color);\n",
       "    border-color: transparent;\n",
       "    border-bottom-color: var(--fill-color);\n",
       "    animation:\n",
       "      spin 1s steps(1) infinite;\n",
       "  }\n",
       "\n",
       "  @keyframes spin {\n",
       "    0% {\n",
       "      border-color: transparent;\n",
       "      border-bottom-color: var(--fill-color);\n",
       "      border-left-color: var(--fill-color);\n",
       "    }\n",
       "    20% {\n",
       "      border-color: transparent;\n",
       "      border-left-color: var(--fill-color);\n",
       "      border-top-color: var(--fill-color);\n",
       "    }\n",
       "    30% {\n",
       "      border-color: transparent;\n",
       "      border-left-color: var(--fill-color);\n",
       "      border-top-color: var(--fill-color);\n",
       "      border-right-color: var(--fill-color);\n",
       "    }\n",
       "    40% {\n",
       "      border-color: transparent;\n",
       "      border-right-color: var(--fill-color);\n",
       "      border-top-color: var(--fill-color);\n",
       "    }\n",
       "    60% {\n",
       "      border-color: transparent;\n",
       "      border-right-color: var(--fill-color);\n",
       "    }\n",
       "    80% {\n",
       "      border-color: transparent;\n",
       "      border-right-color: var(--fill-color);\n",
       "      border-bottom-color: var(--fill-color);\n",
       "    }\n",
       "    90% {\n",
       "      border-color: transparent;\n",
       "      border-bottom-color: var(--fill-color);\n",
       "    }\n",
       "  }\n",
       "</style>\n",
       "\n",
       "  <script>\n",
       "    async function quickchart(key) {\n",
       "      const quickchartButtonEl =\n",
       "        document.querySelector('#' + key + ' button');\n",
       "      quickchartButtonEl.disabled = true;  // To prevent multiple clicks.\n",
       "      quickchartButtonEl.classList.add('colab-df-spinner');\n",
       "      try {\n",
       "        const charts = await google.colab.kernel.invokeFunction(\n",
       "            'suggestCharts', [key], {});\n",
       "      } catch (error) {\n",
       "        console.error('Error during call to suggestCharts:', error);\n",
       "      }\n",
       "      quickchartButtonEl.classList.remove('colab-df-spinner');\n",
       "      quickchartButtonEl.classList.add('colab-df-quickchart-complete');\n",
       "    }\n",
       "    (() => {\n",
       "      let quickchartButtonEl =\n",
       "        document.querySelector('#df-5b263759-4e61-4a7f-a437-827c0f94e1bb button');\n",
       "      quickchartButtonEl.style.display =\n",
       "        google.colab.kernel.accessAllowed ? 'block' : 'none';\n",
       "    })();\n",
       "  </script>\n",
       "</div>\n",
       "\n",
       "    </div>\n",
       "  </div>\n"
      ],
      "text/plain": [
       "     Price_in_thousands  Engine_size  Wheelbase  Fuel_efficiency  \\\n",
       "55               12.050          2.5      117.5             23.0   \n",
       "104              26.399          3.3      112.2             21.0   \n",
       "\n",
       "     Vehicle_type_Passenger  \n",
       "55                        0  \n",
       "104                       0  "
      ]
     },
     "execution_count": 241,
     "metadata": {},
     "output_type": "execute_result"
    }
   ],
   "source": [
    "x_train.head(2)"
   ]
  },
  {
   "cell_type": "code",
   "execution_count": 245,
   "metadata": {
    "colab": {
     "base_uri": "https://localhost:8080/"
    },
    "executionInfo": {
     "elapsed": 630,
     "status": "ok",
     "timestamp": 1707120879021,
     "user": {
      "displayName": "Purushottam Sharma",
      "userId": "07059085683737545073"
     },
     "user_tz": -330
    },
    "id": "y-8DE4KCUDM2",
    "outputId": "3f97fddd-2c46-4ffb-cdc3-b05c32699fa3"
   },
   "outputs": [
    {
     "data": {
      "text/plain": [
       "array([30.29899893, 50.79783902])"
      ]
     },
     "execution_count": 245,
     "metadata": {},
     "output_type": "execute_result"
    }
   ],
   "source": [
    "new_data=pd.DataFrame({\"Price_in_thousands\":[30, 30],\n",
    "                       \"Engine_size\":[3,3],\n",
    "                       \"Wheelbase\":[116,116],\n",
    "                       \"Fuel_efficiency\":[24,24],\n",
    "                       \"Vehicle_type_Passenger\":[1,0]})\n",
    "np.expm1(line.predict(new_data))"
   ]
  },
  {
   "cell_type": "code",
   "execution_count": null,
   "metadata": {
    "id": "WhDhROKnVKGA"
   },
   "outputs": [],
   "source": []
  }
 ],
 "metadata": {
  "colab": {
   "authorship_tag": "ABX9TyNk6e4trQezM6D1gy6Sjr6w",
   "mount_file_id": "12tbZIpnLZiL2PV-tL1fs8_IjAZ-P3K66",
   "provenance": []
  },
  "kernelspec": {
   "display_name": "Python 3 (ipykernel)",
   "language": "python",
   "name": "python3"
  },
  "language_info": {
   "codemirror_mode": {
    "name": "ipython",
    "version": 3
   },
   "file_extension": ".py",
   "mimetype": "text/x-python",
   "name": "python",
   "nbconvert_exporter": "python",
   "pygments_lexer": "ipython3",
   "version": "3.11.5"
  }
 },
 "nbformat": 4,
 "nbformat_minor": 1
}
